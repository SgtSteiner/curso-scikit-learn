{
 "cells": [
  {
   "cell_type": "markdown",
   "source": [
    "---\n",
    "title: \"Evaluacion del rendimiento de modelos\"\n",
    "date: 2022-05-03T17:30:50+02:00\n",
    "tags: [dummy, baseline, ]\n",
    "categories: [tutoriales]\n",
    "---"
   ],
   "metadata": {
    "collapsed": false,
    "pycharm": {
     "name": "#%% md\n"
    }
   },
   "outputs": [
    {
     "ename": "SyntaxError",
     "evalue": "leading zeros in decimal integer literals are not permitted; use an 0o prefix for octal integers (4061394301.py, line 3)",
     "output_type": "error",
     "traceback": [
      "\u001B[1;36m  Input \u001B[1;32mIn [1]\u001B[1;36m\u001B[0m\n\u001B[1;33m    date: 2022-05-03T17:30:50+02:00\u001B[0m\n\u001B[1;37m               ^\u001B[0m\n\u001B[1;31mSyntaxError\u001B[0m\u001B[1;31m:\u001B[0m leading zeros in decimal integer literals are not permitted; use an 0o prefix for octal integers\n"
     ]
    }
   ],
   "execution_count": 1
  },
  {
   "cell_type": "markdown",
   "source": [
    "En anteriores posts vimos el framework general de validación cruzada y su uso para evaluar el rendimiento de modelos. Sin embargo, es importante tener en cuenta que algunos elementos de la validación cruzada deben decidirse en función de la naturaleza del problema: (i) la estrategia de validación cruzada y (ii) las métricas de evaluación. Además, siempre es bueno comparar el rendimiento de los modelos respecto de alguna línea base.\n",
    "\n",
    "En este post presentaremos ambos aspectos y ofreceremos intuiciones e ideas de cuándo usar una estrategia de validación cruzada y métrica específicas. Además, también daremos algunas ideas sobre cómo comparar un modelo con alguna línea base.\n",
    "\n",
    "Como objetivos generales intentaremos:\n",
    "\n",
    "+ comprender la necesidad de usar una estrategia adecuada de validación cruzada dependiendo de los datos;\n",
    "+ obtener las intuiciones y principios que hay detrás del uso de la validación cruzada anidada cuando el modelo necesita ser evaluado y optimizado;\n",
    "+ comprender las diferencias entre las métricas de regresión y clasificación;\n",
    "+ comprender las diferencias entre métricas."
   ],
   "metadata": {
    "collapsed": false,
    "pycharm": {
     "name": "#%% md\n"
    }
   }
  },
  {
   "cell_type": "markdown",
   "source": [
    "# Comparación del rendimiento del modelo con una línea base simple"
   ],
   "metadata": {
    "collapsed": false,
    "pycharm": {
     "name": "#%% md\n"
    }
   }
  },
  {
   "cell_type": "markdown",
   "source": [
    "Vamos a ver cómo comparar el rendimiento de generalización de un modelo con una mínima linea base. En regresión, podemos usar la clase `DummyRegressor` para predecir el valor medio del objetivo observado en el conjunto de entrenamiento sin usar las variables de entrada.\n",
    "\n",
    "Demostraremos cómo calcular la puntuación de un modelo de regresión y compararlo con una línea base en el dataset de viviendas de California."
   ],
   "metadata": {
    "collapsed": false,
    "pycharm": {
     "name": "#%% md\n"
    }
   }
  },
  {
   "cell_type": "code",
   "execution_count": 127,
   "outputs": [],
   "source": [
    "from sklearn.datasets import fetch_california_housing\n",
    "\n",
    "X, y = fetch_california_housing(return_X_y=True, as_frame=True)\n",
    "y *= 100  # reescala el objetivo en k$"
   ],
   "metadata": {
    "collapsed": false,
    "pycharm": {
     "name": "#%%\n"
    }
   }
  },
  {
   "cell_type": "markdown",
   "source": [
    "En todas las evaluaciones usaremos un divisor de validación cruzada `ShuffleSplit` con el 20% de los datos reservados para validación."
   ],
   "metadata": {
    "collapsed": false,
    "pycharm": {
     "name": "#%% md\n"
    }
   }
  },
  {
   "cell_type": "code",
   "execution_count": 128,
   "outputs": [],
   "source": [
    "from sklearn.model_selection import ShuffleSplit\n",
    "\n",
    "cv = ShuffleSplit(n_splits=30, test_size=0.2, random_state=0)"
   ],
   "metadata": {
    "collapsed": false,
    "pycharm": {
     "name": "#%%\n"
    }
   }
  },
  {
   "cell_type": "markdown",
   "source": [
    "Empezaremos ejecutando la validación cruzada para un simple árbol de decisión regresor, que es nuestro modelo de interés. Además, almacenaremos el error de prueba en un objeto serie de pandas para hacer más sencillo dibujar los resultados."
   ],
   "metadata": {
    "collapsed": false,
    "pycharm": {
     "name": "#%% md\n"
    }
   }
  },
  {
   "cell_type": "code",
   "execution_count": 129,
   "outputs": [
    {
     "data": {
      "text/plain": "count    30.000000\nmean     45.741313\nstd       1.260054\nmin      43.200330\n25%      44.821907\n50%      45.881654\n75%      46.675914\nmax      48.212643\nName: Arbol decisión regresor, dtype: float64"
     },
     "execution_count": 129,
     "metadata": {},
     "output_type": "execute_result"
    }
   ],
   "source": [
    "import pandas as pd\n",
    "from sklearn.tree import DecisionTreeRegressor\n",
    "from sklearn.model_selection import cross_validate\n",
    "\n",
    "regressor = DecisionTreeRegressor()\n",
    "cv_results_tree_regressor = cross_validate(\n",
    "    regressor, X, y, cv=cv, scoring=\"neg_mean_absolute_error\", n_jobs=-1\n",
    ")\n",
    "\n",
    "errors_tree_regressor = pd.Series(\n",
    "    -cv_results_tree_regressor[\"test_score\"], name=\"Arbol decisión regresor\"\n",
    ")\n",
    "errors_tree_regressor.describe()"
   ],
   "metadata": {
    "collapsed": false,
    "pycharm": {
     "name": "#%%\n"
    }
   }
  },
  {
   "cell_type": "markdown",
   "source": [
    "Luego, evaluamos nuestra línea base.  Esta línea base se denomina regresor dummy. Este regresor dummy siempre predecirá la media del objetivo calculada en la variable objetivo de entrenamiento. Por lo tanto, el regresor dummy no usa ninguna información de las variables de entrada almacenadas en el dataframe llamado `X`."
   ],
   "metadata": {
    "collapsed": false,
    "pycharm": {
     "name": "#%% md\n"
    }
   }
  },
  {
   "cell_type": "code",
   "execution_count": 130,
   "outputs": [
    {
     "data": {
      "text/plain": "count    30.000000\nmean     91.140009\nstd       0.821140\nmin      89.757566\n25%      90.543652\n50%      91.034555\n75%      91.979007\nmax      92.477244\nName: Regresor dummy, dtype: float64"
     },
     "execution_count": 130,
     "metadata": {},
     "output_type": "execute_result"
    }
   ],
   "source": [
    "from sklearn.dummy import DummyRegressor\n",
    "\n",
    "dummy = DummyRegressor(strategy=\"mean\")\n",
    "result_dummy = cross_validate(\n",
    "    dummy, X, y, cv=cv, scoring=\"neg_mean_absolute_error\", n_jobs=-1\n",
    ")\n",
    "errors_dummy_regressor = pd.Series(\n",
    "    -result_dummy[\"test_score\"], name=\"Regresor dummy\"\n",
    ")\n",
    "errors_dummy_regressor.describe()"
   ],
   "metadata": {
    "collapsed": false,
    "pycharm": {
     "name": "#%%\n"
    }
   }
  },
  {
   "cell_type": "markdown",
   "source": [
    "Ahora dibujaremos los errores de prueba de la validación cruzada para la línea base usando la media del objetivo y el actual árbol de decisión regresor."
   ],
   "metadata": {
    "collapsed": false,
    "pycharm": {
     "name": "#%% md\n"
    }
   }
  },
  {
   "cell_type": "code",
   "execution_count": 131,
   "outputs": [
    {
     "data": {
      "text/plain": "    Arbol decisión regresor  Regresor dummy\n0                 47.230613       90.713153\n1                 46.907604       90.539353\n2                 44.125476       91.941912\n3                 43.200330       90.213912\n4                 48.212643       92.015862\n5                 45.013750       90.542490\n6                 43.673512       89.757566\n7                 44.610531       92.477244\n8                 45.794589       90.947952\n9                 44.757960       91.991373\n10                46.796361       92.023571\n11                45.885602       90.556965\n12                45.497447       91.539567\n13                45.423249       91.185225\n14                46.838532       92.298971\n15                44.563873       91.084639\n16                46.041786       90.984471\n17                46.472060       89.981744\n18                45.015640       90.547140\n19                47.393574       89.820219\n20                43.568961       91.768721\n21                46.202537       92.305556\n22                45.877706       90.503017\n23                46.347960       92.147974\n24                46.072039       91.386320\n25                45.743915       90.815660\n26                44.447528       92.216574\n27                46.743865       90.107460\n28                45.960721       90.620318\n29                47.819011       91.165331",
      "text/html": "<div>\n<style scoped>\n    .dataframe tbody tr th:only-of-type {\n        vertical-align: middle;\n    }\n\n    .dataframe tbody tr th {\n        vertical-align: top;\n    }\n\n    .dataframe thead th {\n        text-align: right;\n    }\n</style>\n<table border=\"1\" class=\"dataframe\">\n  <thead>\n    <tr style=\"text-align: right;\">\n      <th></th>\n      <th>Arbol decisión regresor</th>\n      <th>Regresor dummy</th>\n    </tr>\n  </thead>\n  <tbody>\n    <tr>\n      <th>0</th>\n      <td>47.230613</td>\n      <td>90.713153</td>\n    </tr>\n    <tr>\n      <th>1</th>\n      <td>46.907604</td>\n      <td>90.539353</td>\n    </tr>\n    <tr>\n      <th>2</th>\n      <td>44.125476</td>\n      <td>91.941912</td>\n    </tr>\n    <tr>\n      <th>3</th>\n      <td>43.200330</td>\n      <td>90.213912</td>\n    </tr>\n    <tr>\n      <th>4</th>\n      <td>48.212643</td>\n      <td>92.015862</td>\n    </tr>\n    <tr>\n      <th>5</th>\n      <td>45.013750</td>\n      <td>90.542490</td>\n    </tr>\n    <tr>\n      <th>6</th>\n      <td>43.673512</td>\n      <td>89.757566</td>\n    </tr>\n    <tr>\n      <th>7</th>\n      <td>44.610531</td>\n      <td>92.477244</td>\n    </tr>\n    <tr>\n      <th>8</th>\n      <td>45.794589</td>\n      <td>90.947952</td>\n    </tr>\n    <tr>\n      <th>9</th>\n      <td>44.757960</td>\n      <td>91.991373</td>\n    </tr>\n    <tr>\n      <th>10</th>\n      <td>46.796361</td>\n      <td>92.023571</td>\n    </tr>\n    <tr>\n      <th>11</th>\n      <td>45.885602</td>\n      <td>90.556965</td>\n    </tr>\n    <tr>\n      <th>12</th>\n      <td>45.497447</td>\n      <td>91.539567</td>\n    </tr>\n    <tr>\n      <th>13</th>\n      <td>45.423249</td>\n      <td>91.185225</td>\n    </tr>\n    <tr>\n      <th>14</th>\n      <td>46.838532</td>\n      <td>92.298971</td>\n    </tr>\n    <tr>\n      <th>15</th>\n      <td>44.563873</td>\n      <td>91.084639</td>\n    </tr>\n    <tr>\n      <th>16</th>\n      <td>46.041786</td>\n      <td>90.984471</td>\n    </tr>\n    <tr>\n      <th>17</th>\n      <td>46.472060</td>\n      <td>89.981744</td>\n    </tr>\n    <tr>\n      <th>18</th>\n      <td>45.015640</td>\n      <td>90.547140</td>\n    </tr>\n    <tr>\n      <th>19</th>\n      <td>47.393574</td>\n      <td>89.820219</td>\n    </tr>\n    <tr>\n      <th>20</th>\n      <td>43.568961</td>\n      <td>91.768721</td>\n    </tr>\n    <tr>\n      <th>21</th>\n      <td>46.202537</td>\n      <td>92.305556</td>\n    </tr>\n    <tr>\n      <th>22</th>\n      <td>45.877706</td>\n      <td>90.503017</td>\n    </tr>\n    <tr>\n      <th>23</th>\n      <td>46.347960</td>\n      <td>92.147974</td>\n    </tr>\n    <tr>\n      <th>24</th>\n      <td>46.072039</td>\n      <td>91.386320</td>\n    </tr>\n    <tr>\n      <th>25</th>\n      <td>45.743915</td>\n      <td>90.815660</td>\n    </tr>\n    <tr>\n      <th>26</th>\n      <td>44.447528</td>\n      <td>92.216574</td>\n    </tr>\n    <tr>\n      <th>27</th>\n      <td>46.743865</td>\n      <td>90.107460</td>\n    </tr>\n    <tr>\n      <th>28</th>\n      <td>45.960721</td>\n      <td>90.620318</td>\n    </tr>\n    <tr>\n      <th>29</th>\n      <td>47.819011</td>\n      <td>91.165331</td>\n    </tr>\n  </tbody>\n</table>\n</div>"
     },
     "execution_count": 131,
     "metadata": {},
     "output_type": "execute_result"
    }
   ],
   "source": [
    "all_errors = pd.concat(\n",
    "    [errors_tree_regressor, errors_dummy_regressor],\n",
    "    axis=1,\n",
    ")\n",
    "all_errors"
   ],
   "metadata": {
    "collapsed": false,
    "pycharm": {
     "name": "#%%\n"
    }
   }
  },
  {
   "cell_type": "code",
   "execution_count": 132,
   "outputs": [
    {
     "data": {
      "text/plain": "<Figure size 432x288 with 1 Axes>",
      "image/png": "[encoded data removed]"
     },
     "metadata": {
      "needs_background": "light"
     },
     "output_type": "display_data"
    }
   ],
   "source": [
    "import matplotlib.pyplot as plt\n",
    "import numpy as np\n",
    "\n",
    "bins = np.linspace(start=0, stop=100, num=80)\n",
    "all_errors.plot.hist(bins=bins, edgecolor=\"black\")\n",
    "plt.legend(bbox_to_anchor=(1.05, 0.8), loc=\"upper left\")\n",
    "plt.xlabel(\"Error absoluto medio (k$)\")\n",
    "_ = plt.title(\"Errores de prueba de validación cruzada\")"
   ],
   "metadata": {
    "collapsed": false,
    "pycharm": {
     "name": "#%%\n"
    }
   }
  },
  {
   "cell_type": "markdown",
   "source": [
    "Vemos que el rendimiento de generalización de nuestro ábol de decisión está lejos de ser perfecto: las predicciones del precio tiene aproximadamente un márgen de error de 45000 dólares de media. Sin embargo, es mucho mejor que el margen de error de la línea base. Por tanto, esto confirma que es posible predecir mucho mejor el precio de la vivienda usando un modelo que tenga en cuenta los valores de las variables de entrada (localización de la propiedad, tamaño, ingresos del vecindario, etc.). Dicho modelo hace predicciones más formadas y, aproximadamente, divide la tasa de error por la mitad comparado con la línea base que ignora las variables de entrada.\n",
    "\n",
    "Observemos que hemos usado la media del precio como predicción de línea base. Podríamos haber usado en su lugar la mediana. Véase la documentación online de la clase [`sklearn.dummy.DummyRegressor`](https://scikit-learn.org/stable/modules/generated/sklearn.dummy.DummyRegressor.html) para otras opciones. Para este ejemplo en particular, no existe mucha diferencia entre usar la media en lugar de la mediana, pero este podría ser el caso de un dataset con valores atípicos extremos."
   ],
   "metadata": {
    "collapsed": false,
    "pycharm": {
     "name": "#%% md\n"
    }
   }
  },
  {
   "cell_type": "markdown",
   "source": [
    "## Ejercicio"
   ],
   "metadata": {
    "collapsed": false,
    "pycharm": {
     "name": "#%% md\n"
    }
   }
  },
  {
   "cell_type": "markdown",
   "source": [
    "Vamos a poner en práctica lo aprendido hasta ahora. Definiremos una línea base con un clasificador dummy y lo usaremos como referencia para evaluar el rendimiento predictivo relativo de un modelo de interés dado.\n",
    "\n",
    "Ilustraremos dicha línea base con la ayuda del dataset del censo de adultos, usando únicamente las variables numéricas, por simplicidad."
   ],
   "metadata": {
    "collapsed": false,
    "pycharm": {
     "name": "#%% md\n"
    }
   }
  },
  {
   "cell_type": "code",
   "execution_count": 133,
   "outputs": [],
   "source": [
    "adult_census = pd.read_csv(\"../data/adult-census-numeric-all.csv\")\n",
    "X, y = adult_census.drop(columns=\"class\"), adult_census[\"class\"]"
   ],
   "metadata": {
    "collapsed": false,
    "pycharm": {
     "name": "#%%\n"
    }
   }
  },
  {
   "cell_type": "markdown",
   "source": [
    "Primero definiremos una estrategia de validación cruzada con `ShuffleSplit` tomando la mitad de las muestras como prueba en cada ciclo. Usaremos 10 ciclos de validación cruzada."
   ],
   "metadata": {
    "collapsed": false,
    "pycharm": {
     "name": "#%% md\n"
    }
   }
  },
  {
   "cell_type": "code",
   "execution_count": 134,
   "outputs": [],
   "source": [
    "cv = ShuffleSplit(n_splits=10, test_size=0.5, random_state=0)"
   ],
   "metadata": {
    "collapsed": false,
    "pycharm": {
     "name": "#%%\n"
    }
   }
  },
  {
   "cell_type": "markdown",
   "source": [
    "Lo siguiente es crear un pipeline de machine learning compuesto por un transformador para estandarizar los datos seguido por un clasificador de regresión logística."
   ],
   "metadata": {
    "collapsed": false,
    "pycharm": {
     "name": "#%% md\n"
    }
   }
  },
  {
   "cell_type": "code",
   "execution_count": 135,
   "outputs": [],
   "source": [
    "from sklearn.preprocessing import StandardScaler\n",
    "from sklearn.linear_model import LogisticRegression\n",
    "from sklearn.pipeline import make_pipeline\n",
    "\n",
    "classifier = make_pipeline(StandardScaler(), LogisticRegression())\n"
   ],
   "metadata": {
    "collapsed": false,
    "pycharm": {
     "name": "#%%\n"
    }
   }
  },
  {
   "cell_type": "markdown",
   "source": [
    "Calculemos ahora las puntuaciones de prueba de validación cruzada para el clasificador en este dataset y almacenaremos los resultados en una Series de panda."
   ],
   "metadata": {
    "collapsed": false,
    "pycharm": {
     "name": "#%% md\n"
    }
   }
  },
  {
   "cell_type": "code",
   "execution_count": 136,
   "outputs": [
    {
     "data": {
      "text/plain": "0    0.815937\n1    0.813849\n2    0.815036\n3    0.815569\n4    0.810982\n5    0.814709\n6    0.813112\n7    0.810327\n8    0.812416\n9    0.816388\nName: Regresión logística, dtype: float64"
     },
     "execution_count": 136,
     "metadata": {},
     "output_type": "execute_result"
    }
   ],
   "source": [
    "from sklearn.model_selection import cross_validate\n",
    "\n",
    "cv_results_logistic_regression = cross_validate(\n",
    "    classifier, X, y, cv=cv, n_jobs=-1)\n",
    "\n",
    "test_score_logistic_regression = pd.Series(\n",
    "    cv_results_logistic_regression[\"test_score\"], name=\"Regresión logística\"\n",
    ")\n",
    "test_score_logistic_regression"
   ],
   "metadata": {
    "collapsed": false,
    "pycharm": {
     "name": "#%%\n"
    }
   }
  },
  {
   "cell_type": "markdown",
   "source": [
    "Ahora calcularemos las puntuaciones de validación cruzada de un clasificador dummy que prediga constantemente la clase más frecuente observada en el conjunto de entrenamiento. Almacenaremos los resultados en un Series de panda."
   ],
   "metadata": {
    "collapsed": false,
    "pycharm": {
     "name": "#%% md\n"
    }
   }
  },
  {
   "cell_type": "code",
   "execution_count": 137,
   "outputs": [
    {
     "data": {
      "text/plain": "0    0.760329\n1    0.756808\n2    0.759142\n3    0.760739\n4    0.761681\n5    0.761885\n6    0.757463\n7    0.757176\n8    0.761885\n9    0.763114\nName: Most-frequent dummy, dtype: float64"
     },
     "execution_count": 137,
     "metadata": {},
     "output_type": "execute_result"
    }
   ],
   "source": [
    "from sklearn.dummy import DummyClassifier\n",
    "\n",
    "dummy_most_frequent = DummyClassifier(strategy=\"most_frequent\")\n",
    "result_dummy = cross_validate(\n",
    "    dummy_most_frequent, X, y, cv=cv, n_jobs=-1\n",
    ")\n",
    "test_dummy_most_frequent = pd.Series(\n",
    "    result_dummy[\"test_score\"], name=\"Most-frequent dummy\"\n",
    ")\n",
    "test_dummy_most_frequent"
   ],
   "metadata": {
    "collapsed": false,
    "pycharm": {
     "name": "#%%\n"
    }
   }
  },
  {
   "cell_type": "markdown",
   "source": [
    "Ahora que hemos recopilado los resultados tanto de la línea base como del modelo, vamos a concatenar las puntuaciones de prueba como columnas en un dataframe de pandas."
   ],
   "metadata": {
    "collapsed": false,
    "pycharm": {
     "name": "#%% md\n"
    }
   }
  },
  {
   "cell_type": "code",
   "execution_count": 138,
   "outputs": [
    {
     "data": {
      "text/plain": "   Regresión logística  Most-frequent dummy\n0             0.815937             0.760329\n1             0.813849             0.756808\n2             0.815036             0.759142\n3             0.815569             0.760739\n4             0.810982             0.761681\n5             0.814709             0.761885\n6             0.813112             0.757463\n7             0.810327             0.757176\n8             0.812416             0.761885\n9             0.816388             0.763114",
      "text/html": "<div>\n<style scoped>\n    .dataframe tbody tr th:only-of-type {\n        vertical-align: middle;\n    }\n\n    .dataframe tbody tr th {\n        vertical-align: top;\n    }\n\n    .dataframe thead th {\n        text-align: right;\n    }\n</style>\n<table border=\"1\" class=\"dataframe\">\n  <thead>\n    <tr style=\"text-align: right;\">\n      <th></th>\n      <th>Regresión logística</th>\n      <th>Most-frequent dummy</th>\n    </tr>\n  </thead>\n  <tbody>\n    <tr>\n      <th>0</th>\n      <td>0.815937</td>\n      <td>0.760329</td>\n    </tr>\n    <tr>\n      <th>1</th>\n      <td>0.813849</td>\n      <td>0.756808</td>\n    </tr>\n    <tr>\n      <th>2</th>\n      <td>0.815036</td>\n      <td>0.759142</td>\n    </tr>\n    <tr>\n      <th>3</th>\n      <td>0.815569</td>\n      <td>0.760739</td>\n    </tr>\n    <tr>\n      <th>4</th>\n      <td>0.810982</td>\n      <td>0.761681</td>\n    </tr>\n    <tr>\n      <th>5</th>\n      <td>0.814709</td>\n      <td>0.761885</td>\n    </tr>\n    <tr>\n      <th>6</th>\n      <td>0.813112</td>\n      <td>0.757463</td>\n    </tr>\n    <tr>\n      <th>7</th>\n      <td>0.810327</td>\n      <td>0.757176</td>\n    </tr>\n    <tr>\n      <th>8</th>\n      <td>0.812416</td>\n      <td>0.761885</td>\n    </tr>\n    <tr>\n      <th>9</th>\n      <td>0.816388</td>\n      <td>0.763114</td>\n    </tr>\n  </tbody>\n</table>\n</div>"
     },
     "execution_count": 138,
     "metadata": {},
     "output_type": "execute_result"
    }
   ],
   "source": [
    "all_scores = pd.concat(\n",
    "    [test_score_logistic_regression, test_dummy_most_frequent],\n",
    "    axis=1,\n",
    ")\n",
    "all_scores"
   ],
   "metadata": {
    "collapsed": false,
    "pycharm": {
     "name": "#%%\n"
    }
   }
  },
  {
   "cell_type": "markdown",
   "source": [
    "Lo siguiente que haremos será dibujar el histograma de las puntuaciones de prueba de validación cruzada para ambos modelos con la ayuda de la [función de dibujado incorporada en pandas](https://pandas.pydata.org/pandas-docs/stable/user_guide/visualization.html#histograms). ¿Qué conclusiones obtenemos de los resultados?"
   ],
   "metadata": {
    "collapsed": false,
    "pycharm": {
     "name": "#%% md\n"
    }
   }
  },
  {
   "cell_type": "code",
   "execution_count": 139,
   "outputs": [
    {
     "data": {
      "text/plain": "<Figure size 432x288 with 1 Axes>",
      "image/png": "[encoded data removed]"
     },
     "metadata": {
      "needs_background": "light"
     },
     "output_type": "display_data"
    }
   ],
   "source": [
    "import matplotlib.pyplot as plt\n",
    "import numpy as np\n",
    "\n",
    "bins = np.linspace(start=0.5, stop=1.0, num=100)\n",
    "all_scores.plot.hist(bins=bins, edgecolor=\"black\")\n",
    "plt.legend(bbox_to_anchor=(1.05, 0.8), loc=\"upper left\")\n",
    "plt.xlabel(\"Accuracy (%)\")\n",
    "_ = plt.title(\"Puntuaciones de prueba de validación cruzada\")"
   ],
   "metadata": {
    "collapsed": false,
    "pycharm": {
     "name": "#%%\n"
    }
   }
  },
  {
   "cell_type": "markdown",
   "source": [
    "Observamos que los dos histogramas están bien separados. Por lo tanto el clasificador dummy con la estrategia `most_frequent` tiene mucha menos precisión que el clasificador de regresión logística. Podemos concluir que el modelo de regresión logística puede encontrar satisfactoriamente información predictiva en las variables de entrada para mejorar la línea base."
   ],
   "metadata": {
    "collapsed": false,
    "pycharm": {
     "name": "#%% md\n"
    }
   }
  },
  {
   "cell_type": "markdown",
   "source": [
    "Por último, vamos a cambiar la estrategia del clasificador dummy a `\"stratified\"` y calcularemos los resultados. De igual forma, calcularemos las puntuaciones para la `strategy=\"uniform\"` y después dibujaremos la distribución conjuntamente con los otros resultados.\n",
    "\n",
    "¿Estas nuevas líneas base son mejores que la previa? ¿Por qué es este el caso?\n",
    "\n",
    "Podemos consultar la documentación de [`sklearn.dummy.DummyClassifier`](https://scikit-learn.org/stable/modules/generated/sklearn.dummy.DummyClassifier.html) para conocer el significado de estas estrategias."
   ],
   "metadata": {
    "collapsed": false,
    "pycharm": {
     "name": "#%% md\n"
    }
   }
  },
  {
   "cell_type": "code",
   "execution_count": 140,
   "outputs": [
    {
     "data": {
      "text/plain": "0    0.641088\n1    0.634863\n2    0.637812\n3    0.637935\n4    0.640678\n5    0.642685\n6    0.639450\n7    0.640760\n8    0.638999\n9    0.635805\nName: Stratified dummy, dtype: float64"
     },
     "execution_count": 140,
     "metadata": {},
     "output_type": "execute_result"
    }
   ],
   "source": [
    "dummy_stratified = DummyClassifier(strategy=\"stratified\")\n",
    "result_dummy_stratified = cross_validate(\n",
    "    dummy_stratified, X, y, cv=cv, n_jobs=-1\n",
    ")\n",
    "test_dummy_stratified = pd.Series(\n",
    "    result_dummy_stratified[\"test_score\"], name=\"Stratified dummy\"\n",
    ")\n",
    "test_dummy_stratified"
   ],
   "metadata": {
    "collapsed": false,
    "pycharm": {
     "name": "#%%\n"
    }
   }
  },
  {
   "cell_type": "code",
   "execution_count": 141,
   "outputs": [
    {
     "data": {
      "text/plain": "0    0.498096\n1    0.498628\n2    0.503296\n3    0.500798\n4    0.499488\n5    0.503010\n6    0.501331\n7    0.496458\n8    0.503296\n9    0.502314\nName: Uniform dummy, dtype: float64"
     },
     "execution_count": 141,
     "metadata": {},
     "output_type": "execute_result"
    }
   ],
   "source": [
    "dummy_uniform = DummyClassifier(strategy=\"uniform\")\n",
    "result_dummy_uniform = cross_validate(\n",
    "    dummy_uniform, X, y, cv=cv, n_jobs=-1\n",
    ")\n",
    "test_dummy_uniform = pd.Series(\n",
    "    result_dummy_uniform[\"test_score\"], name=\"Uniform dummy\"\n",
    ")\n",
    "test_dummy_uniform"
   ],
   "metadata": {
    "collapsed": false,
    "pycharm": {
     "name": "#%%\n"
    }
   }
  },
  {
   "cell_type": "code",
   "execution_count": 142,
   "outputs": [
    {
     "data": {
      "text/plain": "   Regresión logística  Most-frequent dummy  Stratified dummy  Uniform dummy\n0             0.815937             0.760329          0.641088       0.498096\n1             0.813849             0.756808          0.634863       0.498628\n2             0.815036             0.759142          0.637812       0.503296\n3             0.815569             0.760739          0.637935       0.500798\n4             0.810982             0.761681          0.640678       0.499488\n5             0.814709             0.761885          0.642685       0.503010\n6             0.813112             0.757463          0.639450       0.501331\n7             0.810327             0.757176          0.640760       0.496458\n8             0.812416             0.761885          0.638999       0.503296\n9             0.816388             0.763114          0.635805       0.502314",
      "text/html": "<div>\n<style scoped>\n    .dataframe tbody tr th:only-of-type {\n        vertical-align: middle;\n    }\n\n    .dataframe tbody tr th {\n        vertical-align: top;\n    }\n\n    .dataframe thead th {\n        text-align: right;\n    }\n</style>\n<table border=\"1\" class=\"dataframe\">\n  <thead>\n    <tr style=\"text-align: right;\">\n      <th></th>\n      <th>Regresión logística</th>\n      <th>Most-frequent dummy</th>\n      <th>Stratified dummy</th>\n      <th>Uniform dummy</th>\n    </tr>\n  </thead>\n  <tbody>\n    <tr>\n      <th>0</th>\n      <td>0.815937</td>\n      <td>0.760329</td>\n      <td>0.641088</td>\n      <td>0.498096</td>\n    </tr>\n    <tr>\n      <th>1</th>\n      <td>0.813849</td>\n      <td>0.756808</td>\n      <td>0.634863</td>\n      <td>0.498628</td>\n    </tr>\n    <tr>\n      <th>2</th>\n      <td>0.815036</td>\n      <td>0.759142</td>\n      <td>0.637812</td>\n      <td>0.503296</td>\n    </tr>\n    <tr>\n      <th>3</th>\n      <td>0.815569</td>\n      <td>0.760739</td>\n      <td>0.637935</td>\n      <td>0.500798</td>\n    </tr>\n    <tr>\n      <th>4</th>\n      <td>0.810982</td>\n      <td>0.761681</td>\n      <td>0.640678</td>\n      <td>0.499488</td>\n    </tr>\n    <tr>\n      <th>5</th>\n      <td>0.814709</td>\n      <td>0.761885</td>\n      <td>0.642685</td>\n      <td>0.503010</td>\n    </tr>\n    <tr>\n      <th>6</th>\n      <td>0.813112</td>\n      <td>0.757463</td>\n      <td>0.639450</td>\n      <td>0.501331</td>\n    </tr>\n    <tr>\n      <th>7</th>\n      <td>0.810327</td>\n      <td>0.757176</td>\n      <td>0.640760</td>\n      <td>0.496458</td>\n    </tr>\n    <tr>\n      <th>8</th>\n      <td>0.812416</td>\n      <td>0.761885</td>\n      <td>0.638999</td>\n      <td>0.503296</td>\n    </tr>\n    <tr>\n      <th>9</th>\n      <td>0.816388</td>\n      <td>0.763114</td>\n      <td>0.635805</td>\n      <td>0.502314</td>\n    </tr>\n  </tbody>\n</table>\n</div>"
     },
     "execution_count": 142,
     "metadata": {},
     "output_type": "execute_result"
    }
   ],
   "source": [
    "all_scores = pd.concat(\n",
    "    [test_score_logistic_regression,\n",
    "     test_dummy_most_frequent,\n",
    "     test_dummy_stratified,\n",
    "     test_dummy_uniform,],\n",
    "    axis=1,\n",
    ")\n",
    "all_scores"
   ],
   "metadata": {
    "collapsed": false,
    "pycharm": {
     "name": "#%%\n"
    }
   }
  },
  {
   "cell_type": "code",
   "execution_count": 143,
   "outputs": [
    {
     "data": {
      "text/plain": "<Figure size 432x288 with 1 Axes>",
      "image/png": "[encoded data removed]"
     },
     "metadata": {
      "needs_background": "light"
     },
     "output_type": "display_data"
    }
   ],
   "source": [
    "bins = np.linspace(start=0.5, stop=1.0, num=100)\n",
    "all_scores.plot.hist(bins=bins, edgecolor=\"black\")\n",
    "plt.legend(bbox_to_anchor=(1.05, 0.8), loc=\"upper left\")\n",
    "plt.xlabel(\"Accuracy (%)\")\n",
    "_ = plt.title(\"Puntuaciones de prueba de validación cruzada\")"
   ],
   "metadata": {
    "collapsed": false,
    "pycharm": {
     "name": "#%%\n"
    }
   }
  },
  {
   "cell_type": "markdown",
   "source": [
    "Vemos que al usar `strategy=\"stratified\"` los resultados son mucho peores que con la estrategia `most_frequent`. Dado que las clases están desbalanceadas, predecir la más frecuente implica que acertaremos en la proporción de esa clase (aproximadamente el 75% de las muestras), es decir, el 75% de las veces. Sin embargo, la estrategia `\"stratified\"` generará predicciones aleatoriamente respetando la distribución de las clases del conjunto de entrenamiento, lo que dará como resultado algunas predicciones incorrectas, incluso para la clase más frecuente, por lo tanto obtenemos una precisión menor.\n",
    "\n",
    "Esto es aún más cierto para `strategy=\"uniform\"`: esta estrategia asigna etiquetas de clase uniformemente al azar. Por lo tanto, en un problema de clasificación binaria, la precisión de validación cruzada es del 50% de media, por lo cual es la más débil de las tres líneas base dummy.\n",
    "\n",
    "Nota: se podría argumentar que las estrategias `\"uniform\"` y `\"stratified\"` son maneras válidas de definir un \"nivel de referencia\" de la precisión de una línea base para el problema de clasificación, debido a que hacen predicciones \"al azar\".\n",
    "\n",
    "Otra forma de definir un nivel de azar podría ser usando la utilidad de scikit-learn [sklearn.model_selection.permutation_test_score](https://scikit-learn.org/stable/auto_examples/model_selection/plot_permutation_tests_for_classification.html). En lugar de usar un clasificador dummy, esta función compara la precisión de validación cruzada de un modelo de interés con la precisión de validación cruzada de este mismo modelo pero entrenado en etiquetas de clase permutadas aleatoriamente. Por lo tanto, `permutation_test_score` define un nivel de azar que depende de la elección de la clase y los hiperparámetros del estimador de interés. Cuando entrenamos en tales etiquetas permutadas aleatoriamente, muchos estimadores de machine learning terminan comportándose aproximadamente como `DummyClassifier(strategy=\"most_frequent\")`, prediciendo siempre la clase mayoritaria, independientemente de las variables de entrada. Como resultado, esta línea base `most_frequent` se llama algunas veces \"nivel de azar\" para problemas de clasificación desbalanceados, aunque sus predicciones son completamente deterministas y no involucran mucho azar.\n",
    "\n",
    "Definir el nivel de azar usando `permutation_test_score` es bastante costoso computacionalmente, debido a que requiere entrenar muchos modelos no dummys en permutaciones aleatorias de los datos. Usar clasificadores dummys como líneas base suele ser suficiente para fines prácticos. Para problemas de clasificacion desbalanceados, la estrategia `most_frequent` es la más fuerte de las tres líneas bases y por tanto la que debemos usar."
   ],
   "metadata": {
    "collapsed": false,
    "pycharm": {
     "name": "#%% md\n"
    }
   }
  },
  {
   "cell_type": "code",
   "execution_count": 143,
   "outputs": [],
   "source": [],
   "metadata": {
    "collapsed": false,
    "pycharm": {
     "name": "#%%\n"
    }
   }
  }
 ],
 "metadata": {
  "kernelspec": {
   "display_name": "Python 3",
   "language": "python",
   "name": "python3"
  },
  "language_info": {
   "codemirror_mode": {
    "name": "ipython",
    "version": 2
   },
   "file_extension": ".py",
   "mimetype": "text/x-python",
   "name": "python",
   "nbconvert_exporter": "python",
   "pygments_lexer": "ipython2",
   "version": "2.7.6"
  }
 },
 "nbformat": 4,
 "nbformat_minor": 0
}