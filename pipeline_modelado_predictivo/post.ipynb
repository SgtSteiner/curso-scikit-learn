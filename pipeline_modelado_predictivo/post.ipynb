{
 "cells": [
  {
   "cell_type": "markdown",
   "id": "0ca85e8a-a589-4f1d-98bd-e54b713a87d2",
   "metadata": {},
   "source": [
    "\n",
    "\n",
    "En este post vamos a presentar un ejemplo de un pipeline de modelado predictivo típico usando datos tabulares, es decir, que pueden ser estructurados en una tabla de 2 dimensiones. En primer lugar, analizaremos el dataset usado y posteriormente entrenaremos un primer pipeline predictivo. Después prestaremos atención a los tipos de datos que tiene que manejar nuestro modelo: numéricos y categóricos. Por último, extenderemos nuestro pipeline para tipos de datos mixtos, es decir, numéricos y categóricos.\n",
    "\n",
    "El objetivo a conseguir es construir intuiciones respecto a un dataset desconocido, identificar y discriminar *features* numéricas y categóricas y, finalmente, crear un pipeline predictivo avanzado con *scikit-learn*.\n",
    "\n",
    "En concreto mostraremos los siguientes aspectos:\n",
    "\n",
    "+ identificar datos númericos en un dataset heterogéneo\n",
    "+ seleccionar el subconjunto de columnas correspondientes a datos numéricos\n",
    "+ usar la función de scikit-learn `train_test_split` para dividir los datos en entrenamiento y prueba\n",
    "+ entrenar y evaluar un modelo de regresión logística\n",
    "+ la importancia de evaluar el rendimiento de generalización en los datos de prueba\n",
    "+ usar un predictor dummy para obtener una línea base de referencia\n",
    "+ ver la importancia de escalar las variables numéricas\n",
    "+ usar un pipeline para encadenar el escalado y el entrenamiento de una regresión logística\n",
    "+ evaluar el rendimiento de generalización de nuestro modelo a partir de validación cruzada\n",
    "+ mostrar las dos estrategias comunes para codificar variables categóricas: `ordinal` y `one-hot`\n",
    "+ usar un pipeline para utilizar un codificador one-hot antes de entrenar un predictor\n",
    "+ usar un `ColumnTransformer` para aplicar preprocesamientos diferentes a variables numéricas y categóricas\n",
    "+ usar un pipeline para encadenar el preprocesamiento `ColumnTransformer` y entrenar una regresión logística"
   ]
  },
  {
   "cell_type": "markdown",
   "id": "e2d18666-9b86-4739-9ac5-3b6b2a2c2b15",
   "metadata": {},
   "source": [
    "# Primer vistazo al dataset"
   ]
  },
  {
   "cell_type": "markdown",
   "id": "426471ab-9f9d-4e37-98aa-9c8da7f283ae",
   "metadata": {},
   "source": [
    "Antes de llevar a cabo cualquier tarea de machine learning hay que realizar un serie de pasos:\n",
    "\n",
    "+ cargar los datos.\n",
    "+ observar las variables del dataset, diferenciando entre variables numéricas y categóricas, las cuales necesitarán un preprocesamiento diferente en la mayoría de los flujos de machine learning.\n",
    "+ visualizar la distribución de las variables para obtener algún tipo de conocimiento o idea del dataset."
   ]
  },
  {
   "cell_type": "markdown",
   "id": "3a1a21ab-9038-4199-96de-0aae464b36c2",
   "metadata": {},
   "source": [
    "Usaremos el dataset \"**credit-g**\". Para más detalles sobre dicho dataset puedes acceder al link [https://www.openml.org/d/31](https://www.openml.org/d/31). El objetivo del dataset es clasificar a las personas por un conjunto de atributos como buenas o malas respecto al riesgo crediticio. Los datos están disponibles en un fichero CSV y usaremos pandas para leerlo. "
   ]
  },
  {
   "cell_type": "code",
   "execution_count": 1,
   "id": "ad360f66-b84b-4ad1-9efc-38775e78b82a",
   "metadata": {},
   "outputs": [],
   "source": [
    "import numpy as np\n",
    "import pandas as pd\n",
    "\n",
    "credit = pd.read_csv(\"credit-g.csv\")"
   ]
  },
  {
   "cell_type": "markdown",
   "id": "8e0d80c5-fc76-4529-abf7-9775befde349",
   "metadata": {},
   "source": [
    "## Las variables del dataset"
   ]
  },
  {
   "cell_type": "markdown",
   "id": "6fa26563-373d-44a6-be6b-f00e0f285e66",
   "metadata": {},
   "source": [
    "Los datos se almacenan en un *dataframe* de pandas. Un dataframe es una estructura de datos de 2 dimensiones. Este tipo de datos también se denominan datos tabulares. \n",
    "\n",
    "Cada fila representa un \"ejemplo\". En el campo de machine learning se usan normalmente los términos equivalentes de \"registro\", \"instancia\" u \"observación\". \n",
    "\n",
    "Cada columna representa un tipo de información que ha sido recopilada y se denominan \"features\". En el campo de machine learning es normal usar los términos equivalentes de \"variable\", \"atributo\" o \"covariable\".\n",
    "\n",
    "Echemos un vistazo rápido al dataframe para mostrar las primeras filas:"
   ]
  },
  {
   "cell_type": "code",
   "execution_count": 2,
   "id": "53dae62f-9d60-4974-be8d-dacf662fa392",
   "metadata": {},
   "outputs": [
    {
     "data": {
      "text/html": [
       "<div>\n",
       "<style scoped>\n",
       "    .dataframe tbody tr th:only-of-type {\n",
       "        vertical-align: middle;\n",
       "    }\n",
       "\n",
       "    .dataframe tbody tr th {\n",
       "        vertical-align: top;\n",
       "    }\n",
       "\n",
       "    .dataframe thead th {\n",
       "        text-align: right;\n",
       "    }\n",
       "</style>\n",
       "<table border=\"1\" class=\"dataframe\">\n",
       "  <thead>\n",
       "    <tr style=\"text-align: right;\">\n",
       "      <th></th>\n",
       "      <th>checking_status</th>\n",
       "      <th>duration</th>\n",
       "      <th>credit_history</th>\n",
       "      <th>purpose</th>\n",
       "      <th>credit_amount</th>\n",
       "      <th>savings_status</th>\n",
       "      <th>employment</th>\n",
       "      <th>installment_commitment</th>\n",
       "      <th>personal_status</th>\n",
       "      <th>other_parties</th>\n",
       "      <th>...</th>\n",
       "      <th>property_magnitude</th>\n",
       "      <th>age</th>\n",
       "      <th>other_payment_plans</th>\n",
       "      <th>housing</th>\n",
       "      <th>existing_credits</th>\n",
       "      <th>job</th>\n",
       "      <th>num_dependents</th>\n",
       "      <th>own_telephone</th>\n",
       "      <th>foreign_worker</th>\n",
       "      <th>class</th>\n",
       "    </tr>\n",
       "  </thead>\n",
       "  <tbody>\n",
       "    <tr>\n",
       "      <th>0</th>\n",
       "      <td>'&lt;0'</td>\n",
       "      <td>6</td>\n",
       "      <td>'critical/other existing credit'</td>\n",
       "      <td>radio/tv</td>\n",
       "      <td>1169</td>\n",
       "      <td>'no known savings'</td>\n",
       "      <td>'&gt;=7'</td>\n",
       "      <td>4</td>\n",
       "      <td>'male single'</td>\n",
       "      <td>none</td>\n",
       "      <td>...</td>\n",
       "      <td>'real estate'</td>\n",
       "      <td>67</td>\n",
       "      <td>none</td>\n",
       "      <td>own</td>\n",
       "      <td>2</td>\n",
       "      <td>skilled</td>\n",
       "      <td>1</td>\n",
       "      <td>yes</td>\n",
       "      <td>yes</td>\n",
       "      <td>good</td>\n",
       "    </tr>\n",
       "    <tr>\n",
       "      <th>1</th>\n",
       "      <td>'0&lt;=X&lt;200'</td>\n",
       "      <td>48</td>\n",
       "      <td>'existing paid'</td>\n",
       "      <td>radio/tv</td>\n",
       "      <td>5951</td>\n",
       "      <td>'&lt;100'</td>\n",
       "      <td>'1&lt;=X&lt;4'</td>\n",
       "      <td>2</td>\n",
       "      <td>'female div/dep/mar'</td>\n",
       "      <td>none</td>\n",
       "      <td>...</td>\n",
       "      <td>'real estate'</td>\n",
       "      <td>22</td>\n",
       "      <td>none</td>\n",
       "      <td>own</td>\n",
       "      <td>1</td>\n",
       "      <td>skilled</td>\n",
       "      <td>1</td>\n",
       "      <td>none</td>\n",
       "      <td>yes</td>\n",
       "      <td>bad</td>\n",
       "    </tr>\n",
       "    <tr>\n",
       "      <th>2</th>\n",
       "      <td>'no checking'</td>\n",
       "      <td>12</td>\n",
       "      <td>'critical/other existing credit'</td>\n",
       "      <td>education</td>\n",
       "      <td>2096</td>\n",
       "      <td>'&lt;100'</td>\n",
       "      <td>'4&lt;=X&lt;7'</td>\n",
       "      <td>2</td>\n",
       "      <td>'male single'</td>\n",
       "      <td>none</td>\n",
       "      <td>...</td>\n",
       "      <td>'real estate'</td>\n",
       "      <td>49</td>\n",
       "      <td>none</td>\n",
       "      <td>own</td>\n",
       "      <td>1</td>\n",
       "      <td>'unskilled resident'</td>\n",
       "      <td>2</td>\n",
       "      <td>none</td>\n",
       "      <td>yes</td>\n",
       "      <td>good</td>\n",
       "    </tr>\n",
       "    <tr>\n",
       "      <th>3</th>\n",
       "      <td>'&lt;0'</td>\n",
       "      <td>42</td>\n",
       "      <td>'existing paid'</td>\n",
       "      <td>furniture/equipment</td>\n",
       "      <td>7882</td>\n",
       "      <td>'&lt;100'</td>\n",
       "      <td>'4&lt;=X&lt;7'</td>\n",
       "      <td>2</td>\n",
       "      <td>'male single'</td>\n",
       "      <td>guarantor</td>\n",
       "      <td>...</td>\n",
       "      <td>'life insurance'</td>\n",
       "      <td>45</td>\n",
       "      <td>none</td>\n",
       "      <td>'for free'</td>\n",
       "      <td>1</td>\n",
       "      <td>skilled</td>\n",
       "      <td>2</td>\n",
       "      <td>none</td>\n",
       "      <td>yes</td>\n",
       "      <td>good</td>\n",
       "    </tr>\n",
       "    <tr>\n",
       "      <th>4</th>\n",
       "      <td>'&lt;0'</td>\n",
       "      <td>24</td>\n",
       "      <td>'delayed previously'</td>\n",
       "      <td>'new car'</td>\n",
       "      <td>4870</td>\n",
       "      <td>'&lt;100'</td>\n",
       "      <td>'1&lt;=X&lt;4'</td>\n",
       "      <td>3</td>\n",
       "      <td>'male single'</td>\n",
       "      <td>none</td>\n",
       "      <td>...</td>\n",
       "      <td>'no known property'</td>\n",
       "      <td>53</td>\n",
       "      <td>none</td>\n",
       "      <td>'for free'</td>\n",
       "      <td>2</td>\n",
       "      <td>skilled</td>\n",
       "      <td>2</td>\n",
       "      <td>none</td>\n",
       "      <td>yes</td>\n",
       "      <td>bad</td>\n",
       "    </tr>\n",
       "  </tbody>\n",
       "</table>\n",
       "<p>5 rows × 21 columns</p>\n",
       "</div>"
      ],
      "text/plain": [
       "  checking_status  duration                    credit_history  \\\n",
       "0            '<0'         6  'critical/other existing credit'   \n",
       "1      '0<=X<200'        48                   'existing paid'   \n",
       "2   'no checking'        12  'critical/other existing credit'   \n",
       "3            '<0'        42                   'existing paid'   \n",
       "4            '<0'        24              'delayed previously'   \n",
       "\n",
       "               purpose  credit_amount      savings_status employment  \\\n",
       "0             radio/tv           1169  'no known savings'      '>=7'   \n",
       "1             radio/tv           5951              '<100'   '1<=X<4'   \n",
       "2            education           2096              '<100'   '4<=X<7'   \n",
       "3  furniture/equipment           7882              '<100'   '4<=X<7'   \n",
       "4            'new car'           4870              '<100'   '1<=X<4'   \n",
       "\n",
       "   installment_commitment       personal_status other_parties  ...  \\\n",
       "0                       4         'male single'          none  ...   \n",
       "1                       2  'female div/dep/mar'          none  ...   \n",
       "2                       2         'male single'          none  ...   \n",
       "3                       2         'male single'     guarantor  ...   \n",
       "4                       3         'male single'          none  ...   \n",
       "\n",
       "    property_magnitude age  other_payment_plans     housing existing_credits  \\\n",
       "0        'real estate'  67                 none         own                2   \n",
       "1        'real estate'  22                 none         own                1   \n",
       "2        'real estate'  49                 none         own                1   \n",
       "3     'life insurance'  45                 none  'for free'                1   \n",
       "4  'no known property'  53                 none  'for free'                2   \n",
       "\n",
       "                    job num_dependents  own_telephone foreign_worker class  \n",
       "0               skilled              1            yes            yes  good  \n",
       "1               skilled              1           none            yes   bad  \n",
       "2  'unskilled resident'              2           none            yes  good  \n",
       "3               skilled              2           none            yes  good  \n",
       "4               skilled              2           none            yes   bad  \n",
       "\n",
       "[5 rows x 21 columns]"
      ]
     },
     "execution_count": 2,
     "metadata": {},
     "output_type": "execute_result"
    }
   ],
   "source": [
    "credit.head()"
   ]
  },
  {
   "cell_type": "code",
   "execution_count": 3,
   "id": "9e179f86-c534-4d94-8888-e9b8910d6886",
   "metadata": {},
   "outputs": [
    {
     "data": {
      "text/plain": [
       "(1000, 21)"
      ]
     },
     "execution_count": 3,
     "metadata": {},
     "output_type": "execute_result"
    }
   ],
   "source": [
    "credit.shape"
   ]
  },
  {
   "cell_type": "markdown",
   "id": "51aacc36-46c8-45a8-a955-84cb22729be6",
   "metadata": {},
   "source": [
    "El dataset está compuesto de 1.000 instancias y 21 variables. La columna llamada `class` es nuestra variable objetivo (es decir, la variable que queremos predecir). Las dos posibles clases son `good` (bajo riesgo credicitio) y `bad` (alto riesgo crediticio). El problema de predicción resultante es, por tanto, un problema de clasificación binaria. Usaremos el resto de columnas como variables de entrada para nuestro modelo."
   ]
  },
  {
   "cell_type": "code",
   "execution_count": 4,
   "id": "c6c6d657-cf21-49e0-acaa-32d75b4f7086",
   "metadata": {},
   "outputs": [
    {
     "data": {
      "text/plain": [
       "good    700\n",
       "bad     300\n",
       "Name: class, dtype: int64"
      ]
     },
     "execution_count": 4,
     "metadata": {},
     "output_type": "execute_result"
    }
   ],
   "source": [
    "credit[\"class\"].value_counts()"
   ]
  },
  {
   "cell_type": "code",
   "execution_count": 5,
   "id": "f5fa8d95-39bc-498a-afd6-348770ca5911",
   "metadata": {},
   "outputs": [
    {
     "data": {
      "image/png": "[encoded data removed]",
      "text/plain": [
       "<Figure size 432x288 with 1 Axes>"
      ]
     },
     "metadata": {},
     "output_type": "display_data"
    }
   ],
   "source": [
    "credit[\"class\"].value_counts().plot.pie(autopct='%1.2f%%');"
   ]
  },
  {
   "cell_type": "markdown",
   "id": "93b69718-e5d2-4ec2-a5d2-44d5a9c545ce",
   "metadata": {},
   "source": [
    "Vemos que las clases están desbalanceadas, lo que significa que tenemos más instancias de una o más clases comparada con las otras. El desequilibro de clases sucede frecuentemente en la práctica y puede requerir de técnicas especiales al construir el modelo predictivo. Veremos este tipo de técnicas en otros posts."
   ]
  },
  {
   "cell_type": "code",
   "execution_count": 6,
   "id": "7ebfd6a0-3ab1-468d-ac8e-e670540871f6",
   "metadata": {},
   "outputs": [
    {
     "data": {
      "text/plain": [
       "checking_status           object\n",
       "duration                   int64\n",
       "credit_history            object\n",
       "purpose                   object\n",
       "credit_amount              int64\n",
       "savings_status            object\n",
       "employment                object\n",
       "installment_commitment     int64\n",
       "personal_status           object\n",
       "other_parties             object\n",
       "residence_since            int64\n",
       "property_magnitude        object\n",
       "age                        int64\n",
       "other_payment_plans       object\n",
       "housing                   object\n",
       "existing_credits           int64\n",
       "job                       object\n",
       "num_dependents             int64\n",
       "own_telephone             object\n",
       "foreign_worker            object\n",
       "class                     object\n",
       "dtype: object"
      ]
     },
     "execution_count": 6,
     "metadata": {},
     "output_type": "execute_result"
    }
   ],
   "source": [
    "credit.dtypes"
   ]
  },
  {
   "cell_type": "code",
   "execution_count": 7,
   "id": "fc611721-254d-443a-a3ae-e27f3ddd91cd",
   "metadata": {},
   "outputs": [
    {
     "data": {
      "text/plain": [
       "object    14\n",
       "int64      7\n",
       "dtype: int64"
      ]
     },
     "execution_count": 7,
     "metadata": {},
     "output_type": "execute_result"
    }
   ],
   "source": [
    "credit.dtypes.value_counts()"
   ]
  },
  {
   "cell_type": "markdown",
   "id": "985a6862-ffc6-4539-8b09-71bc257fda57",
   "metadata": {},
   "source": [
    "Comprobamos que el dataset contiene tanto datos numéricos (7 features) como categóricos (14 features, incluyendo la variable objetivo). En este caso sus tipos son `int64` y `object`, respectivamente."
   ]
  },
  {
   "cell_type": "markdown",
   "id": "0db6db72-1131-4225-b13f-9fb22a9fddd2",
   "metadata": {},
   "source": [
    "## Inspección visual de los datos"
   ]
  },
  {
   "cell_type": "markdown",
   "id": "5b7738ae-7674-4348-9085-02575f0791ae",
   "metadata": {},
   "source": [
    "Antes de construir cualquier modelo predictivo es buena idea echar un vistazo a los datos:\n",
    "\n",
    "+ quizás la tarea que estamos intentando conseguir se pueda resolver sin utilizar machine learning;\n",
    "+ debemos comprobar que la información que necesitamos se encuentra presente realmente en el dataset;\n",
    "+ inspeccionar los datos en una buena forma de encontrar peculiaridades. Estas pueden aparecer durante la recolección de los datos (por ejemplo, debido al malfuncionamiento de sensores o valores faltantes) o en la forma en que los datos son procesados posteriormente (por ejemplo, valores \"capados\")."
   ]
  },
  {
   "cell_type": "markdown",
   "id": "f13d2d88-f3d1-43b6-8c7e-9f6e08b81657",
   "metadata": {},
   "source": [
    "Echemos un vistazo a las distribuciones de las features individualmente para obtener algún conocimiento adicional sobre los datos. Podemos empezar dibujando histogramas, aunque esto solo aplicaría a las features numéricas:"
   ]
  },
  {
   "cell_type": "code",
   "execution_count": 8,
   "id": "d65a65ce-986e-4523-a1aa-10ee7764b13f",
   "metadata": {},
   "outputs": [
    {
     "name": "stderr",
     "output_type": "stream",
     "text": [
      "C:\\Program Files\\Python39\\lib\\site-packages\\pandas\\plotting\\_matplotlib\\tools.py:400: MatplotlibDeprecationWarning: \n",
      "The is_first_col function was deprecated in Matplotlib 3.4 and will be removed two minor releases later. Use ax.get_subplotspec().is_first_col() instead.\n",
      "  if ax.is_first_col():\n"
     ]
    },
    {
     "data": {
      "image/png": "[encoded data removed]",
      "text/plain": [
       "<Figure size 1440x1008 with 9 Axes>"
      ]
     },
     "metadata": {
      "needs_background": "light"
     },
     "output_type": "display_data"
    }
   ],
   "source": [
    "_ = credit.hist(figsize=(20, 14))"
   ]
  },
  {
   "cell_type": "markdown",
   "id": "5496b0eb-1633-4ccf-8afa-b6e4c8b6725c",
   "metadata": {},
   "source": [
    "Algunos comentarios sobre estas variables:\n",
    "\n",
    "+ `duration`: la mayoría de las personas a las que se les concede el crédito su duración está entre aproximadamente 4 y 24 meses, principalmente entre 12 y 24 meses.\n",
    "+ `credit_amount`: la mayoría de las personas solicita un crédito menor de 4.000 aproximadamente.\n",
    "+ `age`: la mayoría de las personas que solicitan un crédito son menores de 40 años.\n"
   ]
  },
  {
   "cell_type": "markdown",
   "id": "a1a53ccc-3971-4e2e-8cec-50d1c6d7d184",
   "metadata": {},
   "source": [
    "Veamos la distribución de algunas variables categóricas:"
   ]
  },
  {
   "cell_type": "code",
   "execution_count": 9,
   "id": "b5bf75bc-3830-4d2c-944a-47defcce23a1",
   "metadata": {},
   "outputs": [
    {
     "data": {
      "image/png": "[encoded data removed]",
      "text/plain": [
       "<Figure size 432x288 with 1 Axes>"
      ]
     },
     "metadata": {
      "needs_background": "light"
     },
     "output_type": "display_data"
    }
   ],
   "source": [
    "import seaborn as sns\n",
    "\n",
    "_ = sns.countplot(x=\"checking_status\", data=credit)"
   ]
  },
  {
   "cell_type": "code",
   "execution_count": 10,
   "id": "e1456798-3f58-429f-95f8-cb0779da50bb",
   "metadata": {},
   "outputs": [
    {
     "data": {
      "image/png": "[encoded data removed]",
      "text/plain": [
       "<Figure size 432x288 with 1 Axes>"
      ]
     },
     "metadata": {
      "needs_background": "light"
     },
     "output_type": "display_data"
    }
   ],
   "source": [
    "ax = sns.countplot(x=\"credit_history\", data=credit)\n",
    "ax.set_xticklabels(ax.get_xticklabels(), rotation=40, ha=\"right\");"
   ]
  },
  {
   "cell_type": "markdown",
   "id": "59e847ec-7743-4477-99c4-1139103d1d11",
   "metadata": {},
   "source": [
    "Bueno, hasta ahora hemos visto cómo cargar un dataset, calcular su tamaño y visualizar de forma rápida las primeras filas del mismo. En un primer análisis de las variables que lo componen, hemos identificado nuestra variable objetivo y diferenciado las variables numéricas y categóricas. También hemos podido observar cómo se distribuyen sus valores."
   ]
  },
  {
   "cell_type": "markdown",
   "id": "41b0c278-396c-422c-acc5-21545dd98268",
   "metadata": {
    "tags": []
   },
   "source": [
    "# Modelo simple con scikit-learn"
   ]
  },
  {
   "cell_type": "markdown",
   "id": "1b6ff350-51f7-42c6-87c1-9649d74b43ce",
   "metadata": {},
   "source": [
    "Vamos a crear un primer modelo predictivo, para lo cual solo usaremos las variables numéricas. Los datos numéricos son el tipo de datos más natural en machine learning y (casi) pueden incorporarse directamente a los modelos predictivos.\n",
    "\n",
    "Como hemos visto, el archivo CSV contiene toda la información que necesitamos: el objetivo que nos gustaría predecir (es decir, `class`) y los datos que queremos usar para entrenar nuestro modelo predictivo (es decir, las columnas restantes). El primer paso es separar las columnas para obtener de un lado el objetivo y del otro lado los datos."
   ]
  },
  {
   "cell_type": "markdown",
   "id": "9fbe067c-d702-496a-8c24-af4b84472b53",
   "metadata": {},
   "source": [
    "## Separar los datos y el objetivo"
   ]
  },
  {
   "cell_type": "code",
   "execution_count": 11,
   "id": "772688c2-be44-4300-875d-f0d9a065af20",
   "metadata": {},
   "outputs": [],
   "source": [
    "target_name = \"class\"\n",
    "y = credit[target_name]\n",
    "data = credit.drop(columns=[target_name])"
   ]
  },
  {
   "cell_type": "markdown",
   "id": "662a5efa-acba-419b-8813-3655d26fdb24",
   "metadata": {},
   "source": [
    "Vamos a usar una función de sklearn que nos permite seleccionar las columnas en función del tipo de dato."
   ]
  },
  {
   "cell_type": "code",
   "execution_count": 12,
   "id": "bddc39c9-9559-4879-8de2-001e4b6e7cd5",
   "metadata": {},
   "outputs": [
    {
     "data": {
      "text/plain": [
       "['duration',\n",
       " 'credit_amount',\n",
       " 'installment_commitment',\n",
       " 'residence_since',\n",
       " 'age',\n",
       " 'existing_credits',\n",
       " 'num_dependents']"
      ]
     },
     "execution_count": 12,
     "metadata": {},
     "output_type": "execute_result"
    }
   ],
   "source": [
    "from sklearn.compose import make_column_selector as selector\n",
    "\n",
    "numerical_columns_selector = selector(dtype_include=np.number)\n",
    "numerical_columns = numerical_columns_selector(data)\n",
    "numerical_columns"
   ]
  },
  {
   "cell_type": "code",
   "execution_count": 13,
   "id": "34779bd0-686c-48da-996b-7a4b6e6ed749",
   "metadata": {},
   "outputs": [
    {
     "data": {
      "text/html": [
       "<div>\n",
       "<style scoped>\n",
       "    .dataframe tbody tr th:only-of-type {\n",
       "        vertical-align: middle;\n",
       "    }\n",
       "\n",
       "    .dataframe tbody tr th {\n",
       "        vertical-align: top;\n",
       "    }\n",
       "\n",
       "    .dataframe thead th {\n",
       "        text-align: right;\n",
       "    }\n",
       "</style>\n",
       "<table border=\"1\" class=\"dataframe\">\n",
       "  <thead>\n",
       "    <tr style=\"text-align: right;\">\n",
       "      <th></th>\n",
       "      <th>duration</th>\n",
       "      <th>credit_amount</th>\n",
       "      <th>installment_commitment</th>\n",
       "      <th>residence_since</th>\n",
       "      <th>age</th>\n",
       "      <th>existing_credits</th>\n",
       "      <th>num_dependents</th>\n",
       "    </tr>\n",
       "  </thead>\n",
       "  <tbody>\n",
       "    <tr>\n",
       "      <th>0</th>\n",
       "      <td>6</td>\n",
       "      <td>1169</td>\n",
       "      <td>4</td>\n",
       "      <td>4</td>\n",
       "      <td>67</td>\n",
       "      <td>2</td>\n",
       "      <td>1</td>\n",
       "    </tr>\n",
       "    <tr>\n",
       "      <th>1</th>\n",
       "      <td>48</td>\n",
       "      <td>5951</td>\n",
       "      <td>2</td>\n",
       "      <td>2</td>\n",
       "      <td>22</td>\n",
       "      <td>1</td>\n",
       "      <td>1</td>\n",
       "    </tr>\n",
       "    <tr>\n",
       "      <th>2</th>\n",
       "      <td>12</td>\n",
       "      <td>2096</td>\n",
       "      <td>2</td>\n",
       "      <td>3</td>\n",
       "      <td>49</td>\n",
       "      <td>1</td>\n",
       "      <td>2</td>\n",
       "    </tr>\n",
       "    <tr>\n",
       "      <th>3</th>\n",
       "      <td>42</td>\n",
       "      <td>7882</td>\n",
       "      <td>2</td>\n",
       "      <td>4</td>\n",
       "      <td>45</td>\n",
       "      <td>1</td>\n",
       "      <td>2</td>\n",
       "    </tr>\n",
       "    <tr>\n",
       "      <th>4</th>\n",
       "      <td>24</td>\n",
       "      <td>4870</td>\n",
       "      <td>3</td>\n",
       "      <td>4</td>\n",
       "      <td>53</td>\n",
       "      <td>2</td>\n",
       "      <td>2</td>\n",
       "    </tr>\n",
       "  </tbody>\n",
       "</table>\n",
       "</div>"
      ],
      "text/plain": [
       "   duration  credit_amount  installment_commitment  residence_since  age  \\\n",
       "0         6           1169                       4                4   67   \n",
       "1        48           5951                       2                2   22   \n",
       "2        12           2096                       2                3   49   \n",
       "3        42           7882                       2                4   45   \n",
       "4        24           4870                       3                4   53   \n",
       "\n",
       "   existing_credits  num_dependents  \n",
       "0                 2               1  \n",
       "1                 1               1  \n",
       "2                 1               2  \n",
       "3                 1               2  \n",
       "4                 2               2  "
      ]
     },
     "execution_count": 13,
     "metadata": {},
     "output_type": "execute_result"
    }
   ],
   "source": [
    "X = data[numerical_columns]\n",
    "X.head()"
   ]
  },
  {
   "cell_type": "markdown",
   "id": "01afaffd-5440-4c24-9060-28f4e88cdd0b",
   "metadata": {},
   "source": [
    "## Entrenar un modelo y hacer predicciones"
   ]
  },
  {
   "cell_type": "markdown",
   "id": "388033a4-f862-4d99-ac15-092b5da36b12",
   "metadata": {},
   "source": [
    "Vamos a construir un modelo de clasificación usando *regresión logística*, que pertenece a la familia de los modelos lineales. \n",
    "\n",
    "Brevemente, los modelos lineales buscan un conjunto de pesos para combinar linealmente las features y predecir el objetivo. Por ejemplo, el modelo puede generar un regla como la siguiente:\n",
    "\n",
    "+ si `0.1 * duration + 3.3 * credit_amount - 15.1 * installment_commitment + 3.2 * residence_since - 0.2 * age + 1.3 * existing_credits - 0.9 * num_dependents + 13.2 > 0`, predice `good`\n",
    "\n",
    "+ en caso contrario predice `bad`"
   ]
  },
  {
   "cell_type": "markdown",
   "id": "c3edbf9d-3249-4edc-be05-cda50a4b9bf6",
   "metadata": {},
   "source": [
    "El metodo `fit` se llama para entrenar el modelo a partir de los datos de entrada (features) y objetivo."
   ]
  },
  {
   "cell_type": "code",
   "execution_count": 14,
   "id": "34c963db-7121-49f2-8fd5-36681ad0ce0a",
   "metadata": {},
   "outputs": [],
   "source": [
    "from sklearn import set_config\n",
    "set_config(display=\"diagram\")"
   ]
  },
  {
   "cell_type": "code",
   "execution_count": 15,
   "id": "1746fba0-d025-424b-8550-2c6297490907",
   "metadata": {},
   "outputs": [
    {
     "data": {
      "text/html": [
       "<style>div.sk-top-container {color: black;background-color: white;}div.sk-toggleable {background-color: white;}label.sk-toggleable__label {cursor: pointer;display: block;width: 100%;margin-bottom: 0;padding: 0.2em 0.3em;box-sizing: border-box;text-align: center;}div.sk-toggleable__content {max-height: 0;max-width: 0;overflow: hidden;text-align: left;background-color: #f0f8ff;}div.sk-toggleable__content pre {margin: 0.2em;color: black;border-radius: 0.25em;background-color: #f0f8ff;}input.sk-toggleable__control:checked~div.sk-toggleable__content {max-height: 200px;max-width: 100%;overflow: auto;}div.sk-estimator input.sk-toggleable__control:checked~label.sk-toggleable__label {background-color: #d4ebff;}div.sk-label input.sk-toggleable__control:checked~label.sk-toggleable__label {background-color: #d4ebff;}input.sk-hidden--visually {border: 0;clip: rect(1px 1px 1px 1px);clip: rect(1px, 1px, 1px, 1px);height: 1px;margin: -1px;overflow: hidden;padding: 0;position: absolute;width: 1px;}div.sk-estimator {font-family: monospace;background-color: #f0f8ff;margin: 0.25em 0.25em;border: 1px dotted black;border-radius: 0.25em;box-sizing: border-box;}div.sk-estimator:hover {background-color: #d4ebff;}div.sk-parallel-item::after {content: \"\";width: 100%;border-bottom: 1px solid gray;flex-grow: 1;}div.sk-label:hover label.sk-toggleable__label {background-color: #d4ebff;}div.sk-serial::before {content: \"\";position: absolute;border-left: 1px solid gray;box-sizing: border-box;top: 2em;bottom: 0;left: 50%;}div.sk-serial {display: flex;flex-direction: column;align-items: center;background-color: white;}div.sk-item {z-index: 1;}div.sk-parallel {display: flex;align-items: stretch;justify-content: center;background-color: white;}div.sk-parallel-item {display: flex;flex-direction: column;position: relative;background-color: white;}div.sk-parallel-item:first-child::after {align-self: flex-end;width: 50%;}div.sk-parallel-item:last-child::after {align-self: flex-start;width: 50%;}div.sk-parallel-item:only-child::after {width: 0;}div.sk-dashed-wrapped {border: 1px dashed gray;margin: 0.2em;box-sizing: border-box;padding-bottom: 0.1em;background-color: white;position: relative;}div.sk-label label {font-family: monospace;font-weight: bold;background-color: white;display: inline-block;line-height: 1.2em;}div.sk-label-container {position: relative;z-index: 2;text-align: center;}div.sk-container {display: inline-block;position: relative;}</style><div class=\"sk-top-container\"><div class=\"sk-container\"><div class=\"sk-item\"><div class=\"sk-estimator sk-toggleable\"><input class=\"sk-toggleable__control sk-hidden--visually\" id=\"3adf2a4e-1762-440c-9d99-38f70c9e5d7a\" type=\"checkbox\" checked><label class=\"sk-toggleable__label\" for=\"3adf2a4e-1762-440c-9d99-38f70c9e5d7a\">LogisticRegression</label><div class=\"sk-toggleable__content\"><pre>LogisticRegression(max_iter=500)</pre></div></div></div></div></div>"
      ],
      "text/plain": [
       "LogisticRegression(max_iter=500)"
      ]
     },
     "execution_count": 15,
     "metadata": {},
     "output_type": "execute_result"
    }
   ],
   "source": [
    "from sklearn.linear_model import LogisticRegression\n",
    "\n",
    "model = LogisticRegression(max_iter=500)\n",
    "model.fit(X, y)"
   ]
  },
  {
   "cell_type": "markdown",
   "id": "ac0a6682-13fa-49d4-8a35-fd8febff3d68",
   "metadata": {},
   "source": [
    "El proceso de aprendizaje puede representarse de la siguiente forma:\n",
    "\n",
    "![](images/model_fit.png)"
   ]
  },
  {
   "cell_type": "markdown",
   "id": "53fd894a-9f2b-4230-95d4-dfa9add90548",
   "metadata": {},
   "source": [
    "El método `fit`se compone de dos elementos: un algoritmo de aprendizaje y algunos estados del modelo. El algoritmo de aprendizaje toma los datos y el objetivo de entrenamiento como entrada y establece los estados del modelo. Estos estados del modelo se utilizarán posteriormente para predecir (por clasificadores o regresores) o transformar los datos (por transformadores).\n",
    "\n",
    "Tanto el algoritmo de aprendizaje como el tipo de estados del modelo son específicos para cada tipo de modelo."
   ]
  },
  {
   "cell_type": "markdown",
   "id": "5fec6cf0-a011-4a80-b732-826df0e4ce04",
   "metadata": {},
   "source": [
    "Usaremos ahora nuestro modelo para llevar a cabo algunas predicciones usando el mismo dataset."
   ]
  },
  {
   "cell_type": "code",
   "execution_count": 16,
   "id": "0bc995b9-a150-4e14-93a8-01500e2b7b18",
   "metadata": {},
   "outputs": [],
   "source": [
    "y_predicted = model.predict(X)"
   ]
  },
  {
   "cell_type": "markdown",
   "id": "54921007-b5f0-45ef-bfe7-34c74fec0390",
   "metadata": {
    "tags": []
   },
   "source": [
    "El mecanismo de predicción puede representarse de la siguiente forma:\n",
    "\n",
    "![](images/model_predict.png)"
   ]
  },
  {
   "cell_type": "markdown",
   "id": "2862ccd9-cd7c-4f1d-a11c-a8749406229e",
   "metadata": {},
   "source": [
    "Para predecir, un modelo usa una **función de predicción** que utilizará los datos de entrada junto con los estados del modelo. Como el algoritmo de aprendizaje y los estados del modelo, la función de predicción es específica para cada tipo de modelo.\n",
    "\n",
    "Vamos a revisar las predicciones calculadas. Por simplicidad vamos a echar un vistazo a los primeros cinco objetivos predichos."
   ]
  },
  {
   "cell_type": "code",
   "execution_count": 17,
   "id": "e97fee70-9059-494c-8dc7-7969a2852d91",
   "metadata": {},
   "outputs": [
    {
     "data": {
      "text/plain": [
       "array(['good', 'bad', 'good', 'good', 'good'], dtype=object)"
      ]
     },
     "execution_count": 17,
     "metadata": {},
     "output_type": "execute_result"
    }
   ],
   "source": [
    "y_predicted[:5]"
   ]
  },
  {
   "cell_type": "markdown",
   "id": "92f13a46-1148-438b-81f5-95cc0f8cffe6",
   "metadata": {},
   "source": [
    "De hecho, podemos comparar estas predicciones con los datos reales:"
   ]
  },
  {
   "cell_type": "code",
   "execution_count": 18,
   "id": "1a87a6aa-2d28-405a-92e7-d9dfbb280491",
   "metadata": {},
   "outputs": [
    {
     "data": {
      "text/plain": [
       "0    good\n",
       "1     bad\n",
       "2    good\n",
       "3    good\n",
       "4     bad\n",
       "Name: class, dtype: object"
      ]
     },
     "execution_count": 18,
     "metadata": {},
     "output_type": "execute_result"
    }
   ],
   "source": [
    "y[:5]"
   ]
  },
  {
   "cell_type": "markdown",
   "id": "e89fe172-e87a-4e47-aeff-ecf755493288",
   "metadata": {},
   "source": [
    "e incluso podríamos comprobar si las predicciones concuerdan con los objetivos reales:"
   ]
  },
  {
   "cell_type": "code",
   "execution_count": 19,
   "id": "60bc060e-ee06-4544-8308-dfd5b67c9b9f",
   "metadata": {},
   "outputs": [
    {
     "data": {
      "text/plain": [
       "0     True\n",
       "1     True\n",
       "2     True\n",
       "3     True\n",
       "4    False\n",
       "Name: class, dtype: bool"
      ]
     },
     "execution_count": 19,
     "metadata": {},
     "output_type": "execute_result"
    }
   ],
   "source": [
    "y_predicted[:5] == y[:5]"
   ]
  },
  {
   "cell_type": "code",
   "execution_count": 20,
   "id": "51be7260-4257-4c0b-903b-87f2a1a1346d",
   "metadata": {},
   "outputs": [
    {
     "name": "stdout",
     "output_type": "stream",
     "text": [
      "Nº de predicciones correctas: 4 de las 5 primeras\n"
     ]
    }
   ],
   "source": [
    "print(f\"Nº de predicciones correctas: {(y_predicted[:5] == y[:5]).sum()} de las 5 primeras\")"
   ]
  },
  {
   "cell_type": "markdown",
   "id": "639875b0-8f8c-41b2-93be-a7466d728c6b",
   "metadata": {},
   "source": [
    "En este caso, parece que nuestro modelo comete un error al predecir la quinta instancia. Para obtener un mejor evaluación podemos calcular la tasa promedio de éxito:"
   ]
  },
  {
   "cell_type": "code",
   "execution_count": 21,
   "id": "572042f7-201c-4424-986c-ffbdce268a58",
   "metadata": {},
   "outputs": [
    {
     "data": {
      "text/plain": [
       "0.706"
      ]
     },
     "execution_count": 21,
     "metadata": {},
     "output_type": "execute_result"
    }
   ],
   "source": [
    "(y_predicted == y).mean()"
   ]
  },
  {
   "cell_type": "markdown",
   "id": "a7af85a1-8af1-49cb-a98a-b3cc1ebfda8b",
   "metadata": {},
   "source": [
    "¿Podemos confiar en esta evaluación? ¿Es buena o mala?"
   ]
  },
  {
   "cell_type": "markdown",
   "id": "1f2b5eda-c1c5-4562-9821-0fc3802fd8f5",
   "metadata": {},
   "source": [
    "## División de los datos en entrenamiento y prueba"
   ]
  },
  {
   "cell_type": "markdown",
   "id": "c8c92b09-cf6e-45f4-8b4e-2b8e1080a45a",
   "metadata": {},
   "source": [
    "Cuando construimos un modelo de machine learning es muy importante evaluar el modelo entrenado en datos que no se hayan usado para entrenarlo, ya que la **generalización** es más que la memorización (significa que queremos una regla que generalice a nuevos datos, sin comparar los datos memorizados). Es más difícil concluir sobre datos nunca vistos que sobre los ya vistos.\n",
    "\n",
    "La evaluación correcta se realiza fácilmente reservando un subconjunto de los datos cuando entrenamos el modelo y usándolos posteriormente para evaluar el modelo. Los datos usados para entrenar un modelo se denominan **datos de entrenamiento** mientras que los datos usados para evaluar el modelo se denominan **datos de prueba**.\n",
    "\n",
    "En ocasiones podemos contar con dos datasets separados, uno para el entrenamiento y otro para pruebas. Sin embargo, esto suele ser bastante inusual. La mayoría de las veces tendremos un único archivo que contiene todos los datos y necesitaremos dividirlo una vez cargado en memoria.\n",
    "\n",
    "Scikit-learn proporciona la función `sklearn.model_selection.train_test_split`, que usaremos para dividir automáticamente el dataset en dos subconjuntos."
   ]
  },
  {
   "cell_type": "code",
   "execution_count": 22,
   "id": "2c843fb6-5116-4c5a-86ca-f7a1c2dcef9e",
   "metadata": {},
   "outputs": [],
   "source": [
    "from sklearn.model_selection import train_test_split\n",
    "\n",
    "X_train, X_test, y_train, y_test = train_test_split(\n",
    "    X, y, random_state=42, test_size=0.20)"
   ]
  },
  {
   "cell_type": "markdown",
   "id": "bfcc74bc-64e0-45c6-8a4d-49907bd6f323",
   "metadata": {},
   "source": [
    "Cuando llamamos a la función `train_test_split`, especificamos que queremos tener el 20% de las instancias en el conjunto de prueba y las instancias restantes (80%) estarán disponibles para el conjunto de entrenamiento."
   ]
  },
  {
   "cell_type": "markdown",
   "id": "972c3177-35a4-44ce-b231-31b205cc2423",
   "metadata": {},
   "source": [
    "## Establecimiento de una línea base"
   ]
  },
  {
   "cell_type": "markdown",
   "id": "5ca20800-8433-4ec2-876f-a0314d141ddc",
   "metadata": {},
   "source": [
    "Para avaluar el rendimiento de nuestro modelo predictivo resulta de utilidad establecer una línea base simple. La línea base más simple para un clasificador es aquella que predice siempre la misma clase, independientemente de los datos de entrada. Para ello usaremos un `DummyClassifier`."
   ]
  },
  {
   "cell_type": "code",
   "execution_count": 23,
   "id": "92046009-2d50-4d35-8ad6-ec1eb8c81c51",
   "metadata": {},
   "outputs": [],
   "source": [
    "from sklearn.dummy import DummyClassifier\n",
    "\n",
    "clf_dummy = DummyClassifier(strategy=\"most_frequent\", random_state=42)"
   ]
  },
  {
   "cell_type": "code",
   "execution_count": 24,
   "id": "bc3713ae-1abc-4b57-bd0e-c9b963c00379",
   "metadata": {},
   "outputs": [
    {
     "name": "stdout",
     "output_type": "stream",
     "text": [
      "Accuracy línea base: 0.705\n"
     ]
    }
   ],
   "source": [
    "clf_dummy.fit(X_train, y_train)\n",
    "accuracy_dummy = clf_dummy.score(X_test, y_test)\n",
    "print(f\"Accuracy línea base: {accuracy_dummy}\")"
   ]
  },
  {
   "cell_type": "markdown",
   "id": "87333d49-3f68-4a5f-b0fe-034d4940e9c0",
   "metadata": {},
   "source": [
    "Este clasificador dummy predice siempre la clase más frecuente (en nuestro caso, la clase `good`). Como vimos anteriormente la proporción de clase `good` era del 70%, que coincide con la puntuación obtenido por este clasificador. Bien, ya tenemos una linea base con la que comparar nuestro modelo."
   ]
  },
  {
   "cell_type": "markdown",
   "id": "b94601bf-efbb-4672-b1ec-95ddeadc0195",
   "metadata": {},
   "source": [
    "Vamos a entrenar el modelo exactamente de la misma forma que vimos anteriormente, excepto que usaremos para ello los subconjuntos de entrenamiento:"
   ]
  },
  {
   "cell_type": "code",
   "execution_count": 25,
   "id": "cd73661a-91fb-4807-be5c-03a4b02b3065",
   "metadata": {},
   "outputs": [
    {
     "data": {
      "text/html": [
       "<style>div.sk-top-container {color: black;background-color: white;}div.sk-toggleable {background-color: white;}label.sk-toggleable__label {cursor: pointer;display: block;width: 100%;margin-bottom: 0;padding: 0.2em 0.3em;box-sizing: border-box;text-align: center;}div.sk-toggleable__content {max-height: 0;max-width: 0;overflow: hidden;text-align: left;background-color: #f0f8ff;}div.sk-toggleable__content pre {margin: 0.2em;color: black;border-radius: 0.25em;background-color: #f0f8ff;}input.sk-toggleable__control:checked~div.sk-toggleable__content {max-height: 200px;max-width: 100%;overflow: auto;}div.sk-estimator input.sk-toggleable__control:checked~label.sk-toggleable__label {background-color: #d4ebff;}div.sk-label input.sk-toggleable__control:checked~label.sk-toggleable__label {background-color: #d4ebff;}input.sk-hidden--visually {border: 0;clip: rect(1px 1px 1px 1px);clip: rect(1px, 1px, 1px, 1px);height: 1px;margin: -1px;overflow: hidden;padding: 0;position: absolute;width: 1px;}div.sk-estimator {font-family: monospace;background-color: #f0f8ff;margin: 0.25em 0.25em;border: 1px dotted black;border-radius: 0.25em;box-sizing: border-box;}div.sk-estimator:hover {background-color: #d4ebff;}div.sk-parallel-item::after {content: \"\";width: 100%;border-bottom: 1px solid gray;flex-grow: 1;}div.sk-label:hover label.sk-toggleable__label {background-color: #d4ebff;}div.sk-serial::before {content: \"\";position: absolute;border-left: 1px solid gray;box-sizing: border-box;top: 2em;bottom: 0;left: 50%;}div.sk-serial {display: flex;flex-direction: column;align-items: center;background-color: white;}div.sk-item {z-index: 1;}div.sk-parallel {display: flex;align-items: stretch;justify-content: center;background-color: white;}div.sk-parallel-item {display: flex;flex-direction: column;position: relative;background-color: white;}div.sk-parallel-item:first-child::after {align-self: flex-end;width: 50%;}div.sk-parallel-item:last-child::after {align-self: flex-start;width: 50%;}div.sk-parallel-item:only-child::after {width: 0;}div.sk-dashed-wrapped {border: 1px dashed gray;margin: 0.2em;box-sizing: border-box;padding-bottom: 0.1em;background-color: white;position: relative;}div.sk-label label {font-family: monospace;font-weight: bold;background-color: white;display: inline-block;line-height: 1.2em;}div.sk-label-container {position: relative;z-index: 2;text-align: center;}div.sk-container {display: inline-block;position: relative;}</style><div class=\"sk-top-container\"><div class=\"sk-container\"><div class=\"sk-item\"><div class=\"sk-estimator sk-toggleable\"><input class=\"sk-toggleable__control sk-hidden--visually\" id=\"267eb83a-ee9c-4987-aaa9-d47be04cff2b\" type=\"checkbox\" checked><label class=\"sk-toggleable__label\" for=\"267eb83a-ee9c-4987-aaa9-d47be04cff2b\">LogisticRegression</label><div class=\"sk-toggleable__content\"><pre>LogisticRegression(max_iter=500)</pre></div></div></div></div></div>"
      ],
      "text/plain": [
       "LogisticRegression(max_iter=500)"
      ]
     },
     "execution_count": 25,
     "metadata": {},
     "output_type": "execute_result"
    }
   ],
   "source": [
    "model = LogisticRegression(max_iter=500)\n",
    "model.fit(X_train, y_train)"
   ]
  },
  {
   "cell_type": "markdown",
   "id": "19f1fddd-3ba0-4f95-887b-e1af6064355b",
   "metadata": {},
   "source": [
    "En lugar de calcular la predicción y calcular manualmente la tasa media de éxito, podemos usar el método `score`. Cuando se trata de clasificadores este método devuelve su métrica de rendimiento."
   ]
  },
  {
   "cell_type": "code",
   "execution_count": 26,
   "id": "caae4680-3957-4ce9-9202-df6b9f7bf89a",
   "metadata": {},
   "outputs": [
    {
     "name": "stdout",
     "output_type": "stream",
     "text": [
      "Accuracy: 0.740\n"
     ]
    }
   ],
   "source": [
    "accuracy_lgr = model.score(X_test, y_test)\n",
    "print(f\"Accuracy: {accuracy_lgr:.3f}\")"
   ]
  },
  {
   "cell_type": "markdown",
   "id": "b75ee56d-c1bf-498e-8200-77754c0a28b7",
   "metadata": {},
   "source": [
    "Veamos el mecanismo subyacente cuando se llama al método `score`:\n",
    "\n",
    "![](images/model_score.png)"
   ]
  },
  {
   "cell_type": "markdown",
   "id": "c8327110-88c9-4b6e-86ef-76ea64f4dc39",
   "metadata": {},
   "source": [
    "Para calcular la puntuación, el predictor primero calcula las predicciones (usando el metodo `predict`) y luego usa una función de puntuación para comparar los objetivos reales y las predicciones. Por último, se devuelve la puntuación."
   ]
  },
  {
   "cell_type": "markdown",
   "id": "cccc5f79-0835-4407-b809-9e4547fd37a3",
   "metadata": {},
   "source": [
    "Por norma general, nos referimos al **rendimiento de generalización** de un modelo cuando nos refiramos a la puntuación de prueba o al error de prueba obtenido al comparar la predicción de un modelo con los objetivos reales. También son términos equivalentes rendimiento predictivo y rendimiento estadístico. Nos referimos al **rendimiento computacional** de un modelo predictivo cuando accedemos al coste computacional de entrenar un modelo predictivo o usarlo para hacer predicciones."
   ]
  },
  {
   "cell_type": "markdown",
   "id": "f430df76-d304-4396-8a55-2e0fcfc18942",
   "metadata": {},
   "source": [
    "Bueno, la puntuación de nuestro modelo apenas mejora la linea base que establecimos:"
   ]
  },
  {
   "cell_type": "code",
   "execution_count": 27,
   "id": "d46aa760-8bdc-4f59-a612-d21999108223",
   "metadata": {},
   "outputs": [
    {
     "name": "stdout",
     "output_type": "stream",
     "text": [
      "Accuracy línea base = 0.705\n",
      "Accuracy regresión logística = 0.74\n"
     ]
    }
   ],
   "source": [
    "print(f\"Accuracy línea base = {accuracy_dummy}\")\n",
    "print(f\"Accuracy regresión logística = {accuracy_lgr}\")"
   ]
  },
  {
   "cell_type": "markdown",
   "id": "23cb5b1d-cbaa-45f2-9da2-b23648c418d7",
   "metadata": {},
   "source": [
    "Seguro que podemos hacerlo mejor. Veamos cómo."
   ]
  },
  {
   "cell_type": "markdown",
   "id": "428cf453",
   "metadata": {
    "pycharm": {
     "name": "#%% md\n"
    }
   },
   "source": [
    "# Preprocesamiento de features numéricas"
   ]
  },
  {
   "cell_type": "markdown",
   "id": "fc44260d",
   "metadata": {
    "pycharm": {
     "name": "#%% md\n"
    }
   },
   "source": [
    "En los siguientes apartados vamos a introducir el uso del preprocesamiento, en este caso del **escalado de variables numéricas**; y del uso de un pipeline para encadenar el preprocesamiento y el entrenamiento del modelo.\n",
    "\n",
    "Scikit-learn cuenta con una amplia gama de algoritmos de preprocesamiento que nos permiten transformar los datos de entrada antes de entrenar un modelo. Es este caso, vamos a estandarizar los datos y después entrenaremos un nuevo modelo de regresión logística es esta nueva versión del dataset.\n",
    "\n",
    "En primer lugar, vamos a mostrar algunas estadísticas sobre los datos de entrenamiento."
   ]
  },
  {
   "cell_type": "code",
   "execution_count": 28,
   "id": "bbbdc648",
   "metadata": {
    "collapsed": false,
    "jupyter": {
     "outputs_hidden": false
    },
    "pycharm": {
     "name": "#%%\n"
    }
   },
   "outputs": [
    {
     "data": {
      "text/html": [
       "<div>\n",
       "<style scoped>\n",
       "    .dataframe tbody tr th:only-of-type {\n",
       "        vertical-align: middle;\n",
       "    }\n",
       "\n",
       "    .dataframe tbody tr th {\n",
       "        vertical-align: top;\n",
       "    }\n",
       "\n",
       "    .dataframe thead th {\n",
       "        text-align: right;\n",
       "    }\n",
       "</style>\n",
       "<table border=\"1\" class=\"dataframe\">\n",
       "  <thead>\n",
       "    <tr style=\"text-align: right;\">\n",
       "      <th></th>\n",
       "      <th>duration</th>\n",
       "      <th>credit_amount</th>\n",
       "      <th>installment_commitment</th>\n",
       "      <th>residence_since</th>\n",
       "      <th>age</th>\n",
       "      <th>existing_credits</th>\n",
       "      <th>num_dependents</th>\n",
       "    </tr>\n",
       "  </thead>\n",
       "  <tbody>\n",
       "    <tr>\n",
       "      <th>count</th>\n",
       "      <td>800.000000</td>\n",
       "      <td>800.000000</td>\n",
       "      <td>800.000000</td>\n",
       "      <td>800.000000</td>\n",
       "      <td>800.000000</td>\n",
       "      <td>800.000000</td>\n",
       "      <td>800.000000</td>\n",
       "    </tr>\n",
       "    <tr>\n",
       "      <th>mean</th>\n",
       "      <td>21.095000</td>\n",
       "      <td>3360.618750</td>\n",
       "      <td>2.965000</td>\n",
       "      <td>2.846250</td>\n",
       "      <td>35.558750</td>\n",
       "      <td>1.411250</td>\n",
       "      <td>1.143750</td>\n",
       "    </tr>\n",
       "    <tr>\n",
       "      <th>std</th>\n",
       "      <td>11.807211</td>\n",
       "      <td>2898.174863</td>\n",
       "      <td>1.122653</td>\n",
       "      <td>1.105277</td>\n",
       "      <td>11.411587</td>\n",
       "      <td>0.578828</td>\n",
       "      <td>0.351056</td>\n",
       "    </tr>\n",
       "    <tr>\n",
       "      <th>min</th>\n",
       "      <td>4.000000</td>\n",
       "      <td>250.000000</td>\n",
       "      <td>1.000000</td>\n",
       "      <td>1.000000</td>\n",
       "      <td>19.000000</td>\n",
       "      <td>1.000000</td>\n",
       "      <td>1.000000</td>\n",
       "    </tr>\n",
       "    <tr>\n",
       "      <th>25%</th>\n",
       "      <td>12.000000</td>\n",
       "      <td>1380.000000</td>\n",
       "      <td>2.000000</td>\n",
       "      <td>2.000000</td>\n",
       "      <td>27.000000</td>\n",
       "      <td>1.000000</td>\n",
       "      <td>1.000000</td>\n",
       "    </tr>\n",
       "    <tr>\n",
       "      <th>50%</th>\n",
       "      <td>18.000000</td>\n",
       "      <td>2333.000000</td>\n",
       "      <td>3.000000</td>\n",
       "      <td>3.000000</td>\n",
       "      <td>33.000000</td>\n",
       "      <td>1.000000</td>\n",
       "      <td>1.000000</td>\n",
       "    </tr>\n",
       "    <tr>\n",
       "      <th>75%</th>\n",
       "      <td>24.000000</td>\n",
       "      <td>4154.500000</td>\n",
       "      <td>4.000000</td>\n",
       "      <td>4.000000</td>\n",
       "      <td>42.000000</td>\n",
       "      <td>2.000000</td>\n",
       "      <td>1.000000</td>\n",
       "    </tr>\n",
       "    <tr>\n",
       "      <th>max</th>\n",
       "      <td>60.000000</td>\n",
       "      <td>18424.000000</td>\n",
       "      <td>4.000000</td>\n",
       "      <td>4.000000</td>\n",
       "      <td>75.000000</td>\n",
       "      <td>4.000000</td>\n",
       "      <td>2.000000</td>\n",
       "    </tr>\n",
       "  </tbody>\n",
       "</table>\n",
       "</div>"
      ],
      "text/plain": [
       "         duration  credit_amount  installment_commitment  residence_since  \\\n",
       "count  800.000000     800.000000              800.000000       800.000000   \n",
       "mean    21.095000    3360.618750                2.965000         2.846250   \n",
       "std     11.807211    2898.174863                1.122653         1.105277   \n",
       "min      4.000000     250.000000                1.000000         1.000000   \n",
       "25%     12.000000    1380.000000                2.000000         2.000000   \n",
       "50%     18.000000    2333.000000                3.000000         3.000000   \n",
       "75%     24.000000    4154.500000                4.000000         4.000000   \n",
       "max     60.000000   18424.000000                4.000000         4.000000   \n",
       "\n",
       "              age  existing_credits  num_dependents  \n",
       "count  800.000000        800.000000      800.000000  \n",
       "mean    35.558750          1.411250        1.143750  \n",
       "std     11.411587          0.578828        0.351056  \n",
       "min     19.000000          1.000000        1.000000  \n",
       "25%     27.000000          1.000000        1.000000  \n",
       "50%     33.000000          1.000000        1.000000  \n",
       "75%     42.000000          2.000000        1.000000  \n",
       "max     75.000000          4.000000        2.000000  "
      ]
     },
     "execution_count": 28,
     "metadata": {},
     "output_type": "execute_result"
    }
   ],
   "source": [
    "X_train.describe()"
   ]
  },
  {
   "cell_type": "markdown",
   "id": "7d02881c",
   "metadata": {
    "pycharm": {
     "name": "#%% md\n"
    }
   },
   "source": [
    "Observamos que las features del dataset abarcan diferentes rangos. Algunos algoritmos hacen suposiciones con respecto a las distribuciones de las features y, en general, la normalización de estas features resultará de utilidad para abordar estas suposiciones. Algunas razones para el escalado de features son las siguientes:\n",
    "\n",
    "+ Los modelos basados en distancias entre pares de instancias, por ejemplo, k-nearest neighbors, deben ser entrenados con features normalizadas para hacer que cada feature contribuya aproximadamente por igual a los cálculos de distancias.\n",
    "\n",
    "+ Muchos modelos, como la regresión logística usan solucionadores numéricos (basados en descenso de gradiente) para encontrar sus parámetros óptimos. Este solucionador converge más rápido cuando las features están escaladas."
   ]
  },
  {
   "cell_type": "markdown",
   "id": "f53e6495",
   "metadata": {
    "pycharm": {
     "name": "#%% md\n"
    }
   },
   "source": [
    "El hecho de que un modelo de machile learning requiera o no de escalado de features depende de la familia del modelo. Los modelos lineales como la regresión logística generalmente se benefician del escalado mientras que otros modelos como los árboles de decisión no necesitan de este preprocesado (pero tampoco se verían penalizados).\n",
    "\n",
    "Vamos a mostrar cómo aplicar tal normalización usando un transformador de scikit-learn llamado `StandardScaler`. Este transformador escala cada feature individualmente para que todas tengan media 0 y desviación estándar 1. Analizaremos los diferentes pasos usados por scikit-learn para conseguir esta transformación de los datos.\n",
    "\n",
    "Lo primero que necesitamos es llamar al método `fit` para que aprenda el escalado de los datos."
   ]
  },
  {
   "cell_type": "code",
   "execution_count": 29,
   "id": "b13d3cd9",
   "metadata": {
    "collapsed": false,
    "jupyter": {
     "outputs_hidden": false
    },
    "pycharm": {
     "name": "#%%\n"
    }
   },
   "outputs": [
    {
     "data": {
      "text/html": [
       "<style>div.sk-top-container {color: black;background-color: white;}div.sk-toggleable {background-color: white;}label.sk-toggleable__label {cursor: pointer;display: block;width: 100%;margin-bottom: 0;padding: 0.2em 0.3em;box-sizing: border-box;text-align: center;}div.sk-toggleable__content {max-height: 0;max-width: 0;overflow: hidden;text-align: left;background-color: #f0f8ff;}div.sk-toggleable__content pre {margin: 0.2em;color: black;border-radius: 0.25em;background-color: #f0f8ff;}input.sk-toggleable__control:checked~div.sk-toggleable__content {max-height: 200px;max-width: 100%;overflow: auto;}div.sk-estimator input.sk-toggleable__control:checked~label.sk-toggleable__label {background-color: #d4ebff;}div.sk-label input.sk-toggleable__control:checked~label.sk-toggleable__label {background-color: #d4ebff;}input.sk-hidden--visually {border: 0;clip: rect(1px 1px 1px 1px);clip: rect(1px, 1px, 1px, 1px);height: 1px;margin: -1px;overflow: hidden;padding: 0;position: absolute;width: 1px;}div.sk-estimator {font-family: monospace;background-color: #f0f8ff;margin: 0.25em 0.25em;border: 1px dotted black;border-radius: 0.25em;box-sizing: border-box;}div.sk-estimator:hover {background-color: #d4ebff;}div.sk-parallel-item::after {content: \"\";width: 100%;border-bottom: 1px solid gray;flex-grow: 1;}div.sk-label:hover label.sk-toggleable__label {background-color: #d4ebff;}div.sk-serial::before {content: \"\";position: absolute;border-left: 1px solid gray;box-sizing: border-box;top: 2em;bottom: 0;left: 50%;}div.sk-serial {display: flex;flex-direction: column;align-items: center;background-color: white;}div.sk-item {z-index: 1;}div.sk-parallel {display: flex;align-items: stretch;justify-content: center;background-color: white;}div.sk-parallel-item {display: flex;flex-direction: column;position: relative;background-color: white;}div.sk-parallel-item:first-child::after {align-self: flex-end;width: 50%;}div.sk-parallel-item:last-child::after {align-self: flex-start;width: 50%;}div.sk-parallel-item:only-child::after {width: 0;}div.sk-dashed-wrapped {border: 1px dashed gray;margin: 0.2em;box-sizing: border-box;padding-bottom: 0.1em;background-color: white;position: relative;}div.sk-label label {font-family: monospace;font-weight: bold;background-color: white;display: inline-block;line-height: 1.2em;}div.sk-label-container {position: relative;z-index: 2;text-align: center;}div.sk-container {display: inline-block;position: relative;}</style><div class=\"sk-top-container\"><div class=\"sk-container\"><div class=\"sk-item\"><div class=\"sk-estimator sk-toggleable\"><input class=\"sk-toggleable__control sk-hidden--visually\" id=\"9d5ca8dc-9cdd-4344-adca-3f5a0c2964bd\" type=\"checkbox\" checked><label class=\"sk-toggleable__label\" for=\"9d5ca8dc-9cdd-4344-adca-3f5a0c2964bd\">StandardScaler</label><div class=\"sk-toggleable__content\"><pre>StandardScaler()</pre></div></div></div></div></div>"
      ],
      "text/plain": [
       "StandardScaler()"
      ]
     },
     "execution_count": 29,
     "metadata": {},
     "output_type": "execute_result"
    }
   ],
   "source": [
    "from sklearn.preprocessing import StandardScaler\n",
    "\n",
    "scaler = StandardScaler()\n",
    "scaler.fit(X_train)"
   ]
  },
  {
   "cell_type": "markdown",
   "id": "6f362f51",
   "metadata": {
    "pycharm": {
     "name": "#%% md\n"
    }
   },
   "source": [
    "El método `fit` de los transformadores es similar al método `fit` de los predictores. La diferencia principal es que el transformador tiene un único argumento, la matriz de datos, mientras que el último tiene dos argumentos, la matriz de datos y el objetivo). En este caso, el algoritmo necesita calcular la media y la desviación típica de cada feature y almacenarla en algunas arrays de Numpy. Aquí, estos estadísticos son los estados del modelo. El hecho de que los estados del modelo de este scaler sean arrays de medias y desviaciones típicas es específico del `StandardScale`. Otros transformadores de scikit-learn calcularán diferentes estadísticos y los almacenarán como estados del modelo de la misma forma.\n",
    "\n",
    "Vamos a inspeccionar las medias y desviaciones típicas calculadas."
   ]
  },
  {
   "cell_type": "code",
   "execution_count": 30,
   "id": "555afbf0",
   "metadata": {
    "collapsed": false,
    "jupyter": {
     "outputs_hidden": false
    },
    "pycharm": {
     "name": "#%%\n"
    }
   },
   "outputs": [
    {
     "data": {
      "text/plain": [
       "array([2.10950000e+01, 3.36061875e+03, 2.96500000e+00, 2.84625000e+00,\n",
       "       3.55587500e+01, 1.41125000e+00, 1.14375000e+00])"
      ]
     },
     "execution_count": 30,
     "metadata": {},
     "output_type": "execute_result"
    }
   ],
   "source": [
    "scaler.mean_"
   ]
  },
  {
   "cell_type": "code",
   "execution_count": 31,
   "id": "d900859f",
   "metadata": {
    "collapsed": false,
    "jupyter": {
     "outputs_hidden": false
    },
    "pycharm": {
     "name": "#%%\n"
    }
   },
   "outputs": [
    {
     "data": {
      "text/plain": [
       "array([1.17998294e+01, 2.89636294e+03, 1.12195142e+00, 1.10458632e+00,\n",
       "       1.14044530e+01, 5.78466453e-01, 3.50836055e-01])"
      ]
     },
     "execution_count": 31,
     "metadata": {},
     "output_type": "execute_result"
    }
   ],
   "source": [
    "scaler.scale_"
   ]
  },
  {
   "cell_type": "markdown",
   "id": "9e71fc66",
   "metadata": {
    "pycharm": {
     "name": "#%% md\n"
    }
   },
   "source": [
    "Ya sabemos, por convención de scikit-learn, que si un atributo aprende de los datos, su nombre termina con `_`, como `mean_` y `scale_` para el `StandardScaler`.\n",
    "\n",
    "El escalado de los datos se aplica a cada feature de forma individual. Para cada feature, restamos su media y dividimos por su desviación típica. Una vez que hemos llamado al método `fit` podemos ejecutar la transformación llamando al método `transform`."
   ]
  },
  {
   "cell_type": "code",
   "execution_count": 32,
   "id": "6c3ece88",
   "metadata": {
    "collapsed": false,
    "jupyter": {
     "outputs_hidden": false
    },
    "pycharm": {
     "name": "#%%\n"
    }
   },
   "outputs": [
    {
     "data": {
      "text/plain": [
       "array([[ 3.29708155,  1.19991221,  0.03119565, ...,  2.4061873 ,\n",
       "         1.01777726, -0.40973554],\n",
       "       [-0.00805096, -0.35962991, -0.86010854, ..., -0.22436411,\n",
       "        -0.71093146, -0.40973554],\n",
       "       [-1.27925578, -0.73354714, -0.86010854, ...,  1.26628169,\n",
       "        -0.71093146, -0.40973554],\n",
       "       ...,\n",
       "       [ 0.24619   ,  0.84360327,  0.92249983, ..., -0.7504744 ,\n",
       "         1.01777726, -0.40973554],\n",
       "       [-0.77077385, -0.64792251, -0.86010854, ..., -0.92584449,\n",
       "        -0.71093146, -0.40973554],\n",
       "       [-1.27925578, -0.83850636,  0.03119565, ..., -1.01352954,\n",
       "        -0.71093146, -0.40973554]])"
      ]
     },
     "execution_count": 32,
     "metadata": {},
     "output_type": "execute_result"
    }
   ],
   "source": [
    "X_train_scaled = scaler.transform(X_train)\n",
    "X_train_scaled"
   ]
  },
  {
   "cell_type": "markdown",
   "id": "3b987f2b",
   "metadata": {
    "pycharm": {
     "name": "#%% md\n"
    }
   },
   "source": [
    "Vamos a analizar el mecanismo interno del método `transform` y lo pondremos en perspectiva con lo que ya vimos con los predictores.\n",
    "\n",
    "![](images/transformer_transformer.PNG)"
   ]
  },
  {
   "cell_type": "markdown",
   "id": "eda23549",
   "metadata": {
    "pycharm": {
     "name": "#%% md\n"
    }
   },
   "source": [
    "El método `transform` para los transformadores es similar al método `predict` para los predictores. Usa una función predefinida, llamada **función de transformación**, y usa los estados del modelo y los datos de entrada. Sin embargo, en lugar de devolver predicciones, el trabajo del método `transform` es devolver una versión transformada de los datos de entrada.\n",
    "\n",
    "Por último, el método `fit_transform` es un método abreviado para llamar sucesivamente a `fit`y después a `transform`.\n",
    "\n",
    "![](images/transform_fit_transform.PNG)"
   ]
  },
  {
   "cell_type": "code",
   "execution_count": 33,
   "id": "4fe4796a",
   "metadata": {
    "collapsed": false,
    "jupyter": {
     "outputs_hidden": false
    },
    "pycharm": {
     "name": "#%%\n"
    }
   },
   "outputs": [
    {
     "data": {
      "text/plain": [
       "array([[ 3.29708155,  1.19991221,  0.03119565, ...,  2.4061873 ,\n",
       "         1.01777726, -0.40973554],\n",
       "       [-0.00805096, -0.35962991, -0.86010854, ..., -0.22436411,\n",
       "        -0.71093146, -0.40973554],\n",
       "       [-1.27925578, -0.73354714, -0.86010854, ...,  1.26628169,\n",
       "        -0.71093146, -0.40973554],\n",
       "       ...,\n",
       "       [ 0.24619   ,  0.84360327,  0.92249983, ..., -0.7504744 ,\n",
       "         1.01777726, -0.40973554],\n",
       "       [-0.77077385, -0.64792251, -0.86010854, ..., -0.92584449,\n",
       "        -0.71093146, -0.40973554],\n",
       "       [-1.27925578, -0.83850636,  0.03119565, ..., -1.01352954,\n",
       "        -0.71093146, -0.40973554]])"
      ]
     },
     "execution_count": 33,
     "metadata": {},
     "output_type": "execute_result"
    }
   ],
   "source": [
    "X_train_scaled = scaler.fit_transform(X_train)\n",
    "X_train_scaled"
   ]
  },
  {
   "cell_type": "code",
   "execution_count": 34,
   "id": "5a6050e8",
   "metadata": {
    "collapsed": false,
    "jupyter": {
     "outputs_hidden": false
    },
    "pycharm": {
     "name": "#%%\n"
    }
   },
   "outputs": [
    {
     "data": {
      "text/html": [
       "<div>\n",
       "<style scoped>\n",
       "    .dataframe tbody tr th:only-of-type {\n",
       "        vertical-align: middle;\n",
       "    }\n",
       "\n",
       "    .dataframe tbody tr th {\n",
       "        vertical-align: top;\n",
       "    }\n",
       "\n",
       "    .dataframe thead th {\n",
       "        text-align: right;\n",
       "    }\n",
       "</style>\n",
       "<table border=\"1\" class=\"dataframe\">\n",
       "  <thead>\n",
       "    <tr style=\"text-align: right;\">\n",
       "      <th></th>\n",
       "      <th>duration</th>\n",
       "      <th>credit_amount</th>\n",
       "      <th>installment_commitment</th>\n",
       "      <th>residence_since</th>\n",
       "      <th>age</th>\n",
       "      <th>existing_credits</th>\n",
       "      <th>num_dependents</th>\n",
       "    </tr>\n",
       "  </thead>\n",
       "  <tbody>\n",
       "    <tr>\n",
       "      <th>count</th>\n",
       "      <td>8.000000e+02</td>\n",
       "      <td>8.000000e+02</td>\n",
       "      <td>8.000000e+02</td>\n",
       "      <td>8.000000e+02</td>\n",
       "      <td>8.000000e+02</td>\n",
       "      <td>8.000000e+02</td>\n",
       "      <td>8.000000e+02</td>\n",
       "    </tr>\n",
       "    <tr>\n",
       "      <th>mean</th>\n",
       "      <td>9.769963e-17</td>\n",
       "      <td>-1.776357e-17</td>\n",
       "      <td>1.465494e-16</td>\n",
       "      <td>2.664535e-17</td>\n",
       "      <td>-3.075318e-16</td>\n",
       "      <td>2.242651e-16</td>\n",
       "      <td>-8.437695e-17</td>\n",
       "    </tr>\n",
       "    <tr>\n",
       "      <th>std</th>\n",
       "      <td>1.000626e+00</td>\n",
       "      <td>1.000626e+00</td>\n",
       "      <td>1.000626e+00</td>\n",
       "      <td>1.000626e+00</td>\n",
       "      <td>1.000626e+00</td>\n",
       "      <td>1.000626e+00</td>\n",
       "      <td>1.000626e+00</td>\n",
       "    </tr>\n",
       "    <tr>\n",
       "      <th>min</th>\n",
       "      <td>-1.448750e+00</td>\n",
       "      <td>-1.073974e+00</td>\n",
       "      <td>-1.751413e+00</td>\n",
       "      <td>-1.671440e+00</td>\n",
       "      <td>-1.451955e+00</td>\n",
       "      <td>-7.109315e-01</td>\n",
       "      <td>-4.097355e-01</td>\n",
       "    </tr>\n",
       "    <tr>\n",
       "      <th>25%</th>\n",
       "      <td>-7.707739e-01</td>\n",
       "      <td>-6.838296e-01</td>\n",
       "      <td>-8.601085e-01</td>\n",
       "      <td>-7.661239e-01</td>\n",
       "      <td>-7.504744e-01</td>\n",
       "      <td>-7.109315e-01</td>\n",
       "      <td>-4.097355e-01</td>\n",
       "    </tr>\n",
       "    <tr>\n",
       "      <th>50%</th>\n",
       "      <td>-2.622919e-01</td>\n",
       "      <td>-3.547963e-01</td>\n",
       "      <td>3.119565e-02</td>\n",
       "      <td>1.391924e-01</td>\n",
       "      <td>-2.243641e-01</td>\n",
       "      <td>-7.109315e-01</td>\n",
       "      <td>-4.097355e-01</td>\n",
       "    </tr>\n",
       "    <tr>\n",
       "      <th>75%</th>\n",
       "      <td>2.461900e-01</td>\n",
       "      <td>2.740959e-01</td>\n",
       "      <td>9.224998e-01</td>\n",
       "      <td>1.044509e+00</td>\n",
       "      <td>5.648013e-01</td>\n",
       "      <td>1.017777e+00</td>\n",
       "      <td>-4.097355e-01</td>\n",
       "    </tr>\n",
       "    <tr>\n",
       "      <th>max</th>\n",
       "      <td>3.297082e+00</td>\n",
       "      <td>5.200792e+00</td>\n",
       "      <td>9.224998e-01</td>\n",
       "      <td>1.044509e+00</td>\n",
       "      <td>3.458408e+00</td>\n",
       "      <td>4.475195e+00</td>\n",
       "      <td>2.440599e+00</td>\n",
       "    </tr>\n",
       "  </tbody>\n",
       "</table>\n",
       "</div>"
      ],
      "text/plain": [
       "           duration  credit_amount  installment_commitment  residence_since  \\\n",
       "count  8.000000e+02   8.000000e+02            8.000000e+02     8.000000e+02   \n",
       "mean   9.769963e-17  -1.776357e-17            1.465494e-16     2.664535e-17   \n",
       "std    1.000626e+00   1.000626e+00            1.000626e+00     1.000626e+00   \n",
       "min   -1.448750e+00  -1.073974e+00           -1.751413e+00    -1.671440e+00   \n",
       "25%   -7.707739e-01  -6.838296e-01           -8.601085e-01    -7.661239e-01   \n",
       "50%   -2.622919e-01  -3.547963e-01            3.119565e-02     1.391924e-01   \n",
       "75%    2.461900e-01   2.740959e-01            9.224998e-01     1.044509e+00   \n",
       "max    3.297082e+00   5.200792e+00            9.224998e-01     1.044509e+00   \n",
       "\n",
       "                age  existing_credits  num_dependents  \n",
       "count  8.000000e+02      8.000000e+02    8.000000e+02  \n",
       "mean  -3.075318e-16      2.242651e-16   -8.437695e-17  \n",
       "std    1.000626e+00      1.000626e+00    1.000626e+00  \n",
       "min   -1.451955e+00     -7.109315e-01   -4.097355e-01  \n",
       "25%   -7.504744e-01     -7.109315e-01   -4.097355e-01  \n",
       "50%   -2.243641e-01     -7.109315e-01   -4.097355e-01  \n",
       "75%    5.648013e-01      1.017777e+00   -4.097355e-01  \n",
       "max    3.458408e+00      4.475195e+00    2.440599e+00  "
      ]
     },
     "execution_count": 34,
     "metadata": {},
     "output_type": "execute_result"
    }
   ],
   "source": [
    "X_train_scaled = pd.DataFrame(X_train_scaled,\n",
    "                              columns=X_train.columns)\n",
    "X_train_scaled.describe()"
   ]
  },
  {
   "cell_type": "markdown",
   "id": "62efee6c",
   "metadata": {
    "pycharm": {
     "name": "#%% md\n"
    }
   },
   "source": [
    "Observemos que la media de todas las columnas es cercana a 0 y la desviación típica en todos los casos es cercano a 1. Podemos visualizar el efecto de `StandarScaler` usando un joinplot para mostrar ambos histogramas de distribución y un scatterplot de cada par de features numéricas al mismo tiempo. Observamos que `StandardScaler` no cambia la estructura de los datos en si mismos sino que los ejes han sido desplazados y escalados."
   ]
  },
  {
   "cell_type": "code",
   "execution_count": 35,
   "id": "cebdc9c0",
   "metadata": {
    "collapsed": false,
    "jupyter": {
     "outputs_hidden": false
    },
    "pycharm": {
     "name": "#%%\n"
    }
   },
   "outputs": [
    {
     "data": {
      "image/png": "[encoded data removed]",
      "text/plain": [
       "<Figure size 432x432 with 3 Axes>"
      ]
     },
     "metadata": {
      "needs_background": "light"
     },
     "output_type": "display_data"
    },
    {
     "data": {
      "image/png": "[encoded data removed]",
      "text/plain": [
       "<Figure size 432x432 with 3 Axes>"
      ]
     },
     "metadata": {
      "needs_background": "light"
     },
     "output_type": "display_data"
    }
   ],
   "source": [
    "import matplotlib.pyplot  as plt\n",
    "\n",
    "# number of points to visualize to have a clearer plot\n",
    "num_points_to_plot = 300\n",
    "\n",
    "sns.jointplot(data=X_train[:num_points_to_plot], x=\"age\",\n",
    "              y=\"credit_amount\", marginal_kws=dict(bins=15))\n",
    "plt.suptitle(\"Jointplot de 'age' vs 'credit_amount' \\nantes de StandardScaler\", y=1.1)\n",
    "\n",
    "sns.jointplot(data=X_train_scaled[:num_points_to_plot], x=\"age\",\n",
    "              y=\"credit_amount\", marginal_kws=dict(bins=15))\n",
    "_ = plt.suptitle(\"Jointplot de 'age' vs 'credit_amount' \\ndespués de StandardScaler\", y=1.1)"
   ]
  },
  {
   "cell_type": "markdown",
   "id": "10ce9e7f",
   "metadata": {
    "pycharm": {
     "name": "#%% md\n"
    }
   },
   "source": [
    "Podemos combinar fácilmente operaciones secuenciales con un `pipeline` de scikit-learn, que encadena juntas operaciones y se usa como cualquier otro clasificador o regresor. La función `make_pipeline` creará un `Pipeline`: toma como argumentos las sucesivas transformaciones a ejecutar, seguido por el modelo clasificador o regresor."
   ]
  },
  {
   "cell_type": "code",
   "execution_count": 36,
   "id": "b704d145",
   "metadata": {
    "collapsed": false,
    "jupyter": {
     "outputs_hidden": false
    },
    "pycharm": {
     "name": "#%%\n"
    }
   },
   "outputs": [
    {
     "data": {
      "text/html": [
       "<style>div.sk-top-container {color: black;background-color: white;}div.sk-toggleable {background-color: white;}label.sk-toggleable__label {cursor: pointer;display: block;width: 100%;margin-bottom: 0;padding: 0.2em 0.3em;box-sizing: border-box;text-align: center;}div.sk-toggleable__content {max-height: 0;max-width: 0;overflow: hidden;text-align: left;background-color: #f0f8ff;}div.sk-toggleable__content pre {margin: 0.2em;color: black;border-radius: 0.25em;background-color: #f0f8ff;}input.sk-toggleable__control:checked~div.sk-toggleable__content {max-height: 200px;max-width: 100%;overflow: auto;}div.sk-estimator input.sk-toggleable__control:checked~label.sk-toggleable__label {background-color: #d4ebff;}div.sk-label input.sk-toggleable__control:checked~label.sk-toggleable__label {background-color: #d4ebff;}input.sk-hidden--visually {border: 0;clip: rect(1px 1px 1px 1px);clip: rect(1px, 1px, 1px, 1px);height: 1px;margin: -1px;overflow: hidden;padding: 0;position: absolute;width: 1px;}div.sk-estimator {font-family: monospace;background-color: #f0f8ff;margin: 0.25em 0.25em;border: 1px dotted black;border-radius: 0.25em;box-sizing: border-box;}div.sk-estimator:hover {background-color: #d4ebff;}div.sk-parallel-item::after {content: \"\";width: 100%;border-bottom: 1px solid gray;flex-grow: 1;}div.sk-label:hover label.sk-toggleable__label {background-color: #d4ebff;}div.sk-serial::before {content: \"\";position: absolute;border-left: 1px solid gray;box-sizing: border-box;top: 2em;bottom: 0;left: 50%;}div.sk-serial {display: flex;flex-direction: column;align-items: center;background-color: white;}div.sk-item {z-index: 1;}div.sk-parallel {display: flex;align-items: stretch;justify-content: center;background-color: white;}div.sk-parallel-item {display: flex;flex-direction: column;position: relative;background-color: white;}div.sk-parallel-item:first-child::after {align-self: flex-end;width: 50%;}div.sk-parallel-item:last-child::after {align-self: flex-start;width: 50%;}div.sk-parallel-item:only-child::after {width: 0;}div.sk-dashed-wrapped {border: 1px dashed gray;margin: 0.2em;box-sizing: border-box;padding-bottom: 0.1em;background-color: white;position: relative;}div.sk-label label {font-family: monospace;font-weight: bold;background-color: white;display: inline-block;line-height: 1.2em;}div.sk-label-container {position: relative;z-index: 2;text-align: center;}div.sk-container {display: inline-block;position: relative;}</style><div class=\"sk-top-container\"><div class=\"sk-container\"><div class=\"sk-item sk-dashed-wrapped\"><div class=\"sk-label-container\"><div class=\"sk-label sk-toggleable\"><input class=\"sk-toggleable__control sk-hidden--visually\" id=\"be71bd42-d445-483e-be89-885d39a54527\" type=\"checkbox\" ><label class=\"sk-toggleable__label\" for=\"be71bd42-d445-483e-be89-885d39a54527\">Pipeline</label><div class=\"sk-toggleable__content\"><pre>Pipeline(steps=[('standardscaler', StandardScaler()),\n",
       "                ('logisticregression', LogisticRegression())])</pre></div></div></div><div class=\"sk-serial\"><div class=\"sk-item\"><div class=\"sk-estimator sk-toggleable\"><input class=\"sk-toggleable__control sk-hidden--visually\" id=\"8d859484-a933-41a0-9166-7e42f1304392\" type=\"checkbox\" ><label class=\"sk-toggleable__label\" for=\"8d859484-a933-41a0-9166-7e42f1304392\">StandardScaler</label><div class=\"sk-toggleable__content\"><pre>StandardScaler()</pre></div></div></div><div class=\"sk-item\"><div class=\"sk-estimator sk-toggleable\"><input class=\"sk-toggleable__control sk-hidden--visually\" id=\"2770c1bf-a52a-4dd4-b674-8382c7cdd256\" type=\"checkbox\" ><label class=\"sk-toggleable__label\" for=\"2770c1bf-a52a-4dd4-b674-8382c7cdd256\">LogisticRegression</label><div class=\"sk-toggleable__content\"><pre>LogisticRegression()</pre></div></div></div></div></div></div></div>"
      ],
      "text/plain": [
       "Pipeline(steps=[('standardscaler', StandardScaler()),\n",
       "                ('logisticregression', LogisticRegression())])"
      ]
     },
     "execution_count": 36,
     "metadata": {},
     "output_type": "execute_result"
    }
   ],
   "source": [
    "import time\n",
    "from sklearn.pipeline import make_pipeline\n",
    "\n",
    "model = make_pipeline(StandardScaler(), LogisticRegression())\n",
    "model"
   ]
  },
  {
   "cell_type": "markdown",
   "id": "fbf01484",
   "metadata": {
    "pycharm": {
     "name": "#%% md\n"
    }
   },
   "source": [
    "La función `make_pipeline` no requiere que demos un nombre a cada paso. De hecho, se lo asigna automáticamente basado en el nombre de la clase suministrada; un `StandardScaler` tendrá un paso llamado `\"standardscaler\"` en el pipeline resultante. Podemos comprobar el nombre de cada paso del modelo:"
   ]
  },
  {
   "cell_type": "code",
   "execution_count": 37,
   "id": "85cd2667",
   "metadata": {
    "collapsed": false,
    "jupyter": {
     "outputs_hidden": false
    },
    "pycharm": {
     "name": "#%%\n"
    }
   },
   "outputs": [
    {
     "data": {
      "text/plain": [
       "{'standardscaler': StandardScaler(),\n",
       " 'logisticregression': LogisticRegression()}"
      ]
     },
     "execution_count": 37,
     "metadata": {},
     "output_type": "execute_result"
    }
   ],
   "source": [
    "model.named_steps"
   ]
  },
  {
   "cell_type": "markdown",
   "id": "288dff8a",
   "metadata": {
    "pycharm": {
     "name": "#%% md\n"
    }
   },
   "source": [
    "Este pipeline predictivo expone los mismos métodos que el predictor final: `fit` y `predict` (y adicionalmente `predict_proba`, `decision_function` o `score`)."
   ]
  },
  {
   "cell_type": "code",
   "execution_count": 38,
   "id": "682121e8",
   "metadata": {
    "collapsed": false,
    "jupyter": {
     "outputs_hidden": false
    },
    "pycharm": {
     "name": "#%%\n"
    }
   },
   "outputs": [],
   "source": [
    "start = time.time()\n",
    "model.fit(X_train, y_train)\n",
    "elapsed_time = time.time() - start"
   ]
  },
  {
   "cell_type": "markdown",
   "id": "a36b8096",
   "metadata": {},
   "source": [
    "![](images/pipeline_fit.png)"
   ]
  },
  {
   "cell_type": "markdown",
   "id": "6b12f217",
   "metadata": {
    "pycharm": {
     "name": "#%% md\n"
    }
   },
   "source": [
    "Cuando llamamos a `model.fit`, se llamará al método `fit_transform` para cada transformador subyacente (en este caso, un único transformador) para:\n",
    "\n",
    "+ aprender sus estados de modelo internos\n",
    "+ transformar los datos de entrenamiento. Finalmente, los datos preprocesados se suministrarán para entrenar el predictor.\n",
    "\n",
    "Para predecir los objetivos dado un conjunto de prueba se usa el método `predict`."
   ]
  },
  {
   "cell_type": "code",
   "execution_count": 39,
   "id": "e7a2aeb1",
   "metadata": {
    "collapsed": false,
    "jupyter": {
     "outputs_hidden": false
    },
    "pycharm": {
     "name": "#%%\n"
    }
   },
   "outputs": [
    {
     "data": {
      "text/plain": [
       "array(['good', 'good', 'good', 'good', 'good'], dtype=object)"
      ]
     },
     "execution_count": 39,
     "metadata": {},
     "output_type": "execute_result"
    }
   ],
   "source": [
    "y_predicted = model.predict(X_test)\n",
    "y_predicted[:5]"
   ]
  },
  {
   "cell_type": "markdown",
   "id": "0fbec468",
   "metadata": {
    "pycharm": {
     "name": "#%% md\n"
    }
   },
   "source": [
    "Mostremos el mecanismo subyacente:\n",
    "\n",
    "![](images/pipeline_predict.png)"
   ]
  },
  {
   "cell_type": "markdown",
   "id": "776d4809",
   "metadata": {
    "pycharm": {
     "name": "#%% md\n"
    }
   },
   "source": [
    "Se llama al método `transform` de cada transformador (en este caso, un único transformador) para preprocesar los datos. Tengamos en cuenta que no es necesario llamar al método `fit` de esos transformadores porque estamos usando los estados de modelo internos calculados cuando llamamos a `model.fil`. Los datos preprocesados son entonces proporcionados al predictor que devolverá los objetivos predichos llamando al método `predict`.\n",
    "\n",
    "Como atajo, podemos comprobar la puntuación del pipeline predictivo completo llamando al método `model.score`. Por tanto, vamos a verificar el rendimiento computacional y de generalización de este pipeline predictivo."
   ]
  },
  {
   "cell_type": "code",
   "execution_count": 40,
   "id": "a08969bf",
   "metadata": {
    "collapsed": false,
    "jupyter": {
     "outputs_hidden": false
    },
    "pycharm": {
     "name": "#%%\n"
    }
   },
   "outputs": [
    {
     "name": "stdout",
     "output_type": "stream",
     "text": [
      "La precisión usando un Pipeline es 0.730 con un tiempo de entrenamiento de 0.009 segundos en 10 iteraciones\n"
     ]
    }
   ],
   "source": [
    "model_name = model.__class__.__name__\n",
    "score = model.score(X_test, y_test)\n",
    "print(f\"La precisión usando un {model_name} es {score:.3f} \"\n",
    "      f\"con un tiempo de entrenamiento de {elapsed_time:.3f} segundos \"\n",
    "      f\"en {model[-1].n_iter_[0]} iteraciones\")"
   ]
  },
  {
   "cell_type": "code",
   "execution_count": 41,
   "id": "814caa2b",
   "metadata": {
    "collapsed": false,
    "jupyter": {
     "outputs_hidden": false
    },
    "pycharm": {
     "name": "#%%\n"
    }
   },
   "outputs": [],
   "source": [
    "model = LogisticRegression()\n",
    "start = time.time()\n",
    "model.fit(X_train, y_train)\n",
    "elapsed_time = time.time() - start"
   ]
  },
  {
   "cell_type": "code",
   "execution_count": 42,
   "id": "429e13bb",
   "metadata": {
    "collapsed": false,
    "jupyter": {
     "outputs_hidden": false
    },
    "pycharm": {
     "name": "#%%\n"
    }
   },
   "outputs": [
    {
     "name": "stdout",
     "output_type": "stream",
     "text": [
      "La precisión usando LogisticRegression es 0.740 con un tiempo de entrenamiento de 0.025 segundos en 88 iteraciones\n"
     ]
    }
   ],
   "source": [
    "model_name = model.__class__.__name__\n",
    "score = model.score(X_test, y_test)\n",
    "print(f\"La precisión usando {model_name} es {score:.3f} \"\n",
    "      f\"con un tiempo de entrenamiento de {elapsed_time:.3f} segundos \"\n",
    "      f\"en {model.n_iter_[0]} iteraciones\")"
   ]
  },
  {
   "cell_type": "markdown",
   "id": "45d0034d",
   "metadata": {
    "pycharm": {
     "name": "#%% md\n"
    }
   },
   "source": [
    "Vemos que escalar los datos antes de entrenar la regresión logística fue beneficioso en términos de rendimiento computacional. De hecho, el número de iteracioens decrece así como el tiempo de entrenamiento. El rendimiento de generalización no cambió dado que ambos modelos comvergen.\n",
    "\n",
    "Trabajar con datos no escalados forzará potencialmente al algoritmo a iterar más como hemos visto. También existe el escenario catastrófico donde el número de iteraciones requeridas sea mayor que el número de iteraciones permitidas por el parámetro del predictor (controlado por `max_iter`). Por lo tanto, antes de incrementar `max_iter`, asegurémosnos de que los datos están escalados."
   ]
  },
  {
   "cell_type": "markdown",
   "id": "1ac374be",
   "metadata": {
    "pycharm": {
     "name": "#%% md\n"
    }
   },
   "source": [
    "# Evaluación del modelo usando validación cruzada"
   ]
  },
  {
   "cell_type": "markdown",
   "id": "71c59e4d",
   "metadata": {
    "pycharm": {
     "name": "#%% md\n"
    }
   },
   "source": [
    "Vamos a discutir algunos aspectos prácticos de evaluar el rendimiento de generalización de nuestro modelo a través de la validación cruzada, en lugar de usar una única división entrenamiento-prueba."
   ]
  },
  {
   "cell_type": "markdown",
   "id": "de5ceb66",
   "metadata": {
    "pycharm": {
     "name": "#%% md\n"
    }
   },
   "source": [
    "## La necesidad de validación cruzada"
   ]
  },
  {
   "cell_type": "markdown",
   "id": "8c6a7cc6",
   "metadata": {
    "pycharm": {
     "name": "#%% md\n"
    }
   },
   "source": [
    "Anteriormente dividimos los datos originales en un conjunto de entrenamiento y en un conjunto de pruebas. En general, la puntuación de un modelo dependerá de la forma en que hacemos esta división. Un inconveniente de hacer una única división es que no proporciona ninguna información sobre su variablidad. Otro inconveniente, en una configuración donde la cantidad de datos es pequeña, es que la cantidad de datos disponibles para entrenamiento y prueba será incluso más pequeña después de la división.\n",
    "\n",
    "En su lugar, podemos usar validación cruzada. La validación cruzada consiste en repetir el procedimiento de modo que los conjuntos de entrenamiento y prueba sean diferentes cada vez. Las métricas de rendimiento de generalización se recopilan en cada repetición y luego se agregan. Como resultado, podemos evaluar la variabilidad de nuestra medida del rendimiento de generalización del modelo.\n",
    "\n",
    "Existen varias estrategias de validación cruzada, cada una de ellas define cómo repetir el procedimiento de `fit` / `score`. En nuestro caso, usaremos la estrategia K-fold: el dataset completo se divide en `K` particiones. El procesimiento `fit` / `score` se repite `K` veces, donde en cada iteración se usan `K-1` particiones para entrenar el modelo y `1` partición para prueba. El siguiente diagrama muestra esta estrategia de K-fold.\n",
    "\n",
    "![](images/k_fold.png)"
   ]
  },
  {
   "cell_type": "markdown",
   "id": "42aadad8",
   "metadata": {
    "pycharm": {
     "name": "#%% md\n"
    }
   },
   "source": [
    "El diagrama muestra el caso particular de **K-fold**. Para cada división de validación cruzada, el procedimiento entrena un clon del modelo en todas las instancias rojas y evalúa la puntuación del modelo en las instancias azules.\n",
    "\n",
    "La validación cruzada es, por tanto, computacionalmente intensiva porque requiere entrenar varios modelos, en lugar de uno solo. En scikit-learn, la función `cross_validate` permite hacer validación cruzada y necesitamos pasar el modelo, los datos y el objetivo. Dado que existen varias estrategias, `cross_validate` toma un parámetro `cv` que define la estrategia de división."
   ]
  },
  {
   "cell_type": "code",
   "execution_count": 43,
   "id": "705ef6f4",
   "metadata": {
    "collapsed": false,
    "jupyter": {
     "outputs_hidden": false
    },
    "pycharm": {
     "name": "#%%\n"
    }
   },
   "outputs": [
    {
     "name": "stdout",
     "output_type": "stream",
     "text": [
      "Wall time: 50.5 ms\n"
     ]
    },
    {
     "data": {
      "text/plain": [
       "{'fit_time': array([0.00750613, 0.00700498, 0.00700617, 0.00750685, 0.00700593]),\n",
       " 'score_time': array([0.002002  , 0.00150108, 0.00200152, 0.00200224, 0.00150156]),\n",
       " 'test_score': array([0.715, 0.71 , 0.69 , 0.715, 0.735])}"
      ]
     },
     "execution_count": 43,
     "metadata": {},
     "output_type": "execute_result"
    }
   ],
   "source": [
    "%%time\n",
    "from sklearn.model_selection import cross_validate\n",
    "\n",
    "model = make_pipeline(StandardScaler(), LogisticRegression())\n",
    "cv_result = cross_validate(model, X, y, cv=5)\n",
    "cv_result"
   ]
  },
  {
   "cell_type": "markdown",
   "id": "25fb1117",
   "metadata": {
    "pycharm": {
     "name": "#%% md\n"
    }
   },
   "source": [
    "La salida de `cross_validate` es un diccionario de Python, que contiene tres entradas por defecto:\n",
    "\n",
    "+ el tiempo de entrenamiento del modelo en los datos de entrenamiento en cada una de las particiones\n",
    "+ el tiempo de predicción con el modelo en los datos de prueba en cada una de las particiones\n",
    "+ la puntuación por defecto en los datos de prueba en cada una de las particiones"
   ]
  },
  {
   "cell_type": "markdown",
   "id": "9e1956ef",
   "metadata": {
    "pycharm": {
     "name": "#%% md\n"
    }
   },
   "source": [
    "Establecer `cv=5` crea 5 divisiones distintas para obtener 5 variaciones distintas para los conjuntos de entrenamiento y prueba. Cada conjunto de entrenamiento se usa para entrenar un modelo que después se evalúa en el conjunto de prueba. La estrategia por defecto cuando se establece `cv=int` es la validación cruzada K-fold, donde `K` corresponde al número (entero) de divisiones. Establecer `cv=5` o `cv=10` es una práctica común, ya que mantiene un equilibrio entre el tiempo de cálculo y la estabilidad de la variabilidad estimada.\n",
    "\n",
    "Hay que tener en cuenta que la función `cross-validate`, por defecto, descarta los `K` modelos que se entrenaron en los diferentes subconjuntos superpuestos del dataset. El objetivo de la validación cruzada no es entrenar un modelo sino estimar aproximadamente el rendimiento de generalización de un modelo que se habría entrenado en el conjunto completo de entrenamiento, junto con una estimación de la variabilidad (incertidumbre sobre la precisión de la generalización).\n",
    "\n",
    "Podemos pasar parámetros adiciones a `sklearn.mode_selection.cross_validate` para recopilar información adicional, tales como las puntuaciones de entrenamiento de los modelos obtenidos en cada ciclo o incluso devolver los propios modelos en lugar de descartarlos.\n",
    "\n",
    "Vamos a extraer las puntuaciones calculadas en las particiones de prueba de cada ciclo de validación cruzada a partir del diccionario `cv_result` y calcular la precisión media y la variación de la precisión a lo largo de las particiones."
   ]
  },
  {
   "cell_type": "code",
   "execution_count": 44,
   "id": "68e18563",
   "metadata": {
    "collapsed": false,
    "jupyter": {
     "outputs_hidden": false
    },
    "pycharm": {
     "name": "#%%\n"
    }
   },
   "outputs": [
    {
     "name": "stdout",
     "output_type": "stream",
     "text": [
      "La precisión media de validación cruzada es: 0.713 +/- 0.014\n"
     ]
    }
   ],
   "source": [
    "scores = cv_result[\"test_score\"]\n",
    "print(\n",
    "    \"La precisión media de validación cruzada es: \"\n",
    "    f\"{scores.mean():.3f} +/- {scores.std():.3f}\"\n",
    ")"
   ]
  },
  {
   "cell_type": "markdown",
   "id": "e1e1ae2e",
   "metadata": {
    "pycharm": {
     "name": "#%% md\n"
    }
   },
   "source": [
    "Hay que tener en cuenta que al calcular la desviación típica de las puntuaciones de validación cruzada, podemos estimar la incertidumbre del rendimiento de generalización de nuestro modelo. Esta es la principal ventaja de la validación cruzada y puede ser crucial en la práctica, por ejemplo cuando comparamos diferentes modelos para averiguar  cuál de ellos es mejor que los demás o si nuestras medidas del rendimiento de generalización de cada modelo están dentro de las barras de error de uno u otro."
   ]
  },
  {
   "cell_type": "markdown",
   "id": "060b8d31",
   "metadata": {
    "pycharm": {
     "name": "#%% md\n"
    }
   },
   "source": [
    "# Codificación de variables categóricas"
   ]
  },
  {
   "cell_type": "markdown",
   "id": "37cf775e",
   "metadata": {
    "pycharm": {
     "name": "#%% md\n"
    }
   },
   "source": [
    "Bien, hasta ahora hemos visto como manejarnos con variables numéricas y codificarlas. Vamos a ver como codificar variables categóricas usando codificación **ordinal** y **one-hot**.\n",
    "\n",
    "Ya vimos anteriormente que una variable numérica se una cantidad representada por un número entero o real. Estas variables se manejan de forma natural por los algoritmos de machine learning, que generalmente se componen de una secuencia de instrucciones aritméticas, como sumas y multiplicaciones.\n",
    "\n",
    "Por el contrario, las variables categóricas están representadas normalmente por etiquetas de texto (pero no solo) tomadas de entre una lista finita de opciones posibles. Por ejemplo, la variable `personal_status` de nuestro dataset es una variable categórica porque codifica los datos usando una lista finita de posibles estados:"
   ]
  },
  {
   "cell_type": "code",
   "execution_count": 45,
   "id": "012fcd0e",
   "metadata": {
    "collapsed": false,
    "jupyter": {
     "outputs_hidden": false
    },
    "pycharm": {
     "name": "#%%\n"
    }
   },
   "outputs": [
    {
     "data": {
      "text/plain": [
       "'male single'           548\n",
       "'female div/dep/mar'    310\n",
       "'male mar/wid'           92\n",
       "'male div/sep'           50\n",
       "Name: personal_status, dtype: int64"
      ]
     },
     "execution_count": 45,
     "metadata": {},
     "output_type": "execute_result"
    }
   ],
   "source": [
    "credit[\"personal_status\"].value_counts()"
   ]
  },
  {
   "cell_type": "markdown",
   "id": "0f920135",
   "metadata": {
    "pycharm": {
     "name": "#%% md\n"
    }
   },
   "source": [
    "¿Cómo podemos reconocer las columnas categóricas dentro del dataset? Una parte de la respuesta tiene que ver con el tipo de dato de las columnas:"
   ]
  },
  {
   "cell_type": "code",
   "execution_count": 46,
   "id": "94fa8daa",
   "metadata": {
    "collapsed": false,
    "jupyter": {
     "outputs_hidden": false
    },
    "pycharm": {
     "name": "#%%\n"
    }
   },
   "outputs": [
    {
     "data": {
      "text/plain": [
       "checking_status           object\n",
       "duration                   int64\n",
       "credit_history            object\n",
       "purpose                   object\n",
       "credit_amount              int64\n",
       "savings_status            object\n",
       "employment                object\n",
       "installment_commitment     int64\n",
       "personal_status           object\n",
       "other_parties             object\n",
       "residence_since            int64\n",
       "property_magnitude        object\n",
       "age                        int64\n",
       "other_payment_plans       object\n",
       "housing                   object\n",
       "existing_credits           int64\n",
       "job                       object\n",
       "num_dependents             int64\n",
       "own_telephone             object\n",
       "foreign_worker            object\n",
       "class                     object\n",
       "dtype: object"
      ]
     },
     "execution_count": 46,
     "metadata": {},
     "output_type": "execute_result"
    }
   ],
   "source": [
    "credit.dtypes"
   ]
  },
  {
   "cell_type": "markdown",
   "id": "9d135b85",
   "metadata": {
    "pycharm": {
     "name": "#%% md\n"
    }
   },
   "source": [
    "Si observamos la columna `personal_status` podemos comprobar que su tipo de dato es `object`, lo que significar que contiene valores de texto."
   ]
  },
  {
   "cell_type": "markdown",
   "id": "341a248d",
   "metadata": {
    "pycharm": {
     "name": "#%% md\n"
    }
   },
   "source": [
    "## Seleccionar features en función del su tipo de datos"
   ]
  },
  {
   "cell_type": "markdown",
   "id": "f3f1cf45",
   "metadata": {
    "pycharm": {
     "name": "#%% md\n"
    }
   },
   "source": [
    "Para seleccionar columnas basadas en su tipo de datos podemos usar la función `make_column_selector` de scikit-learn, como vimos anteriormente."
   ]
  },
  {
   "cell_type": "code",
   "execution_count": 47,
   "id": "f7906f54",
   "metadata": {
    "collapsed": false,
    "jupyter": {
     "outputs_hidden": false
    },
    "pycharm": {
     "name": "#%%\n"
    }
   },
   "outputs": [],
   "source": [
    "target_name = \"class\"\n",
    "y = credit[target_name]\n",
    "data = credit.drop(columns=[target_name])"
   ]
  },
  {
   "cell_type": "code",
   "execution_count": 48,
   "id": "e791ab5b",
   "metadata": {
    "collapsed": false,
    "jupyter": {
     "outputs_hidden": false
    },
    "pycharm": {
     "name": "#%%\n"
    }
   },
   "outputs": [
    {
     "data": {
      "text/plain": [
       "['checking_status',\n",
       " 'credit_history',\n",
       " 'purpose',\n",
       " 'savings_status',\n",
       " 'employment',\n",
       " 'personal_status',\n",
       " 'other_parties',\n",
       " 'property_magnitude',\n",
       " 'other_payment_plans',\n",
       " 'housing',\n",
       " 'job',\n",
       " 'own_telephone',\n",
       " 'foreign_worker']"
      ]
     },
     "execution_count": 48,
     "metadata": {},
     "output_type": "execute_result"
    }
   ],
   "source": [
    "categorical_columns_selector = selector(dtype_include=object)\n",
    "categorical_columns = categorical_columns_selector(data)\n",
    "categorical_columns"
   ]
  },
  {
   "cell_type": "markdown",
   "id": "5f6fd0f7",
   "metadata": {
    "pycharm": {
     "name": "#%% md\n"
    }
   },
   "source": [
    "Hemos creado el selector pasándole el tipo de datos que queremos incluir; hemos pasado el dataset de entrada al objeto selector, que devuelve una listado de nombres de columnas que tienen el tipo de datos requerido. Ahora podemos filtrar las columnas que no queremos:"
   ]
  },
  {
   "cell_type": "code",
   "execution_count": 49,
   "id": "bf0538a7",
   "metadata": {
    "collapsed": false,
    "jupyter": {
     "outputs_hidden": false
    },
    "pycharm": {
     "name": "#%%\n"
    }
   },
   "outputs": [
    {
     "data": {
      "text/html": [
       "<div>\n",
       "<style scoped>\n",
       "    .dataframe tbody tr th:only-of-type {\n",
       "        vertical-align: middle;\n",
       "    }\n",
       "\n",
       "    .dataframe tbody tr th {\n",
       "        vertical-align: top;\n",
       "    }\n",
       "\n",
       "    .dataframe thead th {\n",
       "        text-align: right;\n",
       "    }\n",
       "</style>\n",
       "<table border=\"1\" class=\"dataframe\">\n",
       "  <thead>\n",
       "    <tr style=\"text-align: right;\">\n",
       "      <th></th>\n",
       "      <th>checking_status</th>\n",
       "      <th>credit_history</th>\n",
       "      <th>purpose</th>\n",
       "      <th>savings_status</th>\n",
       "      <th>employment</th>\n",
       "      <th>personal_status</th>\n",
       "      <th>other_parties</th>\n",
       "      <th>property_magnitude</th>\n",
       "      <th>other_payment_plans</th>\n",
       "      <th>housing</th>\n",
       "      <th>job</th>\n",
       "      <th>own_telephone</th>\n",
       "      <th>foreign_worker</th>\n",
       "    </tr>\n",
       "  </thead>\n",
       "  <tbody>\n",
       "    <tr>\n",
       "      <th>0</th>\n",
       "      <td>'&lt;0'</td>\n",
       "      <td>'critical/other existing credit'</td>\n",
       "      <td>radio/tv</td>\n",
       "      <td>'no known savings'</td>\n",
       "      <td>'&gt;=7'</td>\n",
       "      <td>'male single'</td>\n",
       "      <td>none</td>\n",
       "      <td>'real estate'</td>\n",
       "      <td>none</td>\n",
       "      <td>own</td>\n",
       "      <td>skilled</td>\n",
       "      <td>yes</td>\n",
       "      <td>yes</td>\n",
       "    </tr>\n",
       "    <tr>\n",
       "      <th>1</th>\n",
       "      <td>'0&lt;=X&lt;200'</td>\n",
       "      <td>'existing paid'</td>\n",
       "      <td>radio/tv</td>\n",
       "      <td>'&lt;100'</td>\n",
       "      <td>'1&lt;=X&lt;4'</td>\n",
       "      <td>'female div/dep/mar'</td>\n",
       "      <td>none</td>\n",
       "      <td>'real estate'</td>\n",
       "      <td>none</td>\n",
       "      <td>own</td>\n",
       "      <td>skilled</td>\n",
       "      <td>none</td>\n",
       "      <td>yes</td>\n",
       "    </tr>\n",
       "    <tr>\n",
       "      <th>2</th>\n",
       "      <td>'no checking'</td>\n",
       "      <td>'critical/other existing credit'</td>\n",
       "      <td>education</td>\n",
       "      <td>'&lt;100'</td>\n",
       "      <td>'4&lt;=X&lt;7'</td>\n",
       "      <td>'male single'</td>\n",
       "      <td>none</td>\n",
       "      <td>'real estate'</td>\n",
       "      <td>none</td>\n",
       "      <td>own</td>\n",
       "      <td>'unskilled resident'</td>\n",
       "      <td>none</td>\n",
       "      <td>yes</td>\n",
       "    </tr>\n",
       "    <tr>\n",
       "      <th>3</th>\n",
       "      <td>'&lt;0'</td>\n",
       "      <td>'existing paid'</td>\n",
       "      <td>furniture/equipment</td>\n",
       "      <td>'&lt;100'</td>\n",
       "      <td>'4&lt;=X&lt;7'</td>\n",
       "      <td>'male single'</td>\n",
       "      <td>guarantor</td>\n",
       "      <td>'life insurance'</td>\n",
       "      <td>none</td>\n",
       "      <td>'for free'</td>\n",
       "      <td>skilled</td>\n",
       "      <td>none</td>\n",
       "      <td>yes</td>\n",
       "    </tr>\n",
       "    <tr>\n",
       "      <th>4</th>\n",
       "      <td>'&lt;0'</td>\n",
       "      <td>'delayed previously'</td>\n",
       "      <td>'new car'</td>\n",
       "      <td>'&lt;100'</td>\n",
       "      <td>'1&lt;=X&lt;4'</td>\n",
       "      <td>'male single'</td>\n",
       "      <td>none</td>\n",
       "      <td>'no known property'</td>\n",
       "      <td>none</td>\n",
       "      <td>'for free'</td>\n",
       "      <td>skilled</td>\n",
       "      <td>none</td>\n",
       "      <td>yes</td>\n",
       "    </tr>\n",
       "  </tbody>\n",
       "</table>\n",
       "</div>"
      ],
      "text/plain": [
       "  checking_status                    credit_history              purpose  \\\n",
       "0            '<0'  'critical/other existing credit'             radio/tv   \n",
       "1      '0<=X<200'                   'existing paid'             radio/tv   \n",
       "2   'no checking'  'critical/other existing credit'            education   \n",
       "3            '<0'                   'existing paid'  furniture/equipment   \n",
       "4            '<0'              'delayed previously'            'new car'   \n",
       "\n",
       "       savings_status employment       personal_status other_parties  \\\n",
       "0  'no known savings'      '>=7'         'male single'          none   \n",
       "1              '<100'   '1<=X<4'  'female div/dep/mar'          none   \n",
       "2              '<100'   '4<=X<7'         'male single'          none   \n",
       "3              '<100'   '4<=X<7'         'male single'     guarantor   \n",
       "4              '<100'   '1<=X<4'         'male single'          none   \n",
       "\n",
       "    property_magnitude other_payment_plans     housing                   job  \\\n",
       "0        'real estate'                none         own               skilled   \n",
       "1        'real estate'                none         own               skilled   \n",
       "2        'real estate'                none         own  'unskilled resident'   \n",
       "3     'life insurance'                none  'for free'               skilled   \n",
       "4  'no known property'                none  'for free'               skilled   \n",
       "\n",
       "  own_telephone foreign_worker  \n",
       "0           yes            yes  \n",
       "1          none            yes  \n",
       "2          none            yes  \n",
       "3          none            yes  \n",
       "4          none            yes  "
      ]
     },
     "execution_count": 49,
     "metadata": {},
     "output_type": "execute_result"
    }
   ],
   "source": [
    "X = data[categorical_columns]\n",
    "X.head()"
   ]
  },
  {
   "cell_type": "markdown",
   "id": "d3382dad",
   "metadata": {
    "pycharm": {
     "name": "#%% md\n"
    }
   },
   "source": [
    "Vamos a presentar diferentes estrategias de codificación de datos categóricos a datos numéricos que puedan ser usados por un algoritmo de machine learning."
   ]
  },
  {
   "cell_type": "markdown",
   "id": "38b67c91",
   "metadata": {
    "pycharm": {
     "name": "#%% md\n"
    }
   },
   "source": [
    "## Estrategias para codificar categorías\n",
    "\n",
    "### Codificando categorías ordinales"
   ]
  },
  {
   "cell_type": "markdown",
   "id": "86df0225",
   "metadata": {
    "pycharm": {
     "name": "#%% md\n"
    }
   },
   "source": [
    "La estrategia más intuitiva es codificar cada categoría con un número diferente. `OrdinalEncoder` transforma los datos de esta forma. Empezaremos codificando una única columna para comprender como funciona:"
   ]
  },
  {
   "cell_type": "code",
   "execution_count": 50,
   "id": "647deb21",
   "metadata": {
    "collapsed": false,
    "jupyter": {
     "outputs_hidden": false
    },
    "pycharm": {
     "name": "#%%\n"
    }
   },
   "outputs": [
    {
     "data": {
      "text/plain": [
       "array([[3.],\n",
       "       [0.],\n",
       "       [3.],\n",
       "       [3.],\n",
       "       [3.],\n",
       "       [3.],\n",
       "       [3.],\n",
       "       [3.],\n",
       "       [1.],\n",
       "       [2.]])"
      ]
     },
     "execution_count": 50,
     "metadata": {},
     "output_type": "execute_result"
    }
   ],
   "source": [
    "from sklearn.preprocessing import OrdinalEncoder\n",
    "\n",
    "personal_status_column = X[[\"personal_status\"]]\n",
    "encoder = OrdinalEncoder()\n",
    "personal_status_encoded = encoder.fit_transform(personal_status_column)\n",
    "personal_status_encoded[:10]"
   ]
  },
  {
   "cell_type": "markdown",
   "id": "d4c51c2b",
   "metadata": {
    "pycharm": {
     "name": "#%% md\n"
    }
   },
   "source": [
    "Vemos que cada categoría de `personal_status` ha sido reemplazada por un valor numérico. Podemos comprobar el mapeo entre las categorías y los valoras numéricos comprobando el atributo entrenado `categories_`."
   ]
  },
  {
   "cell_type": "code",
   "execution_count": 51,
   "id": "05c77b55",
   "metadata": {
    "collapsed": false,
    "jupyter": {
     "outputs_hidden": false
    },
    "pycharm": {
     "name": "#%%\n"
    }
   },
   "outputs": [
    {
     "data": {
      "text/plain": [
       "[array([\"'female div/dep/mar'\", \"'male div/sep'\", \"'male mar/wid'\",\n",
       "        \"'male single'\"], dtype=object)]"
      ]
     },
     "execution_count": 51,
     "metadata": {},
     "output_type": "execute_result"
    }
   ],
   "source": [
    "encoder.categories_"
   ]
  },
  {
   "cell_type": "markdown",
   "id": "bb46acdd",
   "metadata": {
    "pycharm": {
     "name": "#%% md\n"
    }
   },
   "source": [
    "Ahora podemos comprobar la codificación aplicada en todas las categorías."
   ]
  },
  {
   "cell_type": "code",
   "execution_count": 52,
   "id": "81463a8b",
   "metadata": {
    "collapsed": false,
    "jupyter": {
     "outputs_hidden": false
    },
    "pycharm": {
     "name": "#%%\n"
    }
   },
   "outputs": [
    {
     "data": {
      "text/plain": [
       "array([[1., 1., 7., 4., 3., 3., 2., 2., 1., 1., 3., 1., 1.],\n",
       "       [0., 3., 7., 2., 0., 0., 2., 2., 1., 1., 3., 0., 1.],\n",
       "       [3., 1., 4., 2., 1., 3., 2., 2., 1., 1., 2., 0., 1.],\n",
       "       [1., 3., 5., 2., 1., 3., 1., 0., 1., 0., 3., 0., 1.],\n",
       "       [1., 2., 1., 2., 0., 3., 2., 1., 1., 0., 3., 0., 1.]])"
      ]
     },
     "execution_count": 52,
     "metadata": {},
     "output_type": "execute_result"
    }
   ],
   "source": [
    "X_encoded = encoder.fit_transform(X)\n",
    "X_encoded[:5]"
   ]
  },
  {
   "cell_type": "markdown",
   "id": "e70fc7bd",
   "metadata": {
    "pycharm": {
     "name": "#%% md\n"
    }
   },
   "source": [
    "Vemos que todas las categorías se han codificado en cada feature (columna) de forma independiente. También podemos comprobar que el número de features antes y después de la codificación sigue siendo el mismo.\n",
    "\n",
    "Sin embargo, debemos ser cuidadosos cuando apliquemos esta estrategia de codificación: usar esta representación de enteros conduce a los modelos predictivos posteriores a asumir que los valores están ordenados (es decir, 0 < 1 < 2 < 3 ...).\n",
    "\n",
    "Por defecto, `OrdinalEncoder` usa una estrategia lexicográfica para mapear etiquetas categóricas de texto a enteros. Esta estrategia es arbitraria y a menudo sin sentido. Por ejemplo, supongamos que el dataset tiene una variable categórica llamada `size` con categorías como \"S\", \"M\", \"L\" y \"XL\". Nos gustaría que la representación numérica respetase el significado de los tamaños mapeandolos incrementalmente con enteros, tal que `0, 1, 2, 3`. Sin embargo, la estrategia lexicográfica usada por defecto podría mapear las etiquetas \"S\", \"M\", \"L\", \"XL\" como 2, 1, 0, 3, siguiendo un orden alfabético.\n",
    "\n",
    "La clase `OrdinalEncoder` acepta un argumento constructor `categories` para pasar explícitamente las categorías en el orden esperado.\n",
    "\n",
    "Si una variable categórica no contiene ninguna información significativa de orden esta codificación podría se engañosa para los modelos estadísticos posteriores y deberíamos considerar una codificación one-hot en su lugar."
   ]
  },
  {
   "cell_type": "markdown",
   "id": "74feb20a",
   "metadata": {
    "pycharm": {
     "name": "#%% md\n"
    }
   },
   "source": [
    "### Codificando categorías nominales (sin asumir ningún orden)"
   ]
  },
  {
   "cell_type": "markdown",
   "id": "59405005",
   "metadata": {
    "pycharm": {
     "name": "#%% md\n"
    }
   },
   "source": [
    "`OneHotEncoder` es un codificador alternativo que previene que los modelos posteriores hagan una falsa asunción sobre el orden de las categorías. Para una feature dada, crea tantas columnas como categorías posibles. Para una instancia dada, el valor de la columna correspondiente a la categoría se establecerá a `1` mientras que las columnas de las otras categorías se establecerán a `0`.\n",
    "\n",
    "Empecemos codificando una única feature (por ejemplo `personal_status`):"
   ]
  },
  {
   "cell_type": "code",
   "execution_count": 53,
   "id": "c1fa8415",
   "metadata": {
    "collapsed": false,
    "jupyter": {
     "outputs_hidden": false
    },
    "pycharm": {
     "name": "#%%\n"
    }
   },
   "outputs": [
    {
     "data": {
      "text/plain": [
       "array([[0., 0., 0., 1.],\n",
       "       [1., 0., 0., 0.],\n",
       "       [0., 0., 0., 1.],\n",
       "       ...,\n",
       "       [0., 0., 0., 1.],\n",
       "       [0., 0., 0., 1.],\n",
       "       [0., 0., 0., 1.]])"
      ]
     },
     "execution_count": 53,
     "metadata": {},
     "output_type": "execute_result"
    }
   ],
   "source": [
    "from sklearn.preprocessing import OneHotEncoder\n",
    "\n",
    "encoder = OneHotEncoder(sparse=False)\n",
    "personal_status_encoded = encoder.fit_transform(personal_status_column)\n",
    "personal_status_encoded"
   ]
  },
  {
   "cell_type": "markdown",
   "id": "fcce8c04",
   "metadata": {
    "pycharm": {
     "name": "#%% md\n"
    }
   },
   "source": [
    "`sparce=False` se usa en `OneHotEncoder` a modo didáctico, para tener un visualización más fácil de los datos. Las matrices dispersas son estructuras eficientes de datos donde la mayoría de los elementos de la matriz son ceros."
   ]
  },
  {
   "cell_type": "markdown",
   "id": "3ca01b76",
   "metadata": {
    "pycharm": {
     "name": "#%% md\n"
    }
   },
   "source": [
    "Vemos que codificar una única columna nos dará una matriz NumPy repleta de ceros y unos. Lo comprenderemos mejor usando los nombres asociados de las features resultado de la transformación."
   ]
  },
  {
   "cell_type": "code",
   "execution_count": 54,
   "id": "d64fc7a2",
   "metadata": {
    "collapsed": false,
    "jupyter": {
     "outputs_hidden": false
    },
    "pycharm": {
     "name": "#%%\n"
    }
   },
   "outputs": [
    {
     "data": {
      "text/html": [
       "<div>\n",
       "<style scoped>\n",
       "    .dataframe tbody tr th:only-of-type {\n",
       "        vertical-align: middle;\n",
       "    }\n",
       "\n",
       "    .dataframe tbody tr th {\n",
       "        vertical-align: top;\n",
       "    }\n",
       "\n",
       "    .dataframe thead th {\n",
       "        text-align: right;\n",
       "    }\n",
       "</style>\n",
       "<table border=\"1\" class=\"dataframe\">\n",
       "  <thead>\n",
       "    <tr style=\"text-align: right;\">\n",
       "      <th></th>\n",
       "      <th>personal_status_'female div/dep/mar'</th>\n",
       "      <th>personal_status_'male div/sep'</th>\n",
       "      <th>personal_status_'male mar/wid'</th>\n",
       "      <th>personal_status_'male single'</th>\n",
       "    </tr>\n",
       "  </thead>\n",
       "  <tbody>\n",
       "    <tr>\n",
       "      <th>0</th>\n",
       "      <td>0.0</td>\n",
       "      <td>0.0</td>\n",
       "      <td>0.0</td>\n",
       "      <td>1.0</td>\n",
       "    </tr>\n",
       "    <tr>\n",
       "      <th>1</th>\n",
       "      <td>1.0</td>\n",
       "      <td>0.0</td>\n",
       "      <td>0.0</td>\n",
       "      <td>0.0</td>\n",
       "    </tr>\n",
       "    <tr>\n",
       "      <th>2</th>\n",
       "      <td>0.0</td>\n",
       "      <td>0.0</td>\n",
       "      <td>0.0</td>\n",
       "      <td>1.0</td>\n",
       "    </tr>\n",
       "    <tr>\n",
       "      <th>3</th>\n",
       "      <td>0.0</td>\n",
       "      <td>0.0</td>\n",
       "      <td>0.0</td>\n",
       "      <td>1.0</td>\n",
       "    </tr>\n",
       "    <tr>\n",
       "      <th>4</th>\n",
       "      <td>0.0</td>\n",
       "      <td>0.0</td>\n",
       "      <td>0.0</td>\n",
       "      <td>1.0</td>\n",
       "    </tr>\n",
       "    <tr>\n",
       "      <th>...</th>\n",
       "      <td>...</td>\n",
       "      <td>...</td>\n",
       "      <td>...</td>\n",
       "      <td>...</td>\n",
       "    </tr>\n",
       "    <tr>\n",
       "      <th>995</th>\n",
       "      <td>1.0</td>\n",
       "      <td>0.0</td>\n",
       "      <td>0.0</td>\n",
       "      <td>0.0</td>\n",
       "    </tr>\n",
       "    <tr>\n",
       "      <th>996</th>\n",
       "      <td>0.0</td>\n",
       "      <td>1.0</td>\n",
       "      <td>0.0</td>\n",
       "      <td>0.0</td>\n",
       "    </tr>\n",
       "    <tr>\n",
       "      <th>997</th>\n",
       "      <td>0.0</td>\n",
       "      <td>0.0</td>\n",
       "      <td>0.0</td>\n",
       "      <td>1.0</td>\n",
       "    </tr>\n",
       "    <tr>\n",
       "      <th>998</th>\n",
       "      <td>0.0</td>\n",
       "      <td>0.0</td>\n",
       "      <td>0.0</td>\n",
       "      <td>1.0</td>\n",
       "    </tr>\n",
       "    <tr>\n",
       "      <th>999</th>\n",
       "      <td>0.0</td>\n",
       "      <td>0.0</td>\n",
       "      <td>0.0</td>\n",
       "      <td>1.0</td>\n",
       "    </tr>\n",
       "  </tbody>\n",
       "</table>\n",
       "<p>1000 rows × 4 columns</p>\n",
       "</div>"
      ],
      "text/plain": [
       "     personal_status_'female div/dep/mar'  personal_status_'male div/sep'  \\\n",
       "0                                     0.0                             0.0   \n",
       "1                                     1.0                             0.0   \n",
       "2                                     0.0                             0.0   \n",
       "3                                     0.0                             0.0   \n",
       "4                                     0.0                             0.0   \n",
       "..                                    ...                             ...   \n",
       "995                                   1.0                             0.0   \n",
       "996                                   0.0                             1.0   \n",
       "997                                   0.0                             0.0   \n",
       "998                                   0.0                             0.0   \n",
       "999                                   0.0                             0.0   \n",
       "\n",
       "     personal_status_'male mar/wid'  personal_status_'male single'  \n",
       "0                               0.0                            1.0  \n",
       "1                               0.0                            0.0  \n",
       "2                               0.0                            1.0  \n",
       "3                               0.0                            1.0  \n",
       "4                               0.0                            1.0  \n",
       "..                              ...                            ...  \n",
       "995                             0.0                            0.0  \n",
       "996                             0.0                            0.0  \n",
       "997                             0.0                            1.0  \n",
       "998                             0.0                            1.0  \n",
       "999                             0.0                            1.0  \n",
       "\n",
       "[1000 rows x 4 columns]"
      ]
     },
     "execution_count": 54,
     "metadata": {},
     "output_type": "execute_result"
    }
   ],
   "source": [
    "feature_names = encoder.get_feature_names(input_features=[\"personal_status\"])\n",
    "personal_status_encoded = pd.DataFrame(personal_status_encoded, columns=feature_names)\n",
    "personal_status_encoded"
   ]
  },
  {
   "cell_type": "markdown",
   "id": "d6fd13a8",
   "metadata": {
    "pycharm": {
     "name": "#%% md\n"
    }
   },
   "source": [
    "Como podemos ver, cada categoría se convierte en una columna; la codificación devolvió, para cada ejemplo, un 1 para especificar a qué categoría pertenece. Vamos a aplicarlo a todo el dataset."
   ]
  },
  {
   "cell_type": "code",
   "execution_count": 55,
   "id": "c880d761",
   "metadata": {
    "collapsed": false,
    "jupyter": {
     "outputs_hidden": false
    },
    "pycharm": {
     "name": "#%%\n"
    }
   },
   "outputs": [
    {
     "data": {
      "text/plain": [
       "array([[0., 1., 0., 0., 0., 1., 0., 0., 0., 0., 0., 0., 0., 0., 0., 0.,\n",
       "        1., 0., 0., 0., 0., 0., 0., 1., 0., 0., 0., 1., 0., 0., 0., 0.,\n",
       "        1., 0., 0., 1., 0., 0., 1., 0., 0., 1., 0., 0., 1., 0., 0., 0.,\n",
       "        0., 1., 0., 1., 0., 1.],\n",
       "       [1., 0., 0., 0., 0., 0., 0., 1., 0., 0., 0., 0., 0., 0., 0., 0.,\n",
       "        1., 0., 0., 0., 0., 1., 0., 0., 1., 0., 0., 0., 0., 1., 0., 0.,\n",
       "        0., 0., 0., 1., 0., 0., 1., 0., 0., 1., 0., 0., 1., 0., 0., 0.,\n",
       "        0., 1., 1., 0., 0., 1.],\n",
       "       [0., 0., 0., 1., 0., 1., 0., 0., 0., 0., 0., 0., 0., 1., 0., 0.,\n",
       "        0., 0., 0., 0., 0., 1., 0., 0., 0., 1., 0., 0., 0., 0., 0., 0.,\n",
       "        1., 0., 0., 1., 0., 0., 1., 0., 0., 1., 0., 0., 1., 0., 0., 0.,\n",
       "        1., 0., 1., 0., 0., 1.],\n",
       "       [0., 1., 0., 0., 0., 0., 0., 1., 0., 0., 0., 0., 0., 0., 1., 0.,\n",
       "        0., 0., 0., 0., 0., 1., 0., 0., 0., 1., 0., 0., 0., 0., 0., 0.,\n",
       "        1., 0., 1., 0., 1., 0., 0., 0., 0., 1., 0., 1., 0., 0., 0., 0.,\n",
       "        0., 1., 1., 0., 0., 1.],\n",
       "       [0., 1., 0., 0., 0., 0., 1., 0., 0., 0., 1., 0., 0., 0., 0., 0.,\n",
       "        0., 0., 0., 0., 0., 1., 0., 0., 1., 0., 0., 0., 0., 0., 0., 0.,\n",
       "        1., 0., 0., 1., 0., 1., 0., 0., 0., 1., 0., 1., 0., 0., 0., 0.,\n",
       "        0., 1., 1., 0., 0., 1.]])"
      ]
     },
     "execution_count": 55,
     "metadata": {},
     "output_type": "execute_result"
    }
   ],
   "source": [
    "X_encoded = encoder.fit_transform(X)\n",
    "X_encoded[:5]"
   ]
  },
  {
   "cell_type": "code",
   "execution_count": 56,
   "id": "b80bc7d1",
   "metadata": {
    "collapsed": false,
    "jupyter": {
     "outputs_hidden": false
    },
    "pycharm": {
     "name": "#%%\n"
    }
   },
   "outputs": [
    {
     "data": {
      "text/html": [
       "<div>\n",
       "<style scoped>\n",
       "    .dataframe tbody tr th:only-of-type {\n",
       "        vertical-align: middle;\n",
       "    }\n",
       "\n",
       "    .dataframe tbody tr th {\n",
       "        vertical-align: top;\n",
       "    }\n",
       "\n",
       "    .dataframe thead th {\n",
       "        text-align: right;\n",
       "    }\n",
       "</style>\n",
       "<table border=\"1\" class=\"dataframe\">\n",
       "  <thead>\n",
       "    <tr style=\"text-align: right;\">\n",
       "      <th></th>\n",
       "      <th>checking_status_'0&lt;=X&lt;200'</th>\n",
       "      <th>checking_status_'&lt;0'</th>\n",
       "      <th>checking_status_'&gt;=200'</th>\n",
       "      <th>checking_status_'no checking'</th>\n",
       "      <th>credit_history_'all paid'</th>\n",
       "      <th>credit_history_'critical/other existing credit'</th>\n",
       "      <th>credit_history_'delayed previously'</th>\n",
       "      <th>credit_history_'existing paid'</th>\n",
       "      <th>credit_history_'no credits/all paid'</th>\n",
       "      <th>purpose_'domestic appliance'</th>\n",
       "      <th>...</th>\n",
       "      <th>housing_own</th>\n",
       "      <th>housing_rent</th>\n",
       "      <th>job_'high qualif/self emp/mgmt'</th>\n",
       "      <th>job_'unemp/unskilled non res'</th>\n",
       "      <th>job_'unskilled resident'</th>\n",
       "      <th>job_skilled</th>\n",
       "      <th>own_telephone_none</th>\n",
       "      <th>own_telephone_yes</th>\n",
       "      <th>foreign_worker_no</th>\n",
       "      <th>foreign_worker_yes</th>\n",
       "    </tr>\n",
       "  </thead>\n",
       "  <tbody>\n",
       "    <tr>\n",
       "      <th>0</th>\n",
       "      <td>0.0</td>\n",
       "      <td>1.0</td>\n",
       "      <td>0.0</td>\n",
       "      <td>0.0</td>\n",
       "      <td>0.0</td>\n",
       "      <td>1.0</td>\n",
       "      <td>0.0</td>\n",
       "      <td>0.0</td>\n",
       "      <td>0.0</td>\n",
       "      <td>0.0</td>\n",
       "      <td>...</td>\n",
       "      <td>1.0</td>\n",
       "      <td>0.0</td>\n",
       "      <td>0.0</td>\n",
       "      <td>0.0</td>\n",
       "      <td>0.0</td>\n",
       "      <td>1.0</td>\n",
       "      <td>0.0</td>\n",
       "      <td>1.0</td>\n",
       "      <td>0.0</td>\n",
       "      <td>1.0</td>\n",
       "    </tr>\n",
       "    <tr>\n",
       "      <th>1</th>\n",
       "      <td>1.0</td>\n",
       "      <td>0.0</td>\n",
       "      <td>0.0</td>\n",
       "      <td>0.0</td>\n",
       "      <td>0.0</td>\n",
       "      <td>0.0</td>\n",
       "      <td>0.0</td>\n",
       "      <td>1.0</td>\n",
       "      <td>0.0</td>\n",
       "      <td>0.0</td>\n",
       "      <td>...</td>\n",
       "      <td>1.0</td>\n",
       "      <td>0.0</td>\n",
       "      <td>0.0</td>\n",
       "      <td>0.0</td>\n",
       "      <td>0.0</td>\n",
       "      <td>1.0</td>\n",
       "      <td>1.0</td>\n",
       "      <td>0.0</td>\n",
       "      <td>0.0</td>\n",
       "      <td>1.0</td>\n",
       "    </tr>\n",
       "    <tr>\n",
       "      <th>2</th>\n",
       "      <td>0.0</td>\n",
       "      <td>0.0</td>\n",
       "      <td>0.0</td>\n",
       "      <td>1.0</td>\n",
       "      <td>0.0</td>\n",
       "      <td>1.0</td>\n",
       "      <td>0.0</td>\n",
       "      <td>0.0</td>\n",
       "      <td>0.0</td>\n",
       "      <td>0.0</td>\n",
       "      <td>...</td>\n",
       "      <td>1.0</td>\n",
       "      <td>0.0</td>\n",
       "      <td>0.0</td>\n",
       "      <td>0.0</td>\n",
       "      <td>1.0</td>\n",
       "      <td>0.0</td>\n",
       "      <td>1.0</td>\n",
       "      <td>0.0</td>\n",
       "      <td>0.0</td>\n",
       "      <td>1.0</td>\n",
       "    </tr>\n",
       "    <tr>\n",
       "      <th>3</th>\n",
       "      <td>0.0</td>\n",
       "      <td>1.0</td>\n",
       "      <td>0.0</td>\n",
       "      <td>0.0</td>\n",
       "      <td>0.0</td>\n",
       "      <td>0.0</td>\n",
       "      <td>0.0</td>\n",
       "      <td>1.0</td>\n",
       "      <td>0.0</td>\n",
       "      <td>0.0</td>\n",
       "      <td>...</td>\n",
       "      <td>0.0</td>\n",
       "      <td>0.0</td>\n",
       "      <td>0.0</td>\n",
       "      <td>0.0</td>\n",
       "      <td>0.0</td>\n",
       "      <td>1.0</td>\n",
       "      <td>1.0</td>\n",
       "      <td>0.0</td>\n",
       "      <td>0.0</td>\n",
       "      <td>1.0</td>\n",
       "    </tr>\n",
       "    <tr>\n",
       "      <th>4</th>\n",
       "      <td>0.0</td>\n",
       "      <td>1.0</td>\n",
       "      <td>0.0</td>\n",
       "      <td>0.0</td>\n",
       "      <td>0.0</td>\n",
       "      <td>0.0</td>\n",
       "      <td>1.0</td>\n",
       "      <td>0.0</td>\n",
       "      <td>0.0</td>\n",
       "      <td>0.0</td>\n",
       "      <td>...</td>\n",
       "      <td>0.0</td>\n",
       "      <td>0.0</td>\n",
       "      <td>0.0</td>\n",
       "      <td>0.0</td>\n",
       "      <td>0.0</td>\n",
       "      <td>1.0</td>\n",
       "      <td>1.0</td>\n",
       "      <td>0.0</td>\n",
       "      <td>0.0</td>\n",
       "      <td>1.0</td>\n",
       "    </tr>\n",
       "  </tbody>\n",
       "</table>\n",
       "<p>5 rows × 54 columns</p>\n",
       "</div>"
      ],
      "text/plain": [
       "   checking_status_'0<=X<200'  checking_status_'<0'  checking_status_'>=200'  \\\n",
       "0                         0.0                   1.0                      0.0   \n",
       "1                         1.0                   0.0                      0.0   \n",
       "2                         0.0                   0.0                      0.0   \n",
       "3                         0.0                   1.0                      0.0   \n",
       "4                         0.0                   1.0                      0.0   \n",
       "\n",
       "   checking_status_'no checking'  credit_history_'all paid'  \\\n",
       "0                            0.0                        0.0   \n",
       "1                            0.0                        0.0   \n",
       "2                            1.0                        0.0   \n",
       "3                            0.0                        0.0   \n",
       "4                            0.0                        0.0   \n",
       "\n",
       "   credit_history_'critical/other existing credit'  \\\n",
       "0                                              1.0   \n",
       "1                                              0.0   \n",
       "2                                              1.0   \n",
       "3                                              0.0   \n",
       "4                                              0.0   \n",
       "\n",
       "   credit_history_'delayed previously'  credit_history_'existing paid'  \\\n",
       "0                                  0.0                             0.0   \n",
       "1                                  0.0                             1.0   \n",
       "2                                  0.0                             0.0   \n",
       "3                                  0.0                             1.0   \n",
       "4                                  1.0                             0.0   \n",
       "\n",
       "   credit_history_'no credits/all paid'  purpose_'domestic appliance'  ...  \\\n",
       "0                                   0.0                           0.0  ...   \n",
       "1                                   0.0                           0.0  ...   \n",
       "2                                   0.0                           0.0  ...   \n",
       "3                                   0.0                           0.0  ...   \n",
       "4                                   0.0                           0.0  ...   \n",
       "\n",
       "   housing_own  housing_rent  job_'high qualif/self emp/mgmt'  \\\n",
       "0          1.0           0.0                              0.0   \n",
       "1          1.0           0.0                              0.0   \n",
       "2          1.0           0.0                              0.0   \n",
       "3          0.0           0.0                              0.0   \n",
       "4          0.0           0.0                              0.0   \n",
       "\n",
       "   job_'unemp/unskilled non res'  job_'unskilled resident'  job_skilled  \\\n",
       "0                            0.0                       0.0          1.0   \n",
       "1                            0.0                       0.0          1.0   \n",
       "2                            0.0                       1.0          0.0   \n",
       "3                            0.0                       0.0          1.0   \n",
       "4                            0.0                       0.0          1.0   \n",
       "\n",
       "   own_telephone_none  own_telephone_yes  foreign_worker_no  \\\n",
       "0                 0.0                1.0                0.0   \n",
       "1                 1.0                0.0                0.0   \n",
       "2                 1.0                0.0                0.0   \n",
       "3                 1.0                0.0                0.0   \n",
       "4                 1.0                0.0                0.0   \n",
       "\n",
       "   foreign_worker_yes  \n",
       "0                 1.0  \n",
       "1                 1.0  \n",
       "2                 1.0  \n",
       "3                 1.0  \n",
       "4                 1.0  \n",
       "\n",
       "[5 rows x 54 columns]"
      ]
     },
     "execution_count": 56,
     "metadata": {},
     "output_type": "execute_result"
    }
   ],
   "source": [
    "columns_encoded = encoder.get_feature_names(X.columns)\n",
    "pd.DataFrame(X_encoded, columns=columns_encoded).head()"
   ]
  },
  {
   "cell_type": "markdown",
   "id": "ef12b384",
   "metadata": {
    "pycharm": {
     "name": "#%% md\n"
    }
   },
   "source": [
    "Echemos un vistazo a cómo la variable `purpose` ha sido codificada y comparémosla con su original representación. El número de features después del codificado es 10 veces mayor que su representación original, debido al elevado número de posibles categorías."
   ]
  },
  {
   "cell_type": "markdown",
   "id": "ac61ccdc",
   "metadata": {
    "pycharm": {
     "name": "#%% md\n"
    }
   },
   "source": [
    "### Eligiendo una estrategia de codificación"
   ]
  },
  {
   "cell_type": "markdown",
   "id": "ad1598d5",
   "metadata": {
    "pycharm": {
     "name": "#%% md\n"
    }
   },
   "source": [
    "La elección de una estrategia de codificación dependerá de los modelos subyacentes y del tipo de categorías (es decir, ordinales vs nominales). En general, `OneHotEncoder` es la estrategia usada cuando los modelos posteriores son **modelos lineales** mientras que `OrdinalEncoder` es frecuentemente una buena estrategia con **modelos basados en árboles**.\n",
    "\n",
    "Usar un `OrdinalEncoder` devolverá categorias ordinales. Este significa que existe un orden en las categorías resultantes (es decir, `0 < 1 < 2`). El impacto de violar esta asunción de ordenación realmente depende de los modelos posteriores. Los modelos lineales se verán impactados por categorías desordenadas mientras que los modelos basados en árbol no.\n",
    "\n",
    "Aun así podemos usar un `OrdinalEncoder` con modelos lineales pero necesitamos asegurarnos de que:\n",
    "\n",
    "+ las categorías originales (antes de codificar) tienen un orden;\n",
    "+ las categorías codificadas siguen el mismo orden que las categorías originales.\n",
    "\n",
    "La codificación One-hot de variables categóricas con una alta cardinalidad pueden provocar ineficiencia computacional en modelos basados en árbol. Debido a esto, no es recomendable usar `OneHotEncoder` en tales casos, incluso aunque las categorías originales no tengan un orden dado."
   ]
  },
  {
   "cell_type": "markdown",
   "id": "c21c2874",
   "metadata": {
    "pycharm": {
     "name": "#%% md\n"
    }
   },
   "source": [
    "## Evaluar nuestro pipeline predictivo"
   ]
  },
  {
   "cell_type": "markdown",
   "id": "e6840801",
   "metadata": {
    "pycharm": {
     "name": "#%% md\n"
    }
   },
   "source": [
    "Ahora podemos integrar este codificador dentro de un pipeline de machine learning como hicimos con los datos numéricos: entrenemos un clasificador lineal en los datos codificados y verifiquemos el rendimiento de generalización desde este pipeline de machine learning usando validación cruzada.\n",
    "\n",
    "Antes de crear el pipeline veamos algunas situaciones que pueden ocurrir en la validación cruzada. Puede ocurrir que algunos valores de una variable categórica sucedan de forma muy infrecuente. Por ejemplo, con el ejemplo anterior de la variable `size` podemos tener que para la categoría `S` ocurra 24 veces, `M` ocurra 25 veces, `L` ocurra 21 veces y `XL` ocurra 1 vez. Esto puede ser un problema durante la validación cruzada: si la muestra termina en el conjunto de prueba durante la división, entonces el clasificador no vería esta categoría durante el entrenamiento y no sería capaz de codificarla. En scikit-learn, existen dos soluciones para solventar este problema:\n",
    "\n",
    "+ enumenar todos las posible categorías y proporcionarlas  al codificador a través del parámetro `categories`;\n",
    "+ usar el parámetro `handle_unknown`.\n",
    "\n",
    "Por simplicidad, usaremos esta última solución.\n",
    "\n",
    "Tengamos en cuenta que `OrdinalEncoder` también expone un parámetro `handle_unknown`. Puede ser establecido en `use_encoded_value` y estableciendo `unknown_value` para manejar categorías raras.\n",
    "\n",
    "Ahora podemos crear nuestro pipeline de machine learning."
   ]
  },
  {
   "cell_type": "code",
   "execution_count": 57,
   "id": "ba03c42c",
   "metadata": {
    "collapsed": false,
    "jupyter": {
     "outputs_hidden": false
    },
    "pycharm": {
     "name": "#%%\n"
    }
   },
   "outputs": [],
   "source": [
    "model = make_pipeline(\n",
    "    OneHotEncoder(handle_unknown=\"ignore\"),\n",
    "    LogisticRegression(max_iter=500)\n",
    ")"
   ]
  },
  {
   "cell_type": "markdown",
   "id": "dbe84bdd",
   "metadata": {
    "pycharm": {
     "name": "#%% md\n"
    }
   },
   "source": [
    "Aquí necesitamos incrementar el número máximo de iteraciones para obtener una covergencia plena de `LogisticRegresion` y evitar un `ConvergenceWarning`. Al contrario que las features numéricas, las features categóricas codificadas one-hot tiene todas la misma escala (los valores son 0 o 1), por no que no obtenemos ningún beneficio del escalado. En este caso, incrementar `max_iter` es la forma correcta de hacer.\n",
    "\n",
    "Finalmente, vamos a comprobar el rendimiento de generalización del modelo usando únicamente las columnas categóricas."
   ]
  },
  {
   "cell_type": "code",
   "execution_count": 58,
   "id": "a6296bea",
   "metadata": {
    "collapsed": false,
    "jupyter": {
     "outputs_hidden": false
    },
    "pycharm": {
     "name": "#%%\n"
    }
   },
   "outputs": [
    {
     "data": {
      "text/plain": [
       "{'fit_time': array([0.03252769, 0.02702308, 0.02702284, 0.02552271, 0.02652216]),\n",
       " 'score_time': array([0.00300288, 0.00350356, 0.00300264, 0.00300264, 0.00300312]),\n",
       " 'test_score': array([0.74 , 0.75 , 0.765, 0.72 , 0.73 ])}"
      ]
     },
     "execution_count": 58,
     "metadata": {},
     "output_type": "execute_result"
    }
   ],
   "source": [
    "cv_results = cross_validate(model, X, y)\n",
    "cv_results"
   ]
  },
  {
   "cell_type": "code",
   "execution_count": 59,
   "id": "833d6fd7",
   "metadata": {
    "collapsed": false,
    "jupyter": {
     "outputs_hidden": false
    },
    "pycharm": {
     "name": "#%%\n"
    }
   },
   "outputs": [
    {
     "name": "stdout",
     "output_type": "stream",
     "text": [
      "La precisión es: 0.741 +/- 0.016\n"
     ]
    }
   ],
   "source": [
    "scores = cv_results[\"test_score\"]\n",
    "print(f\"La precisión es: {scores.mean():.3f} +/- {scores.std():.3f}\")"
   ]
  },
  {
   "cell_type": "markdown",
   "id": "3770adf7",
   "metadata": {
    "pycharm": {
     "name": "#%% md\n"
    }
   },
   "source": [
    "En este caso, esta representación de las variables categóricas es ligeramente más predictiva del riesgo crediticio que las variables numéricas usadas anteriormente."
   ]
  },
  {
   "cell_type": "markdown",
   "id": "f93c7053",
   "metadata": {
    "pycharm": {
     "name": "#%% md\n"
    }
   },
   "source": [
    "# Usando juntas variables numéricas y categóricas"
   ]
  },
  {
   "cell_type": "markdown",
   "id": "388a628c",
   "metadata": {
    "pycharm": {
     "name": "#%% md\n"
    }
   },
   "source": [
    "Hasta el momento hemos visto el preprocesamiento requerido cuando manejamos variables numéricas y categóricas. Sin embargo, desvinculamos el proceso para tratar cada tipo individualmente. Vamos mostrar cómo combinar estos pasos de preprocesamiento."
   ]
  },
  {
   "cell_type": "markdown",
   "id": "6b2434e4",
   "metadata": {
    "pycharm": {
     "name": "#%% md\n"
    }
   },
   "source": [
    "## Selección basada en tipos de datos"
   ]
  },
  {
   "cell_type": "markdown",
   "id": "9cff4f49",
   "metadata": {
    "pycharm": {
     "name": "#%% md\n"
    }
   },
   "source": [
    "Repitamos de nuevo el procedimiento para separar las variables categóricas y numéricas según sus tipos de dato:"
   ]
  },
  {
   "cell_type": "code",
   "execution_count": 60,
   "id": "659244b9",
   "metadata": {
    "collapsed": false,
    "jupyter": {
     "outputs_hidden": false
    },
    "pycharm": {
     "name": "#%%\n"
    }
   },
   "outputs": [],
   "source": [
    "target_name = \"class\"\n",
    "y = credit[target_name]\n",
    "X = credit.drop(columns=[target_name])\n",
    "\n",
    "numerical_columns_selector = selector(dtype_exclude=object)\n",
    "categorical_columns_selector = selector(dtype_include=object)\n",
    "\n",
    "numerical_columns = numerical_columns_selector(X)\n",
    "categorical_columns = categorical_columns_selector(X)"
   ]
  },
  {
   "cell_type": "markdown",
   "id": "b5eb124c",
   "metadata": {
    "pycharm": {
     "name": "#%% md\n"
    }
   },
   "source": [
    "Atención, en este ejemplo sabemos que el tipo de datos `object` se usa para representar textos y, por tanto, features categóricas. Tengamos precaución porque esto no es siempre el caso. Algunas veces el tipo de dados `object` podría contener otros tipos de información, como fechas que no tenían el formato adecuado y, sin embargo, se relacionan a una cantidad de tiempo transcurrido.\n",
    "\n",
    "En un escenario más general, deberíamos inspeccionar manualmente el contenido de nuestro dataframe para no usar equivocadamente `make_column_selector`."
   ]
  },
  {
   "cell_type": "markdown",
   "id": "f33ae36a",
   "metadata": {
    "pycharm": {
     "name": "#%% md\n"
    }
   },
   "source": [
    "## Enviar columnas a un procesador específico\n",
    "\n",
    "Ya vimos anteriormente que necesitamos tratar los datos de forma diferente dependiendo de su naturaleza (numérica o categórica). Scikit-learn proporciona una clase `ColumnTransformer` que enviará columnas específicas a transformadores específicos, haciendo fácil entrenar un único modelo predictivo en un dataset que combina ambos tipos de variables juntas (datos tabulares tipados heterogéneamente).\n",
    "\n",
    "En primer lugar definimos las columnas dependiendo de su tipo de dato:\n",
    "\n",
    "+ La **codificación one-hot** se aplicará a las columnas categóricas. Además, usaremos `handle_unknown=\"ignore\"` para solventar el potencial problema debido a cartegorías raras.\n",
    "+ El **escalado numérico** de las features numéricas será estandarizado.\n",
    "\n",
    "Ahora creamos nuestro `ColumnTransformer` especificando los tres valores: el nombre del preprocesador, el transformador y las columnas. En primer lugar, vamos a crear los preprocesadores para las partes numéricas y categóricas."
   ]
  },
  {
   "cell_type": "code",
   "execution_count": 61,
   "id": "e72a8caa",
   "metadata": {
    "collapsed": false,
    "jupyter": {
     "outputs_hidden": false
    },
    "pycharm": {
     "name": "#%%\n"
    }
   },
   "outputs": [],
   "source": [
    "categorical_preprocessor = OneHotEncoder(handle_unknown=\"ignore\")\n",
    "numerical_preprocessor = StandardScaler()"
   ]
  },
  {
   "cell_type": "markdown",
   "id": "888bcac5",
   "metadata": {
    "pycharm": {
     "name": "#%% md\n"
    }
   },
   "source": [
    "Ahora creamos el transformador y asociamos cada uno de los preprocesadores con sus respectivas columnas."
   ]
  },
  {
   "cell_type": "code",
   "execution_count": 62,
   "id": "2ecd9dc9",
   "metadata": {
    "collapsed": false,
    "jupyter": {
     "outputs_hidden": false
    },
    "pycharm": {
     "name": "#%%\n"
    }
   },
   "outputs": [],
   "source": [
    "from sklearn.compose import ColumnTransformer\n",
    "\n",
    "preprocessor = ColumnTransformer([\n",
    "    (\"one-hot-encoder\", categorical_preprocessor, categorical_columns),\n",
    "    (\"standard_scaler\", numerical_preprocessor, numerical_columns)\n",
    "])"
   ]
  },
  {
   "cell_type": "markdown",
   "id": "1cfbcd16",
   "metadata": {
    "pycharm": {
     "name": "#%% md\n"
    }
   },
   "source": [
    "Vamos a representar gráficamente la estructura de `ColumnTransformer`:\n",
    "\n",
    "![](images/column_transformer.png)"
   ]
  },
  {
   "cell_type": "markdown",
   "id": "98406772",
   "metadata": {
    "pycharm": {
     "name": "#%% md\n"
    }
   },
   "source": [
    "Un `ColumnTransformer` hace lo siguiente:\n",
    "\n",
    "+ **divide las columnas** del dataset original basándose en los nombres de las columnas o índices proporcionados. Obtendremos tantos subconjuntos como números de transformadores pasados al `ColumnTransformer`.\n",
    "+ **transforma cada subconjunto**. Se aplica un transformador específico a cada subconjunto: internamente llamará a `fit_transform` o `transform`. La salida de este paso es un conjunto de datasets transformados.\n",
    "+ por último, **concatena los datasets transformados** en un único dataset.\n",
    "\n",
    "Lo importante es que `ColumnTransformer` es como cualquier otro transformador de scikit-learn. Puede ser combinado con un clasificador en un `Pipeline`:"
   ]
  },
  {
   "cell_type": "code",
   "execution_count": 63,
   "id": "fbdbb03f",
   "metadata": {
    "collapsed": false,
    "jupyter": {
     "outputs_hidden": false
    },
    "pycharm": {
     "name": "#%%\n"
    }
   },
   "outputs": [],
   "source": [
    "model = make_pipeline(preprocessor, LogisticRegression(max_iter=500))"
   ]
  },
  {
   "cell_type": "code",
   "execution_count": 64,
   "id": "6731073b",
   "metadata": {
    "collapsed": false,
    "jupyter": {
     "outputs_hidden": false
    },
    "pycharm": {
     "name": "#%%\n"
    }
   },
   "outputs": [
    {
     "data": {
      "text/html": [
       "<style>div.sk-top-container {color: black;background-color: white;}div.sk-toggleable {background-color: white;}label.sk-toggleable__label {cursor: pointer;display: block;width: 100%;margin-bottom: 0;padding: 0.2em 0.3em;box-sizing: border-box;text-align: center;}div.sk-toggleable__content {max-height: 0;max-width: 0;overflow: hidden;text-align: left;background-color: #f0f8ff;}div.sk-toggleable__content pre {margin: 0.2em;color: black;border-radius: 0.25em;background-color: #f0f8ff;}input.sk-toggleable__control:checked~div.sk-toggleable__content {max-height: 200px;max-width: 100%;overflow: auto;}div.sk-estimator input.sk-toggleable__control:checked~label.sk-toggleable__label {background-color: #d4ebff;}div.sk-label input.sk-toggleable__control:checked~label.sk-toggleable__label {background-color: #d4ebff;}input.sk-hidden--visually {border: 0;clip: rect(1px 1px 1px 1px);clip: rect(1px, 1px, 1px, 1px);height: 1px;margin: -1px;overflow: hidden;padding: 0;position: absolute;width: 1px;}div.sk-estimator {font-family: monospace;background-color: #f0f8ff;margin: 0.25em 0.25em;border: 1px dotted black;border-radius: 0.25em;box-sizing: border-box;}div.sk-estimator:hover {background-color: #d4ebff;}div.sk-parallel-item::after {content: \"\";width: 100%;border-bottom: 1px solid gray;flex-grow: 1;}div.sk-label:hover label.sk-toggleable__label {background-color: #d4ebff;}div.sk-serial::before {content: \"\";position: absolute;border-left: 1px solid gray;box-sizing: border-box;top: 2em;bottom: 0;left: 50%;}div.sk-serial {display: flex;flex-direction: column;align-items: center;background-color: white;}div.sk-item {z-index: 1;}div.sk-parallel {display: flex;align-items: stretch;justify-content: center;background-color: white;}div.sk-parallel-item {display: flex;flex-direction: column;position: relative;background-color: white;}div.sk-parallel-item:first-child::after {align-self: flex-end;width: 50%;}div.sk-parallel-item:last-child::after {align-self: flex-start;width: 50%;}div.sk-parallel-item:only-child::after {width: 0;}div.sk-dashed-wrapped {border: 1px dashed gray;margin: 0.2em;box-sizing: border-box;padding-bottom: 0.1em;background-color: white;position: relative;}div.sk-label label {font-family: monospace;font-weight: bold;background-color: white;display: inline-block;line-height: 1.2em;}div.sk-label-container {position: relative;z-index: 2;text-align: center;}div.sk-container {display: inline-block;position: relative;}</style><div class=\"sk-top-container\"><div class=\"sk-container\"><div class=\"sk-item sk-dashed-wrapped\"><div class=\"sk-label-container\"><div class=\"sk-label sk-toggleable\"><input class=\"sk-toggleable__control sk-hidden--visually\" id=\"4593f4e3-6ad6-4116-bb8c-35264e8bcd08\" type=\"checkbox\" ><label class=\"sk-toggleable__label\" for=\"4593f4e3-6ad6-4116-bb8c-35264e8bcd08\">Pipeline</label><div class=\"sk-toggleable__content\"><pre>Pipeline(steps=[('columntransformer',\n",
       "                 ColumnTransformer(transformers=[('one-hot-encoder',\n",
       "                                                  OneHotEncoder(handle_unknown='ignore'),\n",
       "                                                  ['checking_status',\n",
       "                                                   'credit_history', 'purpose',\n",
       "                                                   'savings_status',\n",
       "                                                   'employment',\n",
       "                                                   'personal_status',\n",
       "                                                   'other_parties',\n",
       "                                                   'property_magnitude',\n",
       "                                                   'other_payment_plans',\n",
       "                                                   'housing', 'job',\n",
       "                                                   'own_telephone',\n",
       "                                                   'foreign_worker']),\n",
       "                                                 ('standard_scaler',\n",
       "                                                  StandardScaler(),\n",
       "                                                  ['duration', 'credit_amount',\n",
       "                                                   'installment_commitment',\n",
       "                                                   'residence_since', 'age',\n",
       "                                                   'existing_credits',\n",
       "                                                   'num_dependents'])])),\n",
       "                ('logisticregression', LogisticRegression(max_iter=500))])</pre></div></div></div><div class=\"sk-serial\"><div class=\"sk-item sk-dashed-wrapped\"><div class=\"sk-label-container\"><div class=\"sk-label sk-toggleable\"><input class=\"sk-toggleable__control sk-hidden--visually\" id=\"28b13a79-07ce-4ef7-bb21-70e5639f0d70\" type=\"checkbox\" ><label class=\"sk-toggleable__label\" for=\"28b13a79-07ce-4ef7-bb21-70e5639f0d70\">columntransformer: ColumnTransformer</label><div class=\"sk-toggleable__content\"><pre>ColumnTransformer(transformers=[('one-hot-encoder',\n",
       "                                 OneHotEncoder(handle_unknown='ignore'),\n",
       "                                 ['checking_status', 'credit_history',\n",
       "                                  'purpose', 'savings_status', 'employment',\n",
       "                                  'personal_status', 'other_parties',\n",
       "                                  'property_magnitude', 'other_payment_plans',\n",
       "                                  'housing', 'job', 'own_telephone',\n",
       "                                  'foreign_worker']),\n",
       "                                ('standard_scaler', StandardScaler(),\n",
       "                                 ['duration', 'credit_amount',\n",
       "                                  'installment_commitment', 'residence_since',\n",
       "                                  'age', 'existing_credits',\n",
       "                                  'num_dependents'])])</pre></div></div></div><div class=\"sk-parallel\"><div class=\"sk-parallel-item\"><div class=\"sk-item\"><div class=\"sk-label-container\"><div class=\"sk-label sk-toggleable\"><input class=\"sk-toggleable__control sk-hidden--visually\" id=\"ac8c34c9-f6a7-4691-94de-9a0ea7a204ad\" type=\"checkbox\" ><label class=\"sk-toggleable__label\" for=\"ac8c34c9-f6a7-4691-94de-9a0ea7a204ad\">one-hot-encoder</label><div class=\"sk-toggleable__content\"><pre>['checking_status', 'credit_history', 'purpose', 'savings_status', 'employment', 'personal_status', 'other_parties', 'property_magnitude', 'other_payment_plans', 'housing', 'job', 'own_telephone', 'foreign_worker']</pre></div></div></div><div class=\"sk-serial\"><div class=\"sk-item\"><div class=\"sk-estimator sk-toggleable\"><input class=\"sk-toggleable__control sk-hidden--visually\" id=\"f2ec9dd6-7b7f-4908-8c77-c46773019d1f\" type=\"checkbox\" ><label class=\"sk-toggleable__label\" for=\"f2ec9dd6-7b7f-4908-8c77-c46773019d1f\">OneHotEncoder</label><div class=\"sk-toggleable__content\"><pre>OneHotEncoder(handle_unknown='ignore')</pre></div></div></div></div></div></div><div class=\"sk-parallel-item\"><div class=\"sk-item\"><div class=\"sk-label-container\"><div class=\"sk-label sk-toggleable\"><input class=\"sk-toggleable__control sk-hidden--visually\" id=\"bfbe5363-1d03-4406-a5f7-fad8ed53b97f\" type=\"checkbox\" ><label class=\"sk-toggleable__label\" for=\"bfbe5363-1d03-4406-a5f7-fad8ed53b97f\">standard_scaler</label><div class=\"sk-toggleable__content\"><pre>['duration', 'credit_amount', 'installment_commitment', 'residence_since', 'age', 'existing_credits', 'num_dependents']</pre></div></div></div><div class=\"sk-serial\"><div class=\"sk-item\"><div class=\"sk-estimator sk-toggleable\"><input class=\"sk-toggleable__control sk-hidden--visually\" id=\"30d7d67f-3d6e-4933-bf7e-0022b086c45d\" type=\"checkbox\" ><label class=\"sk-toggleable__label\" for=\"30d7d67f-3d6e-4933-bf7e-0022b086c45d\">StandardScaler</label><div class=\"sk-toggleable__content\"><pre>StandardScaler()</pre></div></div></div></div></div></div></div></div><div class=\"sk-item\"><div class=\"sk-estimator sk-toggleable\"><input class=\"sk-toggleable__control sk-hidden--visually\" id=\"c5b127e3-cbaa-4fdc-8a1f-bed669fd64c2\" type=\"checkbox\" ><label class=\"sk-toggleable__label\" for=\"c5b127e3-cbaa-4fdc-8a1f-bed669fd64c2\">LogisticRegression</label><div class=\"sk-toggleable__content\"><pre>LogisticRegression(max_iter=500)</pre></div></div></div></div></div></div></div>"
      ],
      "text/plain": [
       "Pipeline(steps=[('columntransformer',\n",
       "                 ColumnTransformer(transformers=[('one-hot-encoder',\n",
       "                                                  OneHotEncoder(handle_unknown='ignore'),\n",
       "                                                  ['checking_status',\n",
       "                                                   'credit_history', 'purpose',\n",
       "                                                   'savings_status',\n",
       "                                                   'employment',\n",
       "                                                   'personal_status',\n",
       "                                                   'other_parties',\n",
       "                                                   'property_magnitude',\n",
       "                                                   'other_payment_plans',\n",
       "                                                   'housing', 'job',\n",
       "                                                   'own_telephone',\n",
       "                                                   'foreign_worker']),\n",
       "                                                 ('standard_scaler',\n",
       "                                                  StandardScaler(),\n",
       "                                                  ['duration', 'credit_amount',\n",
       "                                                   'installment_commitment',\n",
       "                                                   'residence_since', 'age',\n",
       "                                                   'existing_credits',\n",
       "                                                   'num_dependents'])])),\n",
       "                ('logisticregression', LogisticRegression(max_iter=500))])"
      ]
     },
     "execution_count": 64,
     "metadata": {},
     "output_type": "execute_result"
    }
   ],
   "source": [
    "set_config(display=\"diagram\")\n",
    "model"
   ]
  },
  {
   "cell_type": "markdown",
   "id": "c6e34c94",
   "metadata": {
    "pycharm": {
     "name": "#%% md\n"
    }
   },
   "source": [
    "El modelo final es más complejo que los que hemos visto previamente pero aún sigue la misma API (el mismo conjunto de métodos que pueden ser llamados por el usuario):\n",
    "\n",
    "+ el metodo `fit` es llamado para preprocesar los dantos y luego entrenar el clasificador en los datos preprocesados;\n",
    "+ el metodo `predict` hace predicciones en datos nuevos;\n",
    "+ el metodo `score` es usado para predecir en los datos de prueba y comparar las predicciones con las etiquetas de prueba esperadas para calcular la precisión.\n",
    "\n",
    "Empecemos dividiendo nuestros datos en los conjuntos de entrenamiento y prueba:"
   ]
  },
  {
   "cell_type": "code",
   "execution_count": 65,
   "id": "d56ab4a8",
   "metadata": {
    "collapsed": false,
    "jupyter": {
     "outputs_hidden": false
    },
    "pycharm": {
     "name": "#%%\n"
    }
   },
   "outputs": [],
   "source": [
    "X_train, X_test, y_train, y_test = train_test_split(\n",
    "    X, y, random_state=42)"
   ]
  },
  {
   "cell_type": "code",
   "execution_count": 66,
   "id": "e2ecfd12",
   "metadata": {
    "collapsed": false,
    "jupyter": {
     "outputs_hidden": false
    },
    "pycharm": {
     "name": "#%%\n"
    }
   },
   "outputs": [],
   "source": [
    "_ = model.fit(X_train, y_train)"
   ]
  },
  {
   "cell_type": "markdown",
   "id": "54ef019f",
   "metadata": {
    "pycharm": {
     "name": "#%% md\n"
    }
   },
   "source": [
    "Luego, podemos enviar el dataset en bruto directamente al pipeline. De hecho, no necesitamos hacer ningún preprocesamiento manual (llamando a los métodos `transform` o `fit_transform`) ya que será manejado cuando llamemos al método `predict`. Como ejemplo, predeciremos em los primeros cinco ejemplos del conjunto de prueba."
   ]
  },
  {
   "cell_type": "code",
   "execution_count": 67,
   "id": "f4785e98",
   "metadata": {
    "collapsed": false,
    "jupyter": {
     "outputs_hidden": false
    },
    "pycharm": {
     "name": "#%%\n"
    }
   },
   "outputs": [
    {
     "data": {
      "text/html": [
       "<div>\n",
       "<style scoped>\n",
       "    .dataframe tbody tr th:only-of-type {\n",
       "        vertical-align: middle;\n",
       "    }\n",
       "\n",
       "    .dataframe tbody tr th {\n",
       "        vertical-align: top;\n",
       "    }\n",
       "\n",
       "    .dataframe thead th {\n",
       "        text-align: right;\n",
       "    }\n",
       "</style>\n",
       "<table border=\"1\" class=\"dataframe\">\n",
       "  <thead>\n",
       "    <tr style=\"text-align: right;\">\n",
       "      <th></th>\n",
       "      <th>checking_status</th>\n",
       "      <th>duration</th>\n",
       "      <th>credit_history</th>\n",
       "      <th>purpose</th>\n",
       "      <th>credit_amount</th>\n",
       "      <th>savings_status</th>\n",
       "      <th>employment</th>\n",
       "      <th>installment_commitment</th>\n",
       "      <th>personal_status</th>\n",
       "      <th>other_parties</th>\n",
       "      <th>residence_since</th>\n",
       "      <th>property_magnitude</th>\n",
       "      <th>age</th>\n",
       "      <th>other_payment_plans</th>\n",
       "      <th>housing</th>\n",
       "      <th>existing_credits</th>\n",
       "      <th>job</th>\n",
       "      <th>num_dependents</th>\n",
       "      <th>own_telephone</th>\n",
       "      <th>foreign_worker</th>\n",
       "    </tr>\n",
       "  </thead>\n",
       "  <tbody>\n",
       "    <tr>\n",
       "      <th>521</th>\n",
       "      <td>'&lt;0'</td>\n",
       "      <td>18</td>\n",
       "      <td>'existing paid'</td>\n",
       "      <td>radio/tv</td>\n",
       "      <td>3190</td>\n",
       "      <td>'&lt;100'</td>\n",
       "      <td>'1&lt;=X&lt;4'</td>\n",
       "      <td>2</td>\n",
       "      <td>'female div/dep/mar'</td>\n",
       "      <td>none</td>\n",
       "      <td>2</td>\n",
       "      <td>'real estate'</td>\n",
       "      <td>24</td>\n",
       "      <td>none</td>\n",
       "      <td>own</td>\n",
       "      <td>1</td>\n",
       "      <td>skilled</td>\n",
       "      <td>1</td>\n",
       "      <td>none</td>\n",
       "      <td>yes</td>\n",
       "    </tr>\n",
       "    <tr>\n",
       "      <th>737</th>\n",
       "      <td>'&lt;0'</td>\n",
       "      <td>18</td>\n",
       "      <td>'existing paid'</td>\n",
       "      <td>'new car'</td>\n",
       "      <td>4380</td>\n",
       "      <td>'100&lt;=X&lt;500'</td>\n",
       "      <td>'1&lt;=X&lt;4'</td>\n",
       "      <td>3</td>\n",
       "      <td>'male single'</td>\n",
       "      <td>none</td>\n",
       "      <td>4</td>\n",
       "      <td>car</td>\n",
       "      <td>35</td>\n",
       "      <td>none</td>\n",
       "      <td>own</td>\n",
       "      <td>1</td>\n",
       "      <td>'unskilled resident'</td>\n",
       "      <td>2</td>\n",
       "      <td>yes</td>\n",
       "      <td>yes</td>\n",
       "    </tr>\n",
       "    <tr>\n",
       "      <th>740</th>\n",
       "      <td>'&lt;0'</td>\n",
       "      <td>24</td>\n",
       "      <td>'all paid'</td>\n",
       "      <td>'new car'</td>\n",
       "      <td>2325</td>\n",
       "      <td>'100&lt;=X&lt;500'</td>\n",
       "      <td>'4&lt;=X&lt;7'</td>\n",
       "      <td>2</td>\n",
       "      <td>'male single'</td>\n",
       "      <td>none</td>\n",
       "      <td>3</td>\n",
       "      <td>car</td>\n",
       "      <td>32</td>\n",
       "      <td>bank</td>\n",
       "      <td>own</td>\n",
       "      <td>1</td>\n",
       "      <td>skilled</td>\n",
       "      <td>1</td>\n",
       "      <td>none</td>\n",
       "      <td>yes</td>\n",
       "    </tr>\n",
       "    <tr>\n",
       "      <th>660</th>\n",
       "      <td>'&gt;=200'</td>\n",
       "      <td>12</td>\n",
       "      <td>'existing paid'</td>\n",
       "      <td>radio/tv</td>\n",
       "      <td>1297</td>\n",
       "      <td>'&lt;100'</td>\n",
       "      <td>'1&lt;=X&lt;4'</td>\n",
       "      <td>3</td>\n",
       "      <td>'male mar/wid'</td>\n",
       "      <td>none</td>\n",
       "      <td>4</td>\n",
       "      <td>'real estate'</td>\n",
       "      <td>23</td>\n",
       "      <td>none</td>\n",
       "      <td>rent</td>\n",
       "      <td>1</td>\n",
       "      <td>skilled</td>\n",
       "      <td>1</td>\n",
       "      <td>none</td>\n",
       "      <td>yes</td>\n",
       "    </tr>\n",
       "    <tr>\n",
       "      <th>411</th>\n",
       "      <td>'no checking'</td>\n",
       "      <td>33</td>\n",
       "      <td>'critical/other existing credit'</td>\n",
       "      <td>'used car'</td>\n",
       "      <td>7253</td>\n",
       "      <td>'&lt;100'</td>\n",
       "      <td>'4&lt;=X&lt;7'</td>\n",
       "      <td>3</td>\n",
       "      <td>'male single'</td>\n",
       "      <td>none</td>\n",
       "      <td>2</td>\n",
       "      <td>car</td>\n",
       "      <td>35</td>\n",
       "      <td>none</td>\n",
       "      <td>own</td>\n",
       "      <td>2</td>\n",
       "      <td>'high qualif/self emp/mgmt'</td>\n",
       "      <td>1</td>\n",
       "      <td>yes</td>\n",
       "      <td>yes</td>\n",
       "    </tr>\n",
       "  </tbody>\n",
       "</table>\n",
       "</div>"
      ],
      "text/plain": [
       "    checking_status  duration                    credit_history     purpose  \\\n",
       "521            '<0'        18                   'existing paid'    radio/tv   \n",
       "737            '<0'        18                   'existing paid'   'new car'   \n",
       "740            '<0'        24                        'all paid'   'new car'   \n",
       "660         '>=200'        12                   'existing paid'    radio/tv   \n",
       "411   'no checking'        33  'critical/other existing credit'  'used car'   \n",
       "\n",
       "     credit_amount savings_status employment  installment_commitment  \\\n",
       "521           3190         '<100'   '1<=X<4'                       2   \n",
       "737           4380   '100<=X<500'   '1<=X<4'                       3   \n",
       "740           2325   '100<=X<500'   '4<=X<7'                       2   \n",
       "660           1297         '<100'   '1<=X<4'                       3   \n",
       "411           7253         '<100'   '4<=X<7'                       3   \n",
       "\n",
       "          personal_status other_parties  residence_since property_magnitude  \\\n",
       "521  'female div/dep/mar'          none                2      'real estate'   \n",
       "737         'male single'          none                4                car   \n",
       "740         'male single'          none                3                car   \n",
       "660        'male mar/wid'          none                4      'real estate'   \n",
       "411         'male single'          none                2                car   \n",
       "\n",
       "     age other_payment_plans housing  existing_credits  \\\n",
       "521   24                none     own                 1   \n",
       "737   35                none     own                 1   \n",
       "740   32                bank     own                 1   \n",
       "660   23                none    rent                 1   \n",
       "411   35                none     own                 2   \n",
       "\n",
       "                             job  num_dependents own_telephone foreign_worker  \n",
       "521                      skilled               1          none            yes  \n",
       "737         'unskilled resident'               2           yes            yes  \n",
       "740                      skilled               1          none            yes  \n",
       "660                      skilled               1          none            yes  \n",
       "411  'high qualif/self emp/mgmt'               1           yes            yes  "
      ]
     },
     "execution_count": 67,
     "metadata": {},
     "output_type": "execute_result"
    }
   ],
   "source": [
    "X_test.head()"
   ]
  },
  {
   "cell_type": "code",
   "execution_count": 68,
   "id": "5479f1ce",
   "metadata": {
    "collapsed": false,
    "jupyter": {
     "outputs_hidden": false
    },
    "pycharm": {
     "name": "#%%\n"
    }
   },
   "outputs": [
    {
     "data": {
      "text/plain": [
       "array(['good', 'bad', 'bad', 'good', 'good'], dtype=object)"
      ]
     },
     "execution_count": 68,
     "metadata": {},
     "output_type": "execute_result"
    }
   ],
   "source": [
    "model.predict(X_test)[:5]"
   ]
  },
  {
   "cell_type": "code",
   "execution_count": 69,
   "id": "13bee33f",
   "metadata": {
    "collapsed": false,
    "jupyter": {
     "outputs_hidden": false
    },
    "pycharm": {
     "name": "#%%\n"
    }
   },
   "outputs": [
    {
     "data": {
      "text/plain": [
       "521     bad\n",
       "737    good\n",
       "740    good\n",
       "660    good\n",
       "411    good\n",
       "Name: class, dtype: object"
      ]
     },
     "execution_count": 69,
     "metadata": {},
     "output_type": "execute_result"
    }
   ],
   "source": [
    "y_test[:5]"
   ]
  },
  {
   "cell_type": "markdown",
   "id": "b90d6353",
   "metadata": {
    "pycharm": {
     "name": "#%% md\n"
    }
   },
   "source": [
    "Para obtener directamente la puntuación de precisión, necesitamos llamar al método `score`. Calculemos la puntuación de precisión del conjunto de pruebas completo."
   ]
  },
  {
   "cell_type": "code",
   "execution_count": 70,
   "id": "934c58b3",
   "metadata": {
    "collapsed": false,
    "jupyter": {
     "outputs_hidden": false
    },
    "pycharm": {
     "name": "#%%\n"
    }
   },
   "outputs": [
    {
     "data": {
      "text/plain": [
       "0.768"
      ]
     },
     "execution_count": 70,
     "metadata": {},
     "output_type": "execute_result"
    }
   ],
   "source": [
    "model.score(X_test, y_test)"
   ]
  },
  {
   "cell_type": "markdown",
   "id": "b58e304f",
   "metadata": {
    "pycharm": {
     "name": "#%% md\n"
    }
   },
   "source": [
    "## Evaluación del modelo con validación cruzada\n",
    "\n",
    "Como vimos anteriormente, un modelo predictivo debe ser evaluado con validación cruzada. Nuestro modelo es utilizable con herramientas de validación cruzada de scikit-learn como cualquier otro predictor:"
   ]
  },
  {
   "cell_type": "code",
   "execution_count": 71,
   "id": "3e8b0600",
   "metadata": {
    "collapsed": false,
    "jupyter": {
     "outputs_hidden": false
    },
    "pycharm": {
     "name": "#%%\n"
    }
   },
   "outputs": [
    {
     "data": {
      "text/plain": [
       "{'fit_time': array([0.04668927, 0.04341388, 0.04553866, 0.04053569, 0.03930879]),\n",
       " 'score_time': array([0.00600529, 0.00600529, 0.006495  , 0.00568366, 0.00550437]),\n",
       " 'test_score': array([0.75, 0.76, 0.76, 0.74, 0.75])}"
      ]
     },
     "execution_count": 71,
     "metadata": {},
     "output_type": "execute_result"
    }
   ],
   "source": [
    "cv_results = cross_validate(model, X, y, cv=5)\n",
    "cv_results"
   ]
  },
  {
   "cell_type": "code",
   "execution_count": 72,
   "id": "7dacf7dd",
   "metadata": {
    "collapsed": false,
    "jupyter": {
     "outputs_hidden": false
    },
    "pycharm": {
     "name": "#%%\n"
    }
   },
   "outputs": [
    {
     "name": "stdout",
     "output_type": "stream",
     "text": [
      "La precisión media por validación cruzada es: 0.752 +/- 0.007\n"
     ]
    }
   ],
   "source": [
    "scores = cv_results[\"test_score\"]\n",
    "print(\"La precisión media por validación cruzada es: \"\n",
    "      f\"{scores.mean():.3f} +/- {scores.std():.3f}\")"
   ]
  },
  {
   "cell_type": "markdown",
   "id": "a2d08af3",
   "metadata": {
    "pycharm": {
     "name": "#%% md\n"
    }
   },
   "source": [
    "El modelo compuesto tiene una mayor precisión predicitiva que los dos modelos que utilizan variables numéricas y categóricas por separado."
   ]
  },
  {
   "cell_type": "markdown",
   "id": "1132ff41-0b1d-4a64-b637-ea3f8ba8de02",
   "metadata": {},
   "source": [
    "# Resumen"
   ]
  },
  {
   "cell_type": "markdown",
   "id": "d91e4ef5-959c-459a-8de9-b01959389c8b",
   "metadata": {},
   "source": [
    "A modo de resumen hemos visto:\n",
    "\n",
    "+ cómo crear un modelo predictivo con scikit-learn;\n",
    "+ la API de scikit-learn para entrenar y probar un modelo predictivo;\n",
    "+ procesar datos numéricos, en particular usando un `Pipeline`;\n",
    "+ procesar datos categóricos, en particular usando `OneHotEncoder` y `OrdinalEncoder`;\n",
    "+ manejar y procesar tipos de datos mixtos (es decir, datos numéricos y categóricos), en particular usando `ColumnTransformer`.\n",
    "\n",
    "Algunas referencias a seguir con ejemplos de algunos conceptos mencionados:\n",
    "\n",
    "+ [Pipeline predictivo de machine learning con tipos de datos mixtos](https://scikit-learn.org/stable/auto_examples/compose/plot_column_transformer_mixed_types.html#sphx-glr-auto-examples-compose-plot-column-transformer-mixed-types-py).\n",
    "+ [Importancia del escalado de features](https://scikit-learn.org/stable/auto_examples/preprocessing/plot_scaling_importance.html#sphx-glr-auto-examples-preprocessing-plot-scaling-importance-py)."
   ]
  }
 ],
 "metadata": {
  "kernelspec": {
   "display_name": "Python 3",
   "language": "python",
   "name": "python3"
  },
  "language_info": {
   "codemirror_mode": {
    "name": "ipython",
    "version": 3
   },
   "file_extension": ".py",
   "mimetype": "text/x-python",
   "name": "python",
   "nbconvert_exporter": "python",
   "pygments_lexer": "ipython3",
   "version": "3.9.4"
  }
 },
 "nbformat": 4,
 "nbformat_minor": 5
}
