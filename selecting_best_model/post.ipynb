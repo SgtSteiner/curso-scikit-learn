{
 "cells": [
  {
   "cell_type": "markdown",
   "id": "2a9f4ca7-17d1-4b85-b3e2-0807cf367b15",
   "metadata": {},
   "source": [
    "---\n",
    "title: \"Selección del mejor modelo\"\n",
    "date: 2022-03-18T11:28:41+01:00\n",
    "tags: [overfitting, underfitting, validación cruzada, curva de validación, curva de aprendizaje]\n",
    "categories: [tutoriales]\n",
    "---"
   ]
  },
  {
   "cell_type": "markdown",
   "id": "a46cc870-6b29-41c4-8d63-6cabd7df35c7",
   "metadata": {},
   "source": [
    "En este post proporcionaremos una introducción intuitiva a los conceptos fundamentales de **overfitting** y **underfitting** en machine learning. Los modelos de machine learning nunca pueden hacer predicciones perfectas: el error de prueba nunca es exactamente cero. Esta carencia proviene del equilibrio fundamental entre la flexibilidad de modelado y el tamaño limitado del dataset de entrenamiento.\n",
    "\n",
    "En un primer momento definiremos ambos problemas y caracterizaremos cómo y por qué surgen.\n",
    "\n",
    "Posteriormente presentaremos una metodología para cuantificar estos problemas contrastando el error de entrenamiento con el error de prueba para varias opciones de la familia de modelos, los parámetros del modelo. Más importante aún, enfatizaremos el impacto del tamaño del dataset de entrenamiento en este equilibrio.\n",
    "\n",
    "En concreto mostraremos los siguientes aspectos:\n",
    "\n",
    "+ la necesidad de dividir los datos en un conjunto de entrenamiento y uno de prueba\n",
    "+ el significado de los errores de entrenamiento y prueba\n",
    "+ el framework global de validación cruzada con la posibilidad de estudiar las variaciones en el rendimiento de generalización\n",
    "+ cómo identificar si un modelo generaliza, existe overfitting o underfitting\n",
    "+ como comprobar la influencia de un hiperparámetro en el equilibrio underfitting/overfitting\n",
    "+ la influencia del número de muestras en un dataset, especialmente en la variabilidad de los errores reportados cuando ejecutamos validación cruzada\n",
    "+ la curva de aprendizaje, que es una representación visual de la capacidad de un modelo para mejorar añadiendo nuevas muestras\n",
    "...\n"
   ]
  },
  {
   "cell_type": "markdown",
   "id": "d8e878c2-6886-4177-835a-345707dec972",
   "metadata": {},
   "source": [
    "# Framework de validación cruzada"
   ]
  },
  {
   "cell_type": "markdown",
   "id": "7c53bc63-aa34-48d6-840b-2ea97886ad7b",
   "metadata": {},
   "source": [
    "En posts anteriores vimos algunos conceptos relacionados con la evaluación de modelos predictivos. Ahora vamos a analizar algunos detalles del framework de validación cruzada. Antes de ir a ello, vamos a detenernos en las razones de tener siempre conjuntos de entrenamiento y prueba. En primer lugar, echemos un vistazo a la limitación de usar un dataset sin excluir ninguna muestra.\n",
    "\n",
    "Para ello vamos a usar el dataset de propiedades de California."
   ]
  },
  {
   "cell_type": "code",
   "execution_count": 1,
   "id": "43337e27-ea37-4d7d-ab5b-ad7c72684cc8",
   "metadata": {},
   "outputs": [],
   "source": [
    "from sklearn.datasets import fetch_california_housing\n",
    "\n",
    "housing = fetch_california_housing(as_frame=True)\n",
    "X, y = housing.data.copy(), housing.target.copy()"
   ]
  },
  {
   "cell_type": "markdown",
   "id": "644655d3-8834-49bf-a67f-80012ca08706",
   "metadata": {
    "pycharm": {
     "name": "#%% md\n"
    }
   },
   "source": [
    "En este dataset, el objetivo es predecir el valor medio de las casas en un área de California. Las feautures recopiladas se basan en el mercado de la propiedad y en información geográfica. En este caso, el objetivo a predecir es una variable continua. Por tanto, es una tarea de regresión. Usaremos una modelo predictivo específico de regresión."
   ]
  },
  {
   "cell_type": "code",
   "execution_count": 2,
   "id": "11e18d83",
   "metadata": {
    "collapsed": false,
    "jupyter": {
     "outputs_hidden": false
    },
    "pycharm": {
     "name": "#%%\n"
    }
   },
   "outputs": [
    {
     "name": "stdout",
     "output_type": "stream",
     "text": [
      ".. _california_housing_dataset:\n",
      "\n",
      "California Housing dataset\n",
      "--------------------------\n",
      "\n",
      "**Data Set Characteristics:**\n",
      "\n",
      "    :Number of Instances: 20640\n",
      "\n",
      "    :Number of Attributes: 8 numeric, predictive attributes and the target\n",
      "\n",
      "    :Attribute Information:\n",
      "        - MedInc        median income in block\n",
      "        - HouseAge      median house age in block\n",
      "        - AveRooms      average number of rooms\n",
      "        - AveBedrms     average number of bedrooms\n",
      "        - Population    block population\n",
      "        - AveOccup      average house occupancy\n",
      "        - Latitude      house block latitude\n",
      "        - Longitude     house block longitude\n",
      "\n",
      "    :Missing Attribute Values: None\n",
      "\n",
      "This dataset was obtained from the StatLib repository.\n",
      "http://lib.stat.cmu.edu/datasets/\n",
      "\n",
      "The target variable is the median house value for California districts.\n",
      "\n",
      "This dataset was derived from the 1990 U.S. census, using one row per census\n",
      "block group. A block group is the smallest geographical unit for which the U.S.\n",
      "Census Bureau publishes sample data (a block group typically has a population\n",
      "of 600 to 3,000 people).\n",
      "\n",
      "It can be downloaded/loaded using the\n",
      ":func:`sklearn.datasets.fetch_california_housing` function.\n",
      "\n",
      ".. topic:: References\n",
      "\n",
      "    - Pace, R. Kelley and Ronald Barry, Sparse Spatial Autoregressions,\n",
      "      Statistics and Probability Letters, 33 (1997) 291-297\n",
      "\n"
     ]
    }
   ],
   "source": [
    "print(housing.DESCR)"
   ]
  },
  {
   "cell_type": "code",
   "execution_count": 3,
   "id": "9647c337",
   "metadata": {
    "collapsed": false,
    "jupyter": {
     "outputs_hidden": false
    },
    "pycharm": {
     "name": "#%%\n"
    }
   },
   "outputs": [
    {
     "data": {
      "text/html": [
       "<div>\n",
       "<style scoped>\n",
       "    .dataframe tbody tr th:only-of-type {\n",
       "        vertical-align: middle;\n",
       "    }\n",
       "\n",
       "    .dataframe tbody tr th {\n",
       "        vertical-align: top;\n",
       "    }\n",
       "\n",
       "    .dataframe thead th {\n",
       "        text-align: right;\n",
       "    }\n",
       "</style>\n",
       "<table border=\"1\" class=\"dataframe\">\n",
       "  <thead>\n",
       "    <tr style=\"text-align: right;\">\n",
       "      <th></th>\n",
       "      <th>MedInc</th>\n",
       "      <th>HouseAge</th>\n",
       "      <th>AveRooms</th>\n",
       "      <th>AveBedrms</th>\n",
       "      <th>Population</th>\n",
       "      <th>AveOccup</th>\n",
       "      <th>Latitude</th>\n",
       "      <th>Longitude</th>\n",
       "    </tr>\n",
       "  </thead>\n",
       "  <tbody>\n",
       "    <tr>\n",
       "      <th>0</th>\n",
       "      <td>8.3252</td>\n",
       "      <td>41.0</td>\n",
       "      <td>6.984127</td>\n",
       "      <td>1.023810</td>\n",
       "      <td>322.0</td>\n",
       "      <td>2.555556</td>\n",
       "      <td>37.88</td>\n",
       "      <td>-122.23</td>\n",
       "    </tr>\n",
       "    <tr>\n",
       "      <th>1</th>\n",
       "      <td>8.3014</td>\n",
       "      <td>21.0</td>\n",
       "      <td>6.238137</td>\n",
       "      <td>0.971880</td>\n",
       "      <td>2401.0</td>\n",
       "      <td>2.109842</td>\n",
       "      <td>37.86</td>\n",
       "      <td>-122.22</td>\n",
       "    </tr>\n",
       "    <tr>\n",
       "      <th>2</th>\n",
       "      <td>7.2574</td>\n",
       "      <td>52.0</td>\n",
       "      <td>8.288136</td>\n",
       "      <td>1.073446</td>\n",
       "      <td>496.0</td>\n",
       "      <td>2.802260</td>\n",
       "      <td>37.85</td>\n",
       "      <td>-122.24</td>\n",
       "    </tr>\n",
       "    <tr>\n",
       "      <th>3</th>\n",
       "      <td>5.6431</td>\n",
       "      <td>52.0</td>\n",
       "      <td>5.817352</td>\n",
       "      <td>1.073059</td>\n",
       "      <td>558.0</td>\n",
       "      <td>2.547945</td>\n",
       "      <td>37.85</td>\n",
       "      <td>-122.25</td>\n",
       "    </tr>\n",
       "    <tr>\n",
       "      <th>4</th>\n",
       "      <td>3.8462</td>\n",
       "      <td>52.0</td>\n",
       "      <td>6.281853</td>\n",
       "      <td>1.081081</td>\n",
       "      <td>565.0</td>\n",
       "      <td>2.181467</td>\n",
       "      <td>37.85</td>\n",
       "      <td>-122.25</td>\n",
       "    </tr>\n",
       "  </tbody>\n",
       "</table>\n",
       "</div>"
      ],
      "text/plain": [
       "   MedInc  HouseAge  AveRooms  AveBedrms  Population  AveOccup  Latitude  \\\n",
       "0  8.3252      41.0  6.984127   1.023810       322.0  2.555556     37.88   \n",
       "1  8.3014      21.0  6.238137   0.971880      2401.0  2.109842     37.86   \n",
       "2  7.2574      52.0  8.288136   1.073446       496.0  2.802260     37.85   \n",
       "3  5.6431      52.0  5.817352   1.073059       558.0  2.547945     37.85   \n",
       "4  3.8462      52.0  6.281853   1.081081       565.0  2.181467     37.85   \n",
       "\n",
       "   Longitude  \n",
       "0    -122.23  \n",
       "1    -122.22  \n",
       "2    -122.24  \n",
       "3    -122.25  \n",
       "4    -122.25  "
      ]
     },
     "execution_count": 3,
     "metadata": {},
     "output_type": "execute_result"
    }
   ],
   "source": [
    "X.head()"
   ]
  },
  {
   "cell_type": "markdown",
   "id": "4ee1fccf",
   "metadata": {
    "pycharm": {
     "name": "#%% md\n"
    }
   },
   "source": [
    "Para simplificar la visualización, vamos a transformar los precios del rango de cien mil dólares al rango de mil dólares."
   ]
  },
  {
   "cell_type": "code",
   "execution_count": 4,
   "id": "e5299b9e",
   "metadata": {
    "collapsed": false,
    "jupyter": {
     "outputs_hidden": false
    },
    "pycharm": {
     "name": "#%%\n"
    }
   },
   "outputs": [
    {
     "data": {
      "text/plain": [
       "0    452.6\n",
       "1    358.5\n",
       "2    352.1\n",
       "3    341.3\n",
       "4    342.2\n",
       "Name: MedHouseVal, dtype: float64"
      ]
     },
     "execution_count": 4,
     "metadata": {},
     "output_type": "execute_result"
    }
   ],
   "source": [
    "y *= 100\n",
    "y.head()"
   ]
  },
  {
   "cell_type": "markdown",
   "id": "54c3b0a6",
   "metadata": {
    "pycharm": {
     "name": "#%% md\n"
    }
   },
   "source": [
    "## Error de entrenamiento vs error de prueba"
   ]
  },
  {
   "cell_type": "markdown",
   "id": "44cf001c",
   "metadata": {},
   "source": [
    "Para resolver esta tarea de regresión usaremos un arbol de decisión de regresión."
   ]
  },
  {
   "cell_type": "code",
   "execution_count": 5,
   "id": "71f4ec6f",
   "metadata": {
    "collapsed": false,
    "jupyter": {
     "outputs_hidden": false
    },
    "pycharm": {
     "name": "#%%\n"
    }
   },
   "outputs": [
    {
     "data": {
      "text/plain": [
       "DecisionTreeRegressor(random_state=42)"
      ]
     },
     "execution_count": 5,
     "metadata": {},
     "output_type": "execute_result"
    }
   ],
   "source": [
    "from sklearn.tree import DecisionTreeRegressor\n",
    "\n",
    "regressor = DecisionTreeRegressor(random_state=42)\n",
    "regressor.fit(X, y)"
   ]
  },
  {
   "cell_type": "markdown",
   "id": "f438e302",
   "metadata": {
    "pycharm": {
     "name": "#%% md\n"
    }
   },
   "source": [
    "Después de entrenar el regresor, nos gustaría saber su potencial rendimiento de generalización una vez lo despleguemos en producción. Para ello, usaremos el error medio absoluto que nos proporciona un error en las mismas unidades del objetivo, es decir, en miles de dólares."
   ]
  },
  {
   "cell_type": "code",
   "execution_count": 6,
   "id": "80e9221c",
   "metadata": {
    "collapsed": false,
    "jupyter": {
     "outputs_hidden": false
    },
    "pycharm": {
     "name": "#%%\n"
    }
   },
   "outputs": [
    {
     "name": "stdout",
     "output_type": "stream",
     "text": [
      "De media, nuestro regresor comete un error de 0.00 k$\n"
     ]
    }
   ],
   "source": [
    "from sklearn.metrics import mean_absolute_error\n",
    "\n",
    "y_predicted = regressor.predict(X)\n",
    "score = mean_absolute_error(y, y_predicted)\n",
    "print(f\"De media, nuestro regresor comete un error de {score:.2f} k$\")"
   ]
  },
  {
   "cell_type": "markdown",
   "id": "cc21bcfc",
   "metadata": {
    "pycharm": {
     "name": "#%% md\n"
    }
   },
   "source": [
    "Obtenemos una predicción perfecta sin errores. Esto es demasiado optimista y casi siempre pone de manifiesto un problema metodológico cuando hacemos machine learning. De hecho, entrenamos y predecimos en el mismo dataset. Dado que nuestro árbol de decisión creció por completo, cada instancia del dataset está almacenada en un nodo hoja. Por tanto, nuestro árbol de decisión ha memorizado completamente el dataset durante el `fit` y, en consecuencia, no comete ningún error cuando predice.\n",
    "\n",
    "Este error calculado anteriormente se denomina **error empírico** o **error de entrenamiento**.\n",
    "\n",
    "Entrenamos un modelo predictivo para minimizar el error de entrenamiento pero nuestro objetivo es minimizar el error en los datos que no se han visto durante el entrenamiento. Este error se llama también **error de generalización** o el \"verdadero\" **error de prueba**.\n",
    "\n",
    "De esta forma, la evaluación más básica supone:\n",
    "\n",
    "+ dividir nuestro dataset en dos subconjuntos: un conjunto de entrenamiento y un conjunto de prueba;\n",
    "+ entrenar el modelo en el conjunto de entrenamiento;\n",
    "+ estimar el error de entrenamiento en el conjunto de entrenamiento;\n",
    "+ estimar el error de prueba en el conjunto de prueba.\n",
    "\n",
    "Vamos a dividir nuestro dataset."
   ]
  },
  {
   "cell_type": "code",
   "execution_count": 7,
   "id": "fba39455",
   "metadata": {
    "collapsed": false,
    "jupyter": {
     "outputs_hidden": false
    },
    "pycharm": {
     "name": "#%%\n"
    }
   },
   "outputs": [],
   "source": [
    "from sklearn.model_selection import train_test_split\n",
    "\n",
    "X_train, X_test, y_train, y_test = train_test_split(\n",
    "    X, y, random_state=42\n",
    ")"
   ]
  },
  {
   "cell_type": "markdown",
   "id": "9fbcb069",
   "metadata": {
    "pycharm": {
     "name": "#%% md\n"
    }
   },
   "source": [
    "Ahora lo entrenamos."
   ]
  },
  {
   "cell_type": "code",
   "execution_count": 8,
   "id": "0dfc2dc9",
   "metadata": {
    "collapsed": false,
    "jupyter": {
     "outputs_hidden": false
    },
    "pycharm": {
     "name": "#%%\n"
    }
   },
   "outputs": [
    {
     "data": {
      "text/plain": [
       "DecisionTreeRegressor(random_state=42)"
      ]
     },
     "execution_count": 8,
     "metadata": {},
     "output_type": "execute_result"
    }
   ],
   "source": [
    "regressor.fit(X_train, y_train)"
   ]
  },
  {
   "cell_type": "markdown",
   "id": "e5339ff4",
   "metadata": {
    "pycharm": {
     "name": "#%% md\n"
    }
   },
   "source": [
    "Finalmente, vamos a estimar los diferentes tipos de error. Empecemos calculando el error de entrenamiento."
   ]
  },
  {
   "cell_type": "code",
   "execution_count": 9,
   "id": "d16e418c",
   "metadata": {
    "collapsed": false,
    "jupyter": {
     "outputs_hidden": false
    },
    "pycharm": {
     "name": "#%%\n"
    }
   },
   "outputs": [
    {
     "name": "stdout",
     "output_type": "stream",
     "text": [
      "El error de entrenamiento de nuestro modelo es 0.00 k$\n"
     ]
    }
   ],
   "source": [
    "y_predicted = regressor.predict(X_train)\n",
    "score = mean_absolute_error(y_train, y_predicted)\n",
    "print(f\"El error de entrenamiento de nuestro modelo es {score:.2f} k$\")"
   ]
  },
  {
   "cell_type": "markdown",
   "id": "0c15d7aa",
   "metadata": {
    "pycharm": {
     "name": "#%% md\n"
    }
   },
   "source": [
    "Observamos el mismo fenómeno que anteriormente: nuestro modelo memoriza el conjunto de entrenamiento. Sin embargo, vamos a calcular el error de prueba."
   ]
  },
  {
   "cell_type": "code",
   "execution_count": 10,
   "id": "1eea288b",
   "metadata": {
    "collapsed": false,
    "jupyter": {
     "outputs_hidden": false
    },
    "pycharm": {
     "name": "#%%\n"
    }
   },
   "outputs": [
    {
     "name": "stdout",
     "output_type": "stream",
     "text": [
      "El error de prueba de nuestro modelo es 46.33 k$\n"
     ]
    }
   ],
   "source": [
    "y_predicted = regressor.predict(X_test)\n",
    "score = mean_absolute_error(y_test, y_predicted)\n",
    "print(f\"El error de prueba de nuestro modelo es {score:.2f} k$\")"
   ]
  },
  {
   "cell_type": "markdown",
   "id": "c1dab1d5",
   "metadata": {
    "pycharm": {
     "name": "#%% md\n"
    }
   },
   "source": [
    "Este es el error que realmente cabría esperar de nuestro modelo si lo pusiéramos en un entorno de producción."
   ]
  },
  {
   "cell_type": "markdown",
   "id": "29ed2d82",
   "metadata": {},
   "source": [
    "## Estabilidad de las estimaciones de validación cruzada"
   ]
  },
  {
   "cell_type": "markdown",
   "id": "a7236e73",
   "metadata": {
    "pycharm": {
     "name": "#%% md\n"
    }
   },
   "source": [
    "Cuando hacemos una única división entrenamiento-prueba no damos ninguna indicación de la robustez de la evaluación de nuestro modelo predictivo: en particular, si el conjunto de prueba es pequeño, esta estimación del error de prueba será inestable y podría no reflejar la \"verdadera tasa de error\" que observaríamos con el mismo modelo en una cantidad ilimitada de datos de prueba.\n",
    "\n",
    "Por ejemplo, podríamos haber tenido suerte cuando hicimos nuestra división aleatoria de nuestro limitado dataset y aislar algunos de los casos más fáciles de predecir del conjunto de prueba solo por casualidad: en este caso, la estimación del error de prueba sería demasiado optimista.\n",
    "\n",
    "La **validación cruzada** permite estimar la solidez de un modelo predictivo repitiendo el procedimiento de división. Proporcionará varios errores de entrenamiento y prueba y, por tanto, alguna estimación de la variabilidad del rendimiento de generalización del modelo.\n",
    "\n",
    "Existen diferentes [estrategias de validación cruzada](https://scikit-learn.org/stable/modules/cross_validation.html#cross-validation-iterators). Por el momento, nos centraremos en una llamada \"*shuffle-split*\". En cada iteración de esta estrategia:\n",
    "\n",
    "+ mezclamos aleatoriamente el orden de las instancias de una copia del dataset;\n",
    "+ dividimos el dataset mezclado en un conjunto de entrenamiento y uno de prueba;\n",
    "+ entrenamos un nuevo modelo en el conjunto de entrenamiento;\n",
    "+ evaluamos el error de prueba en el conjunto de prueba.\n",
    "\n",
    "Repetimos este procedimiento `n_splits` veces. Tengamos en mente que el coste computacional se incrementa con `n_splits`.\n",
    "\n",
    "![](images/cross_validation_shufflesplit.png)\n",
    "\n",
    "Este diagrama muestra el caso particular de la estrategia **shuffle-split** de validación cruzada usando `n_splits=5`. Por cada división de validación cruzada el procedimiento entrena un modelo en todos los ejemplo rojos y evalúa la puntuación del modelo en los ejemplos azules.\n",
    "\n",
    "En este caso estableceremos `n_splits=40`, lo que significa que entrenaremos 40 modelos en total y todos ellos serán descartados: solo registraremos el rendimiento de generalización de cada variante en el conjunto de prueba.\n",
    "\n",
    "Para evaluar el rendimiento de generalización de nuestro regresor podemos usar `sklearn.model_selection.cross_validate` con un objeto `sklearn.model_selection.ShuffleSplit`:"
   ]
  },
  {
   "cell_type": "code",
   "execution_count": 11,
   "id": "c2b7324c",
   "metadata": {
    "collapsed": false,
    "jupyter": {
     "outputs_hidden": false
    },
    "pycharm": {
     "name": "#%%\n"
    }
   },
   "outputs": [],
   "source": [
    "from sklearn.model_selection import  cross_validate, ShuffleSplit\n",
    "\n",
    "cv = ShuffleSplit(n_splits=40, test_size=0.3, random_state=42)\n",
    "cv_results = cross_validate(\n",
    "    regressor, X, y, cv=cv, scoring=\"neg_mean_absolute_error\"\n",
    ")"
   ]
  },
  {
   "cell_type": "code",
   "execution_count": 12,
   "id": "d29e69d0",
   "metadata": {
    "collapsed": false,
    "jupyter": {
     "outputs_hidden": false
    },
    "pycharm": {
     "name": "#%%\n"
    }
   },
   "outputs": [
    {
     "data": {
      "text/html": [
       "<div>\n",
       "<style scoped>\n",
       "    .dataframe tbody tr th:only-of-type {\n",
       "        vertical-align: middle;\n",
       "    }\n",
       "\n",
       "    .dataframe tbody tr th {\n",
       "        vertical-align: top;\n",
       "    }\n",
       "\n",
       "    .dataframe thead th {\n",
       "        text-align: right;\n",
       "    }\n",
       "</style>\n",
       "<table border=\"1\" class=\"dataframe\">\n",
       "  <thead>\n",
       "    <tr style=\"text-align: right;\">\n",
       "      <th></th>\n",
       "      <th>fit_time</th>\n",
       "      <th>score_time</th>\n",
       "      <th>test_score</th>\n",
       "    </tr>\n",
       "  </thead>\n",
       "  <tbody>\n",
       "    <tr>\n",
       "      <th>0</th>\n",
       "      <td>0.135116</td>\n",
       "      <td>0.003503</td>\n",
       "      <td>-47.329969</td>\n",
       "    </tr>\n",
       "    <tr>\n",
       "      <th>1</th>\n",
       "      <td>0.131113</td>\n",
       "      <td>0.003502</td>\n",
       "      <td>-45.871795</td>\n",
       "    </tr>\n",
       "    <tr>\n",
       "      <th>2</th>\n",
       "      <td>0.132114</td>\n",
       "      <td>0.003503</td>\n",
       "      <td>-46.721323</td>\n",
       "    </tr>\n",
       "    <tr>\n",
       "      <th>3</th>\n",
       "      <td>0.131615</td>\n",
       "      <td>0.003001</td>\n",
       "      <td>-46.637444</td>\n",
       "    </tr>\n",
       "    <tr>\n",
       "      <th>4</th>\n",
       "      <td>0.128611</td>\n",
       "      <td>0.003002</td>\n",
       "      <td>-46.978982</td>\n",
       "    </tr>\n",
       "  </tbody>\n",
       "</table>\n",
       "</div>"
      ],
      "text/plain": [
       "   fit_time  score_time  test_score\n",
       "0  0.135116    0.003503  -47.329969\n",
       "1  0.131113    0.003502  -45.871795\n",
       "2  0.132114    0.003503  -46.721323\n",
       "3  0.131615    0.003001  -46.637444\n",
       "4  0.128611    0.003002  -46.978982"
      ]
     },
     "execution_count": 12,
     "metadata": {},
     "output_type": "execute_result"
    }
   ],
   "source": [
    "import pandas as pd\n",
    "\n",
    "cv_results = pd.DataFrame(cv_results)\n",
    "cv_results.head()"
   ]
  },
  {
   "cell_type": "markdown",
   "id": "bda64fda",
   "metadata": {
    "pycharm": {
     "name": "#%% md\n"
    }
   },
   "source": [
    "Una puntuación es una métrica donde cuanto más grande sea su valor mejores resultados. Por el contrario, un error es una métrica donde cuanto más pequeño sea su valor mejores resultados. El parámetro `scoring` in `cross_validate` siempre esepra una función que es una puntuación.\n",
    "\n",
    "Para hacerlo fácil, todas las métricas de errores en scikit-learn, como `mean_absolute_error`, se pueden transformar en una puntuación para ser usadas en `cross_validate`. Para hacerlo necesitamos pasar el nombre de la métrica de error con el prefijo `neg_`. Por ejemplo, `scoring=\"neg_mean_absolute_error\"`. En este caso, el negativo del error medio absoluto calculado equivaldría a una puntuación.\n",
    "\n",
    "Vamos a revertir la negación para obtener el error real:"
   ]
  },
  {
   "cell_type": "code",
   "execution_count": 13,
   "id": "9f02cce3",
   "metadata": {
    "collapsed": false,
    "jupyter": {
     "outputs_hidden": false
    },
    "pycharm": {
     "name": "#%%\n"
    }
   },
   "outputs": [
    {
     "data": {
      "text/html": [
       "<div>\n",
       "<style scoped>\n",
       "    .dataframe tbody tr th:only-of-type {\n",
       "        vertical-align: middle;\n",
       "    }\n",
       "\n",
       "    .dataframe tbody tr th {\n",
       "        vertical-align: top;\n",
       "    }\n",
       "\n",
       "    .dataframe thead th {\n",
       "        text-align: right;\n",
       "    }\n",
       "</style>\n",
       "<table border=\"1\" class=\"dataframe\">\n",
       "  <thead>\n",
       "    <tr style=\"text-align: right;\">\n",
       "      <th></th>\n",
       "      <th>fit_time</th>\n",
       "      <th>score_time</th>\n",
       "      <th>test_score</th>\n",
       "      <th>test_error</th>\n",
       "    </tr>\n",
       "  </thead>\n",
       "  <tbody>\n",
       "    <tr>\n",
       "      <th>0</th>\n",
       "      <td>0.135116</td>\n",
       "      <td>0.003503</td>\n",
       "      <td>-47.329969</td>\n",
       "      <td>47.329969</td>\n",
       "    </tr>\n",
       "    <tr>\n",
       "      <th>1</th>\n",
       "      <td>0.131113</td>\n",
       "      <td>0.003502</td>\n",
       "      <td>-45.871795</td>\n",
       "      <td>45.871795</td>\n",
       "    </tr>\n",
       "    <tr>\n",
       "      <th>2</th>\n",
       "      <td>0.132114</td>\n",
       "      <td>0.003503</td>\n",
       "      <td>-46.721323</td>\n",
       "      <td>46.721323</td>\n",
       "    </tr>\n",
       "    <tr>\n",
       "      <th>3</th>\n",
       "      <td>0.131615</td>\n",
       "      <td>0.003001</td>\n",
       "      <td>-46.637444</td>\n",
       "      <td>46.637444</td>\n",
       "    </tr>\n",
       "    <tr>\n",
       "      <th>4</th>\n",
       "      <td>0.128611</td>\n",
       "      <td>0.003002</td>\n",
       "      <td>-46.978982</td>\n",
       "      <td>46.978982</td>\n",
       "    </tr>\n",
       "    <tr>\n",
       "      <th>5</th>\n",
       "      <td>0.132614</td>\n",
       "      <td>0.003503</td>\n",
       "      <td>-45.130082</td>\n",
       "      <td>45.130082</td>\n",
       "    </tr>\n",
       "    <tr>\n",
       "      <th>6</th>\n",
       "      <td>0.131113</td>\n",
       "      <td>0.003503</td>\n",
       "      <td>-47.191726</td>\n",
       "      <td>47.191726</td>\n",
       "    </tr>\n",
       "    <tr>\n",
       "      <th>7</th>\n",
       "      <td>0.131613</td>\n",
       "      <td>0.003504</td>\n",
       "      <td>-45.808697</td>\n",
       "      <td>45.808697</td>\n",
       "    </tr>\n",
       "    <tr>\n",
       "      <th>8</th>\n",
       "      <td>0.132113</td>\n",
       "      <td>0.003503</td>\n",
       "      <td>-45.814624</td>\n",
       "      <td>45.814624</td>\n",
       "    </tr>\n",
       "    <tr>\n",
       "      <th>9</th>\n",
       "      <td>0.133615</td>\n",
       "      <td>0.003503</td>\n",
       "      <td>-46.106001</td>\n",
       "      <td>46.106001</td>\n",
       "    </tr>\n",
       "  </tbody>\n",
       "</table>\n",
       "</div>"
      ],
      "text/plain": [
       "   fit_time  score_time  test_score  test_error\n",
       "0  0.135116    0.003503  -47.329969   47.329969\n",
       "1  0.131113    0.003502  -45.871795   45.871795\n",
       "2  0.132114    0.003503  -46.721323   46.721323\n",
       "3  0.131615    0.003001  -46.637444   46.637444\n",
       "4  0.128611    0.003002  -46.978982   46.978982\n",
       "5  0.132614    0.003503  -45.130082   45.130082\n",
       "6  0.131113    0.003503  -47.191726   47.191726\n",
       "7  0.131613    0.003504  -45.808697   45.808697\n",
       "8  0.132113    0.003503  -45.814624   45.814624\n",
       "9  0.133615    0.003503  -46.106001   46.106001"
      ]
     },
     "execution_count": 13,
     "metadata": {},
     "output_type": "execute_result"
    }
   ],
   "source": [
    "cv_results[\"test_error\"] = -cv_results[\"test_score\"]\n",
    "cv_results.head(10)"
   ]
  },
  {
   "cell_type": "markdown",
   "id": "6a78e7be",
   "metadata": {
    "pycharm": {
     "name": "#%% md\n"
    }
   },
   "source": [
    "Obtenemos información del tiempo de entrenamiento y predicción de cada iteración de validación cruzada. También obtenemos la puntuación de prueba que corresponde al error de prueba de cada división."
   ]
  },
  {
   "cell_type": "code",
   "execution_count": 14,
   "id": "2c4ebb09",
   "metadata": {
    "collapsed": false,
    "jupyter": {
     "outputs_hidden": false
    },
    "pycharm": {
     "name": "#%%\n"
    }
   },
   "outputs": [
    {
     "data": {
      "text/plain": [
       "40"
      ]
     },
     "execution_count": 14,
     "metadata": {},
     "output_type": "execute_result"
    }
   ],
   "source": [
    "len(cv_results)"
   ]
  },
  {
   "cell_type": "markdown",
   "id": "5b320d3c",
   "metadata": {
    "pycharm": {
     "name": "#%% md\n"
    }
   },
   "source": [
    "Obtenemos 40 entradas en nuestro dataframe resultante debido a las 40 divisiones realizadas. Por lo tanto, podemos mostrar la distribución del error de prueba y, así, tener una estimación de su variabilidad."
   ]
  },
  {
   "cell_type": "code",
   "execution_count": 15,
   "id": "dbdc64d7",
   "metadata": {
    "collapsed": false,
    "jupyter": {
     "outputs_hidden": false
    },
    "pycharm": {
     "name": "#%%\n"
    }
   },
   "outputs": [
    {
     "data": {
      "image/png": "[encoded data removed]",
      "text/plain": [
       "<Figure size 432x288 with 1 Axes>"
      ]
     },
     "metadata": {
      "needs_background": "light"
     },
     "output_type": "display_data"
    }
   ],
   "source": [
    "import matplotlib.pyplot as plt\n",
    "\n",
    "cv_results[\"test_error\"].plot.hist(bins=10, edgecolor=\"black\")\n",
    "plt.xlabel(\"Error medio absoluto (k$)\")\n",
    "_ = plt.title(\"Distribución del error de prueba\")"
   ]
  },
  {
   "cell_type": "markdown",
   "id": "a06bc0a7",
   "metadata": {
    "pycharm": {
     "name": "#%% md\n"
    }
   },
   "source": [
    "Observamos que el error de prueba se agrupa en torno a 47 k y un rango de entre 45 k y 48.5 k."
   ]
  },
  {
   "cell_type": "code",
   "execution_count": 16,
   "id": "716dffec",
   "metadata": {
    "collapsed": false,
    "jupyter": {
     "outputs_hidden": false
    },
    "pycharm": {
     "name": "#%%\n"
    }
   },
   "outputs": [
    {
     "name": "stdout",
     "output_type": "stream",
     "text": [
      "El error medio de validación cruzada es: 46.53 k$\n"
     ]
    }
   ],
   "source": [
    "print(f\"El error medio de validación cruzada es: \"\n",
    "      f\"{cv_results['test_error'].mean():.2f} k$\")"
   ]
  },
  {
   "cell_type": "code",
   "execution_count": 17,
   "id": "dd61d71c",
   "metadata": {
    "collapsed": false,
    "jupyter": {
     "outputs_hidden": false
    },
    "pycharm": {
     "name": "#%%\n"
    }
   },
   "outputs": [
    {
     "name": "stdout",
     "output_type": "stream",
     "text": [
      "La desviación típica de validación cruzada es: 0.83 k$\n"
     ]
    }
   ],
   "source": [
    "print(f\"La desviación típica de validación cruzada es: \"\n",
    "      f\"{cv_results['test_error'].std():.2f} k$\")"
   ]
  },
  {
   "cell_type": "markdown",
   "id": "91293be2",
   "metadata": {
    "pycharm": {
     "name": "#%% md\n"
    }
   },
   "source": [
    "Observemos que la desviación típica es mucho más pequeña que la media. Podemos resumirlo como que nuestra estimación de validación cruzada del error de prueba es de 46.53 +/- 0.83 k$. Si tuviéramos que entrenar un único modelo en el dataset completo (sin validación cruzada) y luego después tuviéramos acceso a una cantidad ilimitada de datos de prueba, cabría esperar que el error de prueba verdadero cayera dentro de esa región.\n",
    "\n",
    "Aunque esta información es interesante por sí misma, debería ser contrastada con la escala de la variabilidad natural del vector `objetivo` de nuestro dataset. Vamos a dibujar la distribución de esta variable objetivo:"
   ]
  },
  {
   "cell_type": "code",
   "execution_count": 18,
   "id": "eaf27d01",
   "metadata": {
    "collapsed": false,
    "jupyter": {
     "outputs_hidden": false
    },
    "pycharm": {
     "name": "#%%\n"
    }
   },
   "outputs": [
    {
     "data": {
      "image/png": "[encoded data removed]",
      "text/plain": [
       "<Figure size 432x288 with 1 Axes>"
      ]
     },
     "metadata": {
      "needs_background": "light"
     },
     "output_type": "display_data"
    }
   ],
   "source": [
    "y.plot.hist(bins=20, edgecolor=\"black\")\n",
    "plt.xlabel(\"Valor medio de la vivienda (k$)\")\n",
    "_ = plt.title(\"Distribución del objetivo\")"
   ]
  },
  {
   "cell_type": "code",
   "execution_count": 19,
   "id": "2e7d0a62",
   "metadata": {
    "collapsed": false,
    "jupyter": {
     "outputs_hidden": false
    },
    "pycharm": {
     "name": "#%%\n"
    }
   },
   "outputs": [
    {
     "name": "stdout",
     "output_type": "stream",
     "text": [
      "La desviación típica del objetivo es: 115.40 k$\n"
     ]
    }
   ],
   "source": [
    "print(f\"La desviación típica del objetivo es: {y.std():.2f} k$\")"
   ]
  },
  {
   "cell_type": "markdown",
   "id": "a7dd648e",
   "metadata": {
    "pycharm": {
     "name": "#%% md\n"
    }
   },
   "source": [
    "El rango de la variable objetivo varía desde cercano a 0 hasta 500, con una desviación típica de 115. Remarquemos que la media estimada del error de prueba obtenido por validación cruzada es un poco más pequeño que la escala natural de variación de la variable objetivo. Además, la desviación típica de la validación cruzada estimada del error de prueba es incluso más pequeña. Esto es un buen comienzo, pero no necesariamente suficiente para decidir si el rendimiento de generalización es suficientemente bueno para que nuestra predicción sea útil en la práctica.\n",
    "\n",
    "Recordemos que nuestro modelo tiene, de media, un error de alrededor de 47 k. Con esta información y mirando la distribución del objetivo, tal error podría ser aceptable cuando predecimos viviendas con un valor de 500 k. Sin embargo, sería un problema con una vivienda con un valor de 50 k. Por tanto, esto indica que nuestra métrica (Error Absoluto Medio) no es ideal.\n",
    "\n",
    "En su lugar podríamos elegir una métrica relativa al valor del objetivo a predecir: el error porcentual absoluto medio habría sido una mejor opción. Pero en todos los casos, un error de 47 k podría ser demasiado grande para usar automáticamente nuestro modelo para etiquetar viviendas sin la supervisión de un experto.\n",
    "\n",
    "## Más detalles sobre `cross_validate`\n",
    "\n",
    "Durante la validación cruzada, se entrenan y evalúan muchos modelos. De hecho, el número de elementos de cada matriz de salida de `cross_validate` es el resultado de uno de estos procedimientos `fit` / `score`. Para hacer explícito, es posible recuperar estos modelos entrenados para cada una de las divisiones/particiones pasando la opción `return_estimator=True` en `cross_validate`."
   ]
  },
  {
   "cell_type": "code",
   "execution_count": 20,
   "id": "481439b2",
   "metadata": {
    "collapsed": false,
    "jupyter": {
     "outputs_hidden": false
    },
    "pycharm": {
     "name": "#%%\n"
    }
   },
   "outputs": [
    {
     "data": {
      "text/plain": [
       "{'fit_time': array([0.15363216, 0.15012908, 0.15063   , 0.15063   , 0.14562511]),\n",
       " 'score_time': array([0.00250292, 0.00250196, 0.00250196, 0.00250268, 0.00250244]),\n",
       " 'estimator': (DecisionTreeRegressor(random_state=42),\n",
       "  DecisionTreeRegressor(random_state=42),\n",
       "  DecisionTreeRegressor(random_state=42),\n",
       "  DecisionTreeRegressor(random_state=42),\n",
       "  DecisionTreeRegressor(random_state=42)),\n",
       " 'test_score': array([0.28326244, 0.4226389 , 0.45552292, 0.23727262, 0.41430376])}"
      ]
     },
     "execution_count": 20,
     "metadata": {},
     "output_type": "execute_result"
    }
   ],
   "source": [
    "cv_results = cross_validate(regressor, X, y, return_estimator=True)\n",
    "cv_results"
   ]
  },
  {
   "cell_type": "code",
   "execution_count": 21,
   "id": "210330fd",
   "metadata": {
    "collapsed": false,
    "jupyter": {
     "outputs_hidden": false
    },
    "pycharm": {
     "name": "#%%\n"
    }
   },
   "outputs": [
    {
     "data": {
      "text/plain": [
       "(DecisionTreeRegressor(random_state=42),\n",
       " DecisionTreeRegressor(random_state=42),\n",
       " DecisionTreeRegressor(random_state=42),\n",
       " DecisionTreeRegressor(random_state=42),\n",
       " DecisionTreeRegressor(random_state=42))"
      ]
     },
     "execution_count": 21,
     "metadata": {},
     "output_type": "execute_result"
    }
   ],
   "source": [
    "cv_results[\"estimator\"]"
   ]
  },
  {
   "cell_type": "markdown",
   "id": "e5bfd254",
   "metadata": {
    "pycharm": {
     "name": "#%% md\n"
    }
   },
   "source": [
    "Los cinco regresores de árbol de decisión corresponden a los cinco árboles de decisión entrenados en las diferentes particiones. Tener acceso a estos regresores es útil porque permite inspeccionar los parametros entrenados internos de estos regresores.\n",
    "\n",
    "En el caso de solo estemos interesados en la puntuación de prueba, scikit-learn provee una función `cross_val_score`. Es idéntica a llamar a la función `cross_validate` y seleccionar solo `test_score`."
   ]
  },
  {
   "cell_type": "code",
   "execution_count": 22,
   "id": "5b18ee88",
   "metadata": {
    "collapsed": false,
    "jupyter": {
     "outputs_hidden": false
    },
    "pycharm": {
     "name": "#%%\n"
    }
   },
   "outputs": [
    {
     "data": {
      "text/plain": [
       "array([0.28326244, 0.4226389 , 0.45552292, 0.23727262, 0.41430376])"
      ]
     },
     "execution_count": 22,
     "metadata": {},
     "output_type": "execute_result"
    }
   ],
   "source": [
    "from sklearn.model_selection import cross_val_score\n",
    "\n",
    "scores = cross_val_score(regressor, X, y)\n",
    "scores"
   ]
  },
  {
   "cell_type": "markdown",
   "id": "d7b28c8c-0060-4084-b43a-adc3a7f302b6",
   "metadata": {
    "jupyter": {
     "outputs_hidden": false
    },
    "pycharm": {
     "name": "#%% md\n"
    }
   },
   "source": [
    "# Overfit-generalización-underfit"
   ]
  },
  {
   "cell_type": "markdown",
   "id": "b445c782-4c06-49aa-bb5c-da787eb95350",
   "metadata": {},
   "source": [
    "Anteriormente presentamos el frameword de validación cruzada general y cómo nos ayuda e cuantificar los errores de entrenamiento y prueba así como sus fluctuaciones.\n",
    "\n",
    "Ahora pondremos estos errores en perspectiva y mostraremos cómo nos pueden ayudar a saber si nuestro modelo generaliza, se produce overfitting o underfitting.\n",
    "\n",
    "Usaremos de nuevo el mismo dataset y crearemos el mismo modelo que anteriormente."
   ]
  },
  {
   "cell_type": "code",
   "execution_count": 23,
   "id": "38383693",
   "metadata": {
    "collapsed": false,
    "jupyter": {
     "outputs_hidden": false
    },
    "pycharm": {
     "name": "#%%\n"
    }
   },
   "outputs": [],
   "source": [
    "housing = fetch_california_housing(as_frame=True)\n",
    "X, y = housing.data.copy(), housing.target.copy()\n",
    "y *= 100"
   ]
  },
  {
   "cell_type": "code",
   "execution_count": 24,
   "id": "fd0e8963",
   "metadata": {
    "collapsed": false,
    "jupyter": {
     "outputs_hidden": false
    },
    "pycharm": {
     "name": "#%%\n"
    }
   },
   "outputs": [],
   "source": [
    "regressor = DecisionTreeRegressor()"
   ]
  },
  {
   "cell_type": "markdown",
   "id": "255078b9",
   "metadata": {
    "pycharm": {
     "name": "#%% md\n"
    }
   },
   "source": [
    "## Overfittin vs underfitting\n",
    "\n",
    "Para comprender mejor el rendimiento de generalización de nuestro modelo y encontrar quizás alguna percepción de cómo mejorarlo, compararemos el error de prueba con el error de entrenamiento. Por tanto, necesitamos calcular el error en el conjunto de entrenamiento, lo cual es posible utilizando la función `cross_validate`."
   ]
  },
  {
   "cell_type": "code",
   "execution_count": 25,
   "id": "dbab07dd",
   "metadata": {
    "collapsed": false,
    "jupyter": {
     "outputs_hidden": false
    },
    "pycharm": {
     "name": "#%%\n"
    }
   },
   "outputs": [],
   "source": [
    "cv = ShuffleSplit(n_splits=30, test_size=0.3, random_state=42)\n",
    "cv_results = cross_validate(regressor, X, y,\n",
    "                            cv=cv, scoring=\"neg_mean_absolute_error\",\n",
    "                            return_train_score=True, n_jobs=-1\n",
    ")\n",
    "cv_results = pd.DataFrame(cv_results)"
   ]
  },
  {
   "cell_type": "markdown",
   "id": "0dda65e7",
   "metadata": {
    "pycharm": {
     "name": "#%% md\n"
    }
   },
   "source": [
    "La validación cruzada usa el error absoluto medio negativo. Lo transformamos a positivo:"
   ]
  },
  {
   "cell_type": "code",
   "execution_count": 26,
   "id": "185c06cf",
   "metadata": {
    "collapsed": false,
    "jupyter": {
     "outputs_hidden": false
    },
    "pycharm": {
     "name": "#%%\n"
    }
   },
   "outputs": [],
   "source": [
    "scores = pd.DataFrame()\n",
    "scores[[\"train_error\", \"test_error\"]] = -cv_results[\n",
    "    [\"train_score\", \"test_score\"]\n",
    "]"
   ]
  },
  {
   "cell_type": "code",
   "execution_count": 27,
   "id": "34a34796",
   "metadata": {
    "collapsed": false,
    "jupyter": {
     "outputs_hidden": false
    },
    "pycharm": {
     "name": "#%%\n"
    }
   },
   "outputs": [
    {
     "data": {
      "image/png": "[encoded data removed]",
      "text/plain": [
       "<Figure size 432x288 with 1 Axes>"
      ]
     },
     "metadata": {
      "needs_background": "light"
     },
     "output_type": "display_data"
    }
   ],
   "source": [
    "scores.plot.hist(bins=50, edgecolor=\"black\")\n",
    "plt.xlabel(\"Error absoluto medio (k$)\")\n",
    "_ = plt.title(\"Distribución errores entrenamiento y prueba via validación cruzada\")"
   ]
  },
  {
   "cell_type": "markdown",
   "id": "a8c0b7f0",
   "metadata": {
    "pycharm": {
     "name": "#%% md\n"
    }
   },
   "source": [
    "Al dibujar la distribución de los errores de entrenamiento y prueba, obtenemos información sobre si en nuestro modelo se produce overfitting, underfitting o ambos a la vez.\n",
    "\n",
    "Aquí observamos un **pequeño error de entrenamiento** (realmente cero), lo que significa que el modelo **no realiza underfitting**: es los suficientemente flexible para capturar cualquier variación presente en el conjunto de entrenamiento. Sin embargo, el **significativamente grande error de prueba** nos dice que sí existe overfitting: el modelo ha memorizado muchas variaciones del conjunto de entrenamiento que podrían considerarse \"ruidosas\" porque no generalizan para ayudarnos a realizar una buena predicción en el conjunto de prueba.\n",
    "\n",
    "## Curva de validación\n",
    "\n",
    "Algunos hiperparámetros del modelo suelen ser la clave para evolucionar de un modelo que realiza underfitting a un modelo que hace overfitting, con suerte pasando por una región donde podemos obtener un buen equilibrio entre los dos. Podemos adquirir conocimiento dibujando un curva llamada **curva de validación**. Esta curva también se puede aplicar al ejemplo anterior para variar el valor de un hiperparámetro.\n",
    "\n",
    "Para un árbol de decisión, el paramétro `max_depth` se usa para controlar el equilibrio entre underfitting y overfitting."
   ]
  },
  {
   "cell_type": "code",
   "execution_count": 28,
   "id": "3e13c7dd",
   "metadata": {
    "collapsed": false,
    "jupyter": {
     "outputs_hidden": false
    },
    "pycharm": {
     "name": "#%%\n"
    }
   },
   "outputs": [
    {
     "name": "stdout",
     "output_type": "stream",
     "text": [
      "Wall time: 1.86 s\n"
     ]
    }
   ],
   "source": [
    "%%time\n",
    "from sklearn.model_selection import validation_curve\n",
    "\n",
    "max_depth = [1, 5, 10, 15, 20, 25]\n",
    "train_scores, test_scores = validation_curve(\n",
    "    regressor, X, y, param_name=\"max_depth\", param_range=max_depth,\n",
    "    cv=cv, scoring=\"neg_mean_absolute_error\", n_jobs=-1\n",
    ")\n",
    "train_errors, test_errors = -train_scores, -test_scores"
   ]
  },
  {
   "cell_type": "markdown",
   "id": "17fc82fb",
   "metadata": {
    "pycharm": {
     "name": "#%% md\n"
    }
   },
   "source": [
    "Ahora que hemos coleccionado los resultados mostraremos la curva de validación dibujando los errores de entrenamiento y prueba (así como sus desviaciones)."
   ]
  },
  {
   "cell_type": "code",
   "execution_count": 29,
   "id": "43825c14",
   "metadata": {
    "collapsed": false,
    "jupyter": {
     "outputs_hidden": false
    },
    "pycharm": {
     "name": "#%%\n"
    }
   },
   "outputs": [
    {
     "data": {
      "image/png": "[encoded data removed]",
      "text/plain": [
       "<Figure size 432x288 with 1 Axes>"
      ]
     },
     "metadata": {
      "needs_background": "light"
     },
     "output_type": "display_data"
    }
   ],
   "source": [
    "plt.plot(max_depth, train_errors.mean(axis=1), label=\"Error entrenamiento\")\n",
    "plt.plot(max_depth, test_errors.mean(axis=1), label=\"Error prueba\")\n",
    "plt.legend()\n",
    "\n",
    "plt.xlabel(\"Máxima profundidad del árbol de decisión\")\n",
    "plt.ylabel(\"Error absoluto medio (k$)\")\n",
    "_ = plt.title(\"Curva de decisión para el árbol de decisión\")"
   ]
  },
  {
   "cell_type": "markdown",
   "id": "553bf520",
   "metadata": {
    "pycharm": {
     "name": "#%% md\n"
    }
   },
   "source": [
    "La curva de validación se puede dividir en 3 zonas:\n",
    "\n",
    "+ Para `max_depth < 10`, el árbol de decisión produce underfitting. Tanto el error de entrenamiento como el de prueba son altos. El modelo es demasiado restrictivo y no puede capturar muchas de la variabilidad de la variable objetivo.\n",
    "\n",
    "+ La región alrededor de `max_depth = 10` corresponde con el parámetro para el cual el árbol de decisión generaliza mejor. Es lo suficientemente flexible para capturar una fracción de la variabilidad del objetivo que se generaliza, mientras que no memoriza todo el ruido en el objetivo.\n",
    "\n",
    "+ Para `max_depth > 10`, el árbol de decisión produce overfitting. El error de entrenamiento se convierte en muy pequeño, mientras que el error de prueba incrementa. En esta región, los modelos crean decisiones específicamente para muestras ruidosas que dañan su capacidad para generalizar a los datos de prueba.\n",
    "\n",
    "Observemos que para `max_depth = 10` el modelo produce un poco de overfitting ya que hay una brecha entre el error de entrenamiento y el error de prueba. Al mismo tiempo también produce underfitting ya que el error de entrenamiento aún está lejos de cero (más de 30 k), lo que significa que el modelo aún podría estar limitado para modelar partes interesantes de los datos. Sin embargo, el error de prueba es mínimo y esto es lo que realmente inmporta. Este es el mejor compromiso que podemos alcanzar ajustando únicamente este hiperparámetro.\n",
    "\n",
    "Tengamos en cuenta que mirar los errores medios es bastante limitante. También debemos observar la desviación típica para comprobar la dispersión de la puntuación. Podemos repetir el mismo gráfico de antes, pero añadiendo alguna información para mostrar también la desviación típica de los errores."
   ]
  },
  {
   "cell_type": "code",
   "execution_count": 30,
   "id": "56cdc847",
   "metadata": {
    "collapsed": false,
    "jupyter": {
     "outputs_hidden": false
    },
    "pycharm": {
     "name": "#%%\n"
    }
   },
   "outputs": [
    {
     "data": {
      "image/png": "[encoded data removed]",
      "text/plain": [
       "<Figure size 432x288 with 1 Axes>"
      ]
     },
     "metadata": {
      "needs_background": "light"
     },
     "output_type": "display_data"
    }
   ],
   "source": [
    "plt.errorbar(max_depth, train_errors.mean(axis=1),\n",
    "             yerr=train_errors.std(axis=1), label=\"Error entrenamiento\")\n",
    "plt.errorbar(max_depth, test_errors.mean(axis=1),\n",
    "             yerr=test_errors.std(axis=1), label=\"Error prueba\")\n",
    "plt.legend()\n",
    "\n",
    "plt.xlabel(\"Máxima profundidad del árbol de decisión\")\n",
    "plt.ylabel(\"Error absoluto medio (k$)\")\n",
    "_ = plt.title(\"Curva de decisión para el árbol de decisión\")"
   ]
  },
  {
   "cell_type": "markdown",
   "id": "39c769ac",
   "metadata": {
    "pycharm": {
     "name": "#%% md\n"
    }
   },
   "source": [
    "Tuvimos suerte de que la varianza de los errores fuera pequeña en comparación con sus respectivos valores, por tanto las conclusiones anteriores son claras, aunque esto no es necesariamente siempre el caso."
   ]
  },
  {
   "cell_type": "markdown",
   "id": "5ae43209",
   "metadata": {
    "pycharm": {
     "name": "#%% md\n"
    }
   },
   "source": [
    "# Efecto del tamaño de la muestra en la validación cruzada\n",
    "\n",
    "Hemos visto anteriormente el framework de validación cruzada general y cómo evaluar si en un modelo se produce underfitting, overfitting o generalización. Además de estos aspectos, también es importante comprender cómo los diferentes errores se ven influenciados por el número de muestras disponibles. Vamos a mostrar este aspecto al observar la variablidad de los diferentes errores.\n",
    "\n",
    "Partimos del mismo dataset y modelo que teníamos anteriormente (`X`, `y` y `regressor`)\n",
    "\n",
    "## Curva de aprendizaje\n",
    "\n",
    "Para comprender el impacto del número de muestras disponibles para entrenamiento en el rendimiento de generalización de un modelo predictivo, es posible reducir sintéticamente el número de muestras usadas para entrenar el modelo predictivo y verificar los errores de entrenamiento y prueba.\n",
    "\n",
    "Por tanto, podemos variar el número de muestras del conjunto de entrenamiento y repetir el entrenamiento. Las puntuaciones de entrenamiento y prueba de pueden dibujar de forma similar a la curva de validación, pero en lugar de variar un hiperparámetro, variamos el número de muestra de entrenamiento. Esta curva se llama **curva de aprendizaje**. Proporciona información sobre el beneficio de añadir nuevas muestras de entrenamiento para mejorar el rendimiento de generalización de un modelo.\n",
    "\n",
    "Vamos a calcular la curva de aprendizaje de un árbol de decisión y a variar la proporción del conjunto de entrenamiento del 10% al 100%."
   ]
  },
  {
   "cell_type": "code",
   "execution_count": 31,
   "id": "b2ed0e9c",
   "metadata": {
    "collapsed": false,
    "jupyter": {
     "outputs_hidden": false
    },
    "pycharm": {
     "name": "#%%\n"
    }
   },
   "outputs": [
    {
     "data": {
      "text/plain": [
       "array([0.1  , 0.325, 0.55 , 0.775, 1.   ])"
      ]
     },
     "execution_count": 31,
     "metadata": {},
     "output_type": "execute_result"
    }
   ],
   "source": [
    "import numpy as np\n",
    "\n",
    "train_sizes = np.linspace(0.1, 1.0, num=5, endpoint=True)\n",
    "train_sizes"
   ]
  },
  {
   "cell_type": "markdown",
   "id": "3c0750b1",
   "metadata": {
    "pycharm": {
     "name": "#%% md\n"
    }
   },
   "source": [
    "Usaremos `ShuffleSplit` de validación cruzada para evaluar nuestro modelo predictivo."
   ]
  },
  {
   "cell_type": "code",
   "execution_count": 32,
   "id": "6a5be2a9",
   "metadata": {
    "collapsed": false,
    "jupyter": {
     "outputs_hidden": false
    },
    "pycharm": {
     "name": "#%%\n"
    }
   },
   "outputs": [],
   "source": [
    "cv = ShuffleSplit(n_splits=30, test_size=0.2)"
   ]
  },
  {
   "cell_type": "markdown",
   "id": "c3899e3f",
   "metadata": {
    "pycharm": {
     "name": "#%% md\n"
    }
   },
   "source": [
    "Ahora ya tenemos todo configurado para comenzar el experimento."
   ]
  },
  {
   "cell_type": "code",
   "execution_count": 33,
   "id": "1de4eb42",
   "metadata": {
    "collapsed": false,
    "jupyter": {
     "outputs_hidden": false
    },
    "pycharm": {
     "name": "#%%\n"
    }
   },
   "outputs": [],
   "source": [
    "from sklearn.model_selection import learning_curve\n",
    "\n",
    "results = learning_curve(\n",
    "    regressor, X, y, train_sizes=train_sizes, cv=cv,\n",
    "    scoring=\"neg_mean_absolute_error\", n_jobs=-1\n",
    ")\n",
    "train_size, train_scores, test_scores = results[:3]\n",
    "# Convierte las puntuaciones en errores\n",
    "train_errors, test_errors = -train_scores, -test_scores"
   ]
  },
  {
   "cell_type": "code",
   "execution_count": 34,
   "id": "4391d9cb",
   "metadata": {
    "collapsed": false,
    "jupyter": {
     "outputs_hidden": false
    },
    "pycharm": {
     "name": "#%%\n"
    }
   },
   "outputs": [
    {
     "data": {
      "image/png": "[encoded data removed]",
      "text/plain": [
       "<Figure size 432x288 with 1 Axes>"
      ]
     },
     "metadata": {
      "needs_background": "light"
     },
     "output_type": "display_data"
    }
   ],
   "source": [
    "plt.errorbar(train_size, train_errors.mean(axis=1),\n",
    "             yerr=train_errors.std(axis=1), label=\"Error entrenamiento\")\n",
    "plt.errorbar(train_size, test_errors.mean(axis=1),\n",
    "             yerr=test_errors.std(axis=1), label=\"Error prueba\")\n",
    "plt.legend()\n",
    "\n",
    "plt.xscale(\"log\")\n",
    "plt.xlabel(\"Nº de muestras en el conjunto entrenamiento\")\n",
    "plt.ylabel(\"Error absoluto medio (k$)\")\n",
    "_ = plt.title(\"Curva de aprendizaje para el árbol de decisión\")"
   ]
  },
  {
   "cell_type": "markdown",
   "id": "5ba88ef8",
   "metadata": {
    "pycharm": {
     "name": "#%% md\n"
    }
   },
   "source": [
    "Observando por separado el error de entrenamiento, vemos que obtenemos un error de 0 k. Lo que significa que en el modelo produce claramente overfitting de los datos de entrenamiento.\n",
    "\n",
    "Observando por separado el error de prueba, vemos que cuantas más muestras se añaden al conjunto de entrenamiento, menor es el error de prueba. Además, estamos buscando la meseta del error de prueba para la cual ya no existe beneficio de seguir añadiendo muestras o evaluar la potencial ganancia de añadir más muestras en el conjunto de entrenamiento. Si alcanzamos una meseta y añadir nuevas muestras al conjunto de entrenamiento no reduce el error de prueba, es posible que hayamos alcanzado la tasa de error de Bayes utilizando el modelo disponible. El uso de un modelo más complejo podría ser la única posibilidad de reducir aún más el error de prueba."
   ]
  },
  {
   "cell_type": "markdown",
   "id": "d1d0a512-91ed-4557-af15-db7adbe38c28",
   "metadata": {
    "jupyter": {
     "outputs_hidden": false
    },
    "pycharm": {
     "name": "#%%\n"
    }
   },
   "source": [
    "# Resumen"
   ]
  },
  {
   "cell_type": "markdown",
   "id": "fdf9b622-7676-40f5-a7ec-116b2e17d564",
   "metadata": {},
   "source": [
    "+ El **overfitting** es causado por el tamaño limitado del conjunto de entrenamiento, el ruido en los datos y la alta flexibilidad de los modelos de machine learning comunes.\n",
    "\n",
    "+ El **underfitting** sucede cuando las funciones de predicción aprendidas sufren de **errores sistemáticos**. Esto se puede producir por la elección de la familia del modelo y los parámetros, lo cuales conducen a una **carencia de flexibilidad** para capturar la estructura repetible del verdadero proceso de generación de datos.\n",
    "\n",
    "+ Para un conjunto de entrenamiento dado, el objetivo es **minimizar el error de preba** ajustando la familia del modelo y sus parámetros para encontrar el **mejor equilibrio entre overfitting y underfitting**.\n",
    "\n",
    "+ Para una familia de modelo y parámetros dados, **incrementar el tamaño del conjunto de entrenamiento disminuirá el overfitting**, pero puede causar un incremento del underfitting.\n",
    "\n",
    "+ El error de prueba de un modelo que no tiene overfitting ni underfitting puede ser alto todavía si las variaciones de la variable objetivo no pueden ser determinadas completamente por las variables de entrada. Este error irreductible es causado por lo que algunas veces llamamos error de etiqueta. En la práctica, esto sucede a menudo cuando por una razón u otra no tenemos acceso a features importantes.\n",
    "\n",
    "Algunas referencias a seguir con ejemplos de algunos conceptos mencionados:\n",
    "\n",
    "+ [Ilustración de los conceptos de underfitting y overfitting](https://scikit-learn.org/stable/auto_examples/model_selection/plot_underfitting_overfitting.html#sphx-glr-auto-examples-model-selection-plot-underfitting-overfitting-py).\n",
    "+ [Diferencia entre puntuación de entrenamiento y prueba](https://scikit-learn.org/stable/auto_examples/model_selection/plot_train_error_vs_test_error.html#sphx-glr-auto-examples-model-selection-plot-train-error-vs-test-error-py).\n",
    "+ [Ejemplo de curva de validación](https://scikit-learn.org/stable/auto_examples/model_selection/plot_validation_curve.html#sphx-glr-auto-examples-model-selection-plot-validation-curve-py)"
   ]
  }
 ],
 "metadata": {
  "kernelspec": {
   "display_name": "Python 3",
   "language": "python",
   "name": "python3"
  },
  "language_info": {
   "codemirror_mode": {
    "name": "ipython",
    "version": 3
   },
   "file_extension": ".py",
   "mimetype": "text/x-python",
   "name": "python",
   "nbconvert_exporter": "python",
   "pygments_lexer": "ipython3",
   "version": "3.9.4"
  }
 },
 "nbformat": 4,
 "nbformat_minor": 5
}